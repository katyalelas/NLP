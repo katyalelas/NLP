{
  "nbformat": 4,
  "nbformat_minor": 0,
  "metadata": {
    "kernelspec": {
      "display_name": "Python 3",
      "language": "python",
      "name": "python3"
    },
    "language_info": {
      "codemirror_mode": {
        "name": "ipython",
        "version": 3
      },
      "file_extension": ".py",
      "mimetype": "text/x-python",
      "name": "python",
      "nbconvert_exporter": "python",
      "pygments_lexer": "ipython3",
      "version": "3.7.3"
    },
    "colab": {
      "name": "Practical_Course_05_Speech_Emotion_Classification_DONE_Klelas.ipynb",
      "provenance": [],
      "toc_visible": true,
      "include_colab_link": true
    },
    "accelerator": "GPU"
  },
  "cells": [
    {
      "cell_type": "markdown",
      "metadata": {
        "id": "view-in-github",
        "colab_type": "text"
      },
      "source": [
        "<a href=\"https://colab.research.google.com/github/katyalelas/NLP/blob/main/Practical_Course_05_Speech_Emotion_Classification_DONE_Klelas.ipynb\" target=\"_parent\"><img src=\"https://colab.research.google.com/assets/colab-badge.svg\" alt=\"Open In Colab\"/></a>"
      ]
    },
    {
      "cell_type": "markdown",
      "metadata": {
        "id": "WZTLh5i0UflE"
      },
      "source": [
        "# Speech Emotion Classification\n",
        "\n",
        "## SAVEE Database\n",
        "The database includes 4 participants, each acting 15 utterances for each of the 7 emotional states: 'anger', 'disgust', 'fear\n",
        "', 'happiness', 'neutral', 'sadness' and 'surprise'. \n",
        "\n",
        "The database also includes all frames of the video recorded while they were acting the emotional states. THe participants' faces were marked at the points of interest for facial recognition/analysis. \n",
        "\n",
        "An example of the facial markers is \n",
        "<img src=\"img/facial_markers.jpeg\">\n",
        "\n",
        "The facial markers have allready been extracted, so we can easilz use them as features."
      ]
    },
    {
      "cell_type": "code",
      "metadata": {
        "id": "Rz6cvWwSUflW"
      },
      "source": [
        "## Importing the needed packages\n",
        "import os \n",
        "import pandas as pd\n",
        "import numpy as np\n",
        "import librosa\n",
        "import tqdm"
      ],
      "execution_count": 1,
      "outputs": []
    },
    {
      "cell_type": "markdown",
      "metadata": {
        "id": "h-BjBkBYUflY"
      },
      "source": [
        "## MFCCs\n",
        "\n",
        "So lets have a quick recap of what MFCCs are. They are a 2d representation of sound which uses the frequency haracteristic of how we hear to represent the frequency response of any signal. We calculate them by:\n",
        "- calculating the spectrum of a signal\n",
        "- filtering the spectrum with wilters that corespond to the mel frequency scale\n",
        "- taking the DCT values of the coresponding filtered signals\n",
        "<img src=\"img/mfcc.png\">\n",
        "\n",
        "Thankfully, we dont have to implement that, because librosa has our backs. "
      ]
    },
    {
      "cell_type": "markdown",
      "metadata": {
        "id": "1pWxgW7wUfla"
      },
      "source": [
        "## Classifier building\n",
        "\n",
        "Now lets build our first classifier. We'll just split the input data, scale it and send it off to a SVM."
      ]
    },
    {
      "cell_type": "code",
      "metadata": {
        "id": "OBLBqsDqUflb"
      },
      "source": [
        "from sklearn.model_selection import train_test_split\n",
        "\n",
        "X = pd.read_csv(\"voice_data.csv\", index_col=None, header=[0])\n",
        "y = pd.read_csv(\"voice_labels.csv\", index_col=0, header=[0])\n",
        "\n",
        "X = X.values\n",
        "y = y[\"labels\"].values\n",
        "\n",
        "\n",
        "X_train, X_test, y_train, y_test = train_test_split(X, y, test_size=0.25, shuffle=False)"
      ],
      "execution_count": 3,
      "outputs": []
    },
    {
      "cell_type": "code",
      "metadata": {
        "colab": {
          "base_uri": "https://localhost:8080/"
        },
        "id": "C_btX5iaUflc",
        "outputId": "afe4cbc2-7120-491b-8904-ecbc0bcaaaef"
      },
      "source": [
        "\n",
        "y = pd.read_csv(\"voice_labels.csv\", index_col=0, header=[0])\n",
        "y.labels.unique()"
      ],
      "execution_count": 4,
      "outputs": [
        {
          "output_type": "execute_result",
          "data": {
            "text/plain": [
              "array(['neutral', 'happiness', 'sadness', 'disgust', 'fear', 'surprise',\n",
              "       'anger'], dtype=object)"
            ]
          },
          "metadata": {
            "tags": []
          },
          "execution_count": 4
        }
      ]
    },
    {
      "cell_type": "code",
      "metadata": {
        "id": "iQWYewT8Uflf"
      },
      "source": [
        ""
      ],
      "execution_count": null,
      "outputs": []
    },
    {
      "cell_type": "code",
      "metadata": {
        "colab": {
          "base_uri": "https://localhost:8080/"
        },
        "id": "yOw_5KSnUflg",
        "outputId": "89cd3577-de03-40ba-b789-540691add00e"
      },
      "source": [
        "from sklearn.svm import SVC\n",
        "from sklearn.metrics import accuracy_score, confusion_matrix\n",
        "from sklearn.preprocessing import StandardScaler\n",
        "\n",
        "scaler = StandardScaler()\n",
        "X_train = scaler.fit_transform(X_train)\n",
        "X_test = scaler.transform(X_test)\n",
        "\n",
        "clf = SVC()\n",
        "\n",
        "clf.fit(X_train, y_train)\n",
        "predicted = clf.predict(X_test)\n",
        "acc = accuracy_score(y_test, predicted)\n",
        "conf_mat = confusion_matrix(y_test, predicted)\n",
        "\n",
        "print(acc)\n",
        "print(conf_mat)"
      ],
      "execution_count": 5,
      "outputs": [
        {
          "output_type": "stream",
          "text": [
            "0.25\n",
            "[[ 0  0  0 15  0  0  0]\n",
            " [ 7  1  5  1  0  0  1]\n",
            " [ 0  0 13  1  0  0  1]\n",
            " [ 0  0  1 12  0  0  2]\n",
            " [ 5 11  7  7  0  0  0]\n",
            " [ 4  5  1  4  1  0  0]\n",
            " [ 0  0 10  1  0  0  4]]\n"
          ],
          "name": "stdout"
        }
      ]
    },
    {
      "cell_type": "code",
      "metadata": {
        "id": "crV86RE_Uflh",
        "outputId": "3de844ee-27a7-47ef-b17c-545eb68cd2d5"
      },
      "source": [
        "'anger', 'disgust', 'fear ', 'happiness', 'neutral', 'sadness' and 'surprise'"
      ],
      "execution_count": null,
      "outputs": [
        {
          "output_type": "execute_result",
          "data": {
            "text/plain": [
              "('anger', 'disgust', 'fear ', 'happiness', 'neutral', 'surprise')"
            ]
          },
          "metadata": {
            "tags": []
          },
          "execution_count": 5
        }
      ]
    },
    {
      "cell_type": "markdown",
      "metadata": {
        "id": "eHMPhM7AUflj"
      },
      "source": [
        "Now try to see what happens if we split the data without shuffling it by settting the shuffle flag in the train_test_split function to False"
      ]
    },
    {
      "cell_type": "markdown",
      "metadata": {
        "id": "bvYv_k3gUflk"
      },
      "source": [
        "## SPeaker based scaling/normalisation"
      ]
    },
    {
      "cell_type": "code",
      "metadata": {
        "id": "Kup63RRXUfll"
      },
      "source": [
        "class SpeakerBasedScaler:\n",
        "    \"\"\"\n",
        "    A class that implements speaker based normalisation of a provided dataset. \n",
        "\n",
        "    Check out possible scaling techniques at http://benalexkeen.com/feature-scaling-with-scikit-learn/\n",
        "\n",
        "    \"\"\"\n",
        "\n",
        "    def __init__(\n",
        "        self,\n",
        "        data: pd.DataFrame,\n",
        "        labels: pd.DataFrame,\n",
        "        speaker_col: str = 'subject',\n",
        "        norm_type: str = 'Standard'\n",
        "        ) -> None:\n",
        "\n",
        "        self.data = data\n",
        "        self.norm_data = data.copy()\n",
        "        self.labels = labels\n",
        "        self.speaker_col = speaker_col\n",
        "        self.norm_type = norm_type\n",
        "        self.speakers = labels[speaker_col].unique()\n",
        "        self.problematic_features = []\n",
        "    \n",
        "    def scale(self) -> pd.DataFrame:\n",
        "\n",
        "        for speaker in self.speakers:\n",
        "            for feature in self.data.columns.values:\n",
        "                speaker_idx = self.labels[self.speaker_col] == speaker\n",
        "                \n",
        "                vals = self.data.loc[speaker_idx, feature].values\n",
        "\n",
        "                if np.count_nonzero(np.isnan(vals)):\n",
        "                    print(\"nan value found in speaker: {} feature: {} \".format(speaker, feature))\n",
        "                    print(vals)\n",
        "\n",
        "                if self.norm_type == 'Standard':\n",
        "                    \n",
        "                    mu = np.nanmean(vals)\n",
        "                    sd = np.nanstd(vals)\n",
        "\n",
        "                    if sd == 0:\n",
        "                        self.problematic_features.append(feature)\n",
        "\n",
        "                    self.norm_data.loc[speaker_idx, feature] = (vals - mu) / sd\n",
        "                \n",
        "                elif self.norm_type == 'Robust':\n",
        "                    \n",
        "                    pass\n",
        "\n",
        "                elif self.norm_type == 'MinMax':\n",
        "                    \n",
        "                    min = np.nanmin(vals)\n",
        "                    max = np.nanmax(vals)\n",
        "                    minmax = max - min\n",
        "                    \n",
        "                    if minmax == 0:\n",
        "                        self.problematic_features.append(feature)\n",
        "\n",
        "                    self.norm_data.loc[speaker_idx, feature] = (vals - min) / minmax\n",
        "                    \n",
        "                    # TODO: not yet implemented other types of normalisation\n",
        "                elif self.norm_type == \"Mean\":\n",
        "                    mu = np.nanmean(vals)\n",
        "                    min = np.nanmin(vals)\n",
        "                    max = np.nanmax(vals)\n",
        "                    minmax = max - min\n",
        "                    if minmax == 0:\n",
        "                        self.problematic_features.append(feature)\n",
        "                    self.norm_data.loc[speaker_idx, feature] = (vals - mu) / minmax\n",
        "\n",
        "               \n",
        "                else:\n",
        "                   \n",
        "                    raise Exception('Unknown or not yet implemented scaling of type: {}.'.format(self.norm_type))\n",
        "        \n",
        "        print(set(self.problematic_features))\n",
        "        self.norm_data.drop(inplace=True, axis=1, labels=set(self.problematic_features))\n",
        "\n",
        "        return self.norm_data\n",
        "\n"
      ],
      "execution_count": 6,
      "outputs": []
    },
    {
      "cell_type": "code",
      "metadata": {
        "colab": {
          "base_uri": "https://localhost:8080/"
        },
        "id": "igkbJSheUfln",
        "outputId": "ea7bbd32-81b0-45ff-db5d-b24ffb415d4e"
      },
      "source": [
        "X = pd.read_csv(\"voice_data.csv\", index_col=None, header=[0])\n",
        "y = pd.read_csv(\"voice_labels.csv\", index_col=0, header=[0])\n",
        "\n",
        "scaler = SpeakerBasedScaler(X, y, speaker_col=\"subject\", norm_type=\"Standard\")\n",
        "X = scaler.scale()\n",
        "y = y[\"labels\"].values\n",
        "X_train, X_test, y_train, y_test = train_test_split(X, y, test_size=0.25, shuffle=False)\n",
        "\n",
        "clf = SVC()\n",
        "\n",
        "clf.fit(X_train, y_train)\n",
        "predicted = clf.predict(X_test)\n",
        "acc = accuracy_score(y_test, predicted)\n",
        "conf_mat = confusion_matrix(y_test, predicted)\n",
        "\n",
        "print(acc)\n",
        "print(conf_mat)"
      ],
      "execution_count": 7,
      "outputs": [
        {
          "output_type": "stream",
          "text": [
            "set()\n",
            "0.4166666666666667\n",
            "[[ 3  0  0 11  0  0  1]\n",
            " [ 1  3  2  0  3  4  2]\n",
            " [ 0  0  6  0  0  0  9]\n",
            " [ 0  0  0 11  0  0  4]\n",
            " [ 0  8  0  0 19  3  0]\n",
            " [ 1  3  0  0 10  1  0]\n",
            " [ 0  1  6  1  0  0  7]]\n"
          ],
          "name": "stdout"
        }
      ]
    },
    {
      "cell_type": "code",
      "metadata": {
        "id": "ti_sMhOWUflo"
      },
      "source": [
        ""
      ],
      "execution_count": null,
      "outputs": []
    },
    {
      "cell_type": "markdown",
      "metadata": {
        "id": "_pfvJvayUflp"
      },
      "source": [
        "Lets check out a different modality (faces)."
      ]
    },
    {
      "cell_type": "code",
      "metadata": {
        "colab": {
          "base_uri": "https://localhost:8080/"
        },
        "id": "LcwqI8MwUflq",
        "outputId": "2fbdb022-dcd8-4255-e957-86953d4ec971"
      },
      "source": [
        "X = pd.read_csv(\"face_data.csv\", index_col=None, header=[0])\n",
        "y = pd.read_csv(\"face_labels.csv\", index_col=0, header=[0])\n",
        "\n",
        "X = X.values\n",
        "y = y[\"labels\"].values\n",
        "\n",
        "\n",
        "X_train, X_test, y_train, y_test = train_test_split(X, y, test_size=0.25, shuffle=False)\n",
        "scaler = StandardScaler()\n",
        "X_train = scaler.fit_transform(X_train)\n",
        "X_test = scaler.transform(X_test)\n",
        "\n",
        "clf = SVC()\n",
        "\n",
        "clf.fit(X_train, y_train)\n",
        "predicted = clf.predict(X_test)\n",
        "acc = accuracy_score(y_test, predicted)\n",
        "conf_mat = confusion_matrix(y_test, predicted)\n",
        "\n",
        "print(acc)\n",
        "print(conf_mat)"
      ],
      "execution_count": 8,
      "outputs": [
        {
          "output_type": "stream",
          "text": [
            "0.125\n",
            "[[ 0 15  0  0  0  0  0]\n",
            " [ 0 15  0  0  0  0  0]\n",
            " [ 0 15  0  0  0  0  0]\n",
            " [ 0 15  0  0  0  0  0]\n",
            " [ 0 30  0  0  0  0  0]\n",
            " [ 0 15  0  0  0  0  0]\n",
            " [ 0 15  0  0  0  0  0]]\n"
          ],
          "name": "stdout"
        }
      ]
    },
    {
      "cell_type": "code",
      "metadata": {
        "id": "AzN9-wRWUflr",
        "outputId": "9f363a36-ff66-44b7-a0b7-eb90ac2eeae0"
      },
      "source": [
        "X = pd.read_csv(\"face_data.csv\", index_col=None, header=[0])\n",
        "y = pd.read_csv(\"face_labels.csv\", index_col=0, header=[0])\n",
        "\n",
        "scaler = SpeakerBasedScaler(X, y, speaker_col=\"subject\", norm_type=\"Standard\")\n",
        "X = scaler.scale()\n",
        "y = y[\"labels\"].values\n",
        "X_train, X_test, y_train, y_test = train_test_split(X, y, test_size=0.25, shuffle=False)\n",
        "\n",
        "clf = SVC()\n",
        "\n",
        "clf.fit(X_train, y_train)\n",
        "predicted = clf.predict(X_test)\n",
        "acc = accuracy_score(y_test, predicted)\n",
        "conf_mat = confusion_matrix(y_test, predicted)\n",
        "\n",
        "print(acc)\n",
        "print(conf_mat)"
      ],
      "execution_count": null,
      "outputs": [
        {
          "output_type": "stream",
          "text": [
            "C:\\Users\\katya\\Anaconda3\\Anaconda3.1\\lib\\site-packages\\ipykernel_launcher.py:45: RuntimeWarning: invalid value encountered in true_divide\n"
          ],
          "name": "stderr"
        },
        {
          "output_type": "stream",
          "text": [
            "{'90', '30', '119', '95'}\n",
            "0.6416666666666667\n",
            "[[ 7  0  1  0  7  0  0]\n",
            " [ 2  0 10  0  3  0  0]\n",
            " [ 0  0 13  0  0  2  0]\n",
            " [ 0  0  4 10  1  0  0]\n",
            " [ 0  0  4  1 25  0  0]\n",
            " [ 1  0  6  0  0  8  0]\n",
            " [ 0  1  0  0  0  0 14]]\n"
          ],
          "name": "stdout"
        }
      ]
    },
    {
      "cell_type": "code",
      "metadata": {
        "id": "sed3GIm_Uflu",
        "outputId": "b326b30d-daaf-4fe0-eb3c-28c61bef833e"
      },
      "source": [
        "X1 = pd.read_csv(\"face_data.csv\", index_col=None, header=[0])\n",
        "y1 = pd.read_csv(\"face_labels.csv\", index_col=0, header=[0])\n",
        "\n",
        "X2 = pd.read_csv(\"voice_data.csv\", index_col=None, header=[0])\n",
        "y2 = pd.read_csv(\"voice_labels.csv\", index_col=0, header=[0])\n",
        "\n",
        "X = pd.concat([X1, X2], axis=1)\n",
        "y = y2\n",
        "print(X.shape)\n",
        "scaler = SpeakerBasedScaler(X, y, speaker_col=\"subject\", norm_type=\"Standard\")\n",
        "X = scaler.scale()\n",
        "y = y[\"labels\"].values\n",
        "X_train, X_test, y_train, y_test = train_test_split(X, y, test_size=0.25, shuffle=False)\n",
        "\n",
        "clf = SVC()\n",
        "\n",
        "clf.fit(X_train, y_train)\n",
        "predicted = clf.predict(X_test)\n",
        "acc = accuracy_score(y_test, predicted)\n",
        "conf_mat = confusion_matrix(y_test, predicted)\n",
        "\n",
        "print(acc)\n",
        "print(conf_mat)"
      ],
      "execution_count": null,
      "outputs": [
        {
          "output_type": "stream",
          "text": [
            "(480, 160)\n"
          ],
          "name": "stdout"
        },
        {
          "output_type": "stream",
          "text": [
            "C:\\Users\\katya\\Anaconda3\\Anaconda3.1\\lib\\site-packages\\ipykernel_launcher.py:45: RuntimeWarning: invalid value encountered in true_divide\n"
          ],
          "name": "stderr"
        },
        {
          "output_type": "stream",
          "text": [
            "{'90', '119', '95'}\n",
            "0.4583333333333333\n",
            "[[ 4  0  1  3  0  0  7]\n",
            " [ 0  2  4  1  2  4  2]\n",
            " [ 0  0  9  0  0  0  6]\n",
            " [ 0  0  1 11  0  0  3]\n",
            " [ 2  8  0  0 20  0  0]\n",
            " [ 0  4  0  0 11  0  0]\n",
            " [ 0  1  5  0  0  0  9]]\n"
          ],
          "name": "stdout"
        }
      ]
    },
    {
      "cell_type": "code",
      "metadata": {
        "id": "A1XxdazhUflw"
      },
      "source": [
        "from typing import Tuple\n",
        "\n",
        "class SpeakerBasedCrossValidationIterator:\n",
        "    \"\"\"\n",
        "    A class that implements speaker based cross validation, iterates over the dataset input through the df DataFrame, \n",
        "    taking into account the speaker information input through the label_df DataFrame and speaker_col string.\n",
        "    returns:\n",
        "    \n",
        "    \"\"\"    \n",
        "    def __init__(\n",
        "        self,\n",
        "        df: pd.DataFrame,\n",
        "        label_df: pd.DataFrame,\n",
        "        n_folds: int,\n",
        "        speaker_col: str = 'Subject'\n",
        "        ) -> None:\n",
        "\n",
        "        self.data = df\n",
        "        self.labels = label_df\n",
        "        self.n_folds = n_folds\n",
        "        self.speaker_col = speaker_col\n",
        "        self.speakers = self.labels[self.speaker_col].unique()\n",
        "        \n",
        "    \n",
        "    def __iter__(self):\n",
        "        self.fold_size = len(self.speakers) // self.n_folds\n",
        "        self.last_fold_size = len(self.speakers) % self.n_folds + self.fold_size\n",
        "        self.fold_num = 0\n",
        "        return self\n",
        "    \n",
        "    def __next__(self) -> Tuple[pd.DataFrame]:\n",
        "        if self.n_folds == self.fold_num:\n",
        "            raise StopIteration\n",
        "        else:\n",
        "            if (self.fold_num + 1) < self.n_folds:\n",
        "                test_speakers = self.speakers[self.fold_num * self.fold_size : (self.fold_num + 1) * self.fold_size]\n",
        "            else:\n",
        "                test_speakers = self.speakers[-self.last_fold_size:]\n",
        "        \n",
        "        test_index = ~np.isin(self.speakers, test_speakers)\n",
        "        train_speakers = self.speakers.copy()\n",
        "        train_speakers = train_speakers[test_index]\n",
        "        self.fold_num += 1\n",
        "        \n",
        "        train_idx = self.labels[self.speaker_col].isin(train_speakers).values\n",
        "        test_idx = self.labels[self.speaker_col].isin(test_speakers).values\n",
        "        \n",
        "        return self.data.loc[train_idx], self.data.loc[test_idx], self.labels.loc[train_idx], self.labels.loc[test_idx]\n"
      ],
      "execution_count": 9,
      "outputs": []
    },
    {
      "cell_type": "code",
      "metadata": {
        "id": "3SvK0gsQUfly"
      },
      "source": [
        "X1 = pd.read_csv(\"face_data.csv\", index_col=None, header=[0])\n",
        "y1 = pd.read_csv(\"face_labels.csv\", index_col=0, header=[0])\n",
        "\n",
        "X2 = pd.read_csv(\"voice_data.csv\", index_col=None, header=[0])\n",
        "y2 = pd.read_csv(\"voice_labels.csv\", index_col=0, header=[0])\n",
        "\n",
        "# TODO use pd.concat on data vectors to easily implement early fusion\n",
        "\n",
        "scaler = SpeakerBasedScaler(X, y, speaker_col=\"subject\", norm_type=\"Standard\")\n",
        "X = scaler.scale()\n",
        "\n",
        "cv = SpeakerBasedCrossValidationIterator(X, y, 4, speaker_col=\"subject\")"
      ],
      "execution_count": null,
      "outputs": []
    },
    {
      "cell_type": "code",
      "metadata": {
        "scrolled": true,
        "id": "J-Vy9_CXUfl0"
      },
      "source": [
        "test_accuracies = []\n",
        "\n",
        "for X_train, X_test, y_train, y_test in cv:\n",
        "    clf = SVC()\n",
        "    \n",
        "    y_train = y_train[\"labels\"].values\n",
        "    y_test = y_test[\"labels\"].values\n",
        "    clf.fit(X_train, y_train)\n",
        "    predicted = clf.predict(X_test)\n",
        "    acc = accuracy_score(y_test, predicted)\n",
        "    \n",
        "    test_accuracies.append(acc)\n",
        "    conf_mat = confusion_matrix(y_test, predicted)\n",
        "\n",
        "    print(acc)\n",
        "    print(conf_mat)\n",
        "    \n",
        "print(np.mean(test_accuracies))"
      ],
      "execution_count": null,
      "outputs": []
    },
    {
      "cell_type": "code",
      "metadata": {
        "id": "8LugJl2lUfl1",
        "outputId": "ae428c64-c49d-4999-bbc1-ffdd8016af68"
      },
      "source": [
        "np.unique(predicted)"
      ],
      "execution_count": null,
      "outputs": [
        {
          "output_type": "execute_result",
          "data": {
            "text/plain": [
              "array(['anger', 'disgust', 'fear', 'happiness', 'neutral', 'sadness',\n",
              "       'surprise'], dtype=object)"
            ]
          },
          "metadata": {
            "tags": []
          },
          "execution_count": 49
        }
      ]
    },
    {
      "cell_type": "code",
      "metadata": {
        "id": "n75_DBwvUfl2"
      },
      "source": [
        "from sklearn.preprocessing import OneHotEncoder\n",
        "\n",
        "def oh_emotion(emotion):\n",
        "    print(emotion[\"labels\"])\n",
        "\n",
        "    \n",
        "resolve_dict = {\n",
        "    'anger': np.array([1, 0, 0, 0, 0, 0, 0]),\n",
        "    'disgust': np.array([0, 1, 0, 0, 0, 0, 0]),\n",
        "    'fear': np.array([0, 0, 1, 0, 0, 0, 0]),\n",
        "    'happiness': np.array([0, 0, 0, 1, 0, 0, 0]),\n",
        "    'neutral': np.array([0, 0, 0, 0, 1, 0, 0]),\n",
        "    'sadness': np.array([0, 0, 0, 0, 0, 1, 0]),\n",
        "    'surprise': np.array([0, 0, 0, 0, 0, 0, 1]),\n",
        "}"
      ],
      "execution_count": 12,
      "outputs": []
    },
    {
      "cell_type": "code",
      "metadata": {
        "id": "HZ4PMpxuUfl3",
        "outputId": "60cadb22-e0d0-4c87-b0bb-0eee0d823138"
      },
      "source": [
        "from sklearn.ensemble import VotingClassifier\n",
        "\n",
        "X1 = pd.read_csv(\"face_data.csv\", index_col=None, header=[0])\n",
        "y1 = pd.read_csv(\"face_labels.csv\", index_col=0, header=[0])\n",
        "\n",
        "X2 = pd.read_csv(\"voice_data.csv\", index_col=None, header=[0])\n",
        "y2 = pd.read_csv(\"voice_labels.csv\", index_col=0, header=[0])\n",
        "\n",
        "print(y1)\n",
        "\n",
        "#y1[\"encoded\"] = y1.apply(lambda row: resolve_dict[row[\"labels\"]], axis=1)\n",
        "#y2[\"encoded\"] = y2.apply(lambda row: resolve_dict[row[\"labels\"]], axis=1)\n",
        "\n",
        "print(y1.head())\n",
        "\n",
        "scaler = SpeakerBasedScaler(X1, y1, speaker_col=\"subject\", norm_type=\"Standard\")\n",
        "X1 = scaler.scale()\n",
        "\n",
        "scaler = SpeakerBasedScaler(X2, y2, speaker_col=\"subject\", norm_type=\"Standard\")\n",
        "X2 = scaler.scale()\n",
        "\n",
        "cv1 = SpeakerBasedCrossValidationIterator(X1, y1, 4, speaker_col=\"subject\")\n",
        "cv2 = SpeakerBasedCrossValidationIterator(X2, y2, 4, speaker_col=\"subject\")\n",
        "\n",
        "test_accuracies = []\n",
        "\n",
        "# X_train, X_test, y_train, y_test\n",
        "\n",
        "for (cv1, cv2) in zip(cv1, cv2):\n",
        "    X1_train = cv1[0]\n",
        "    X1_test = cv1[1]\n",
        "    y1_train = cv1[2]\n",
        "    y1_test = cv1[3]\n",
        "    \n",
        "    X2_train = cv2[0]\n",
        "    X2_test = cv2[1]\n",
        "    y2_train = cv2[2]\n",
        "    y2_test = cv2[3]\n",
        "\n",
        "#     y1_train = y1_train[\"encoded\"].values\n",
        "#     y2_train = y2_train[\"encoded\"].values\n",
        "#     y1_test = y1_test[\"encoded\"].values\n",
        "#     y2_test = y2_test[\"encoded\"].values\n",
        "    y1_train = y1_train[\"labels\"].values\n",
        "    y2_train = y2_train[\"labels\"].values\n",
        "    y1_test = y1_test[\"labels\"].values\n",
        "    y2_test = y2_test[\"labels\"].values\n",
        "    \n",
        "    clf1 = SVC(probability=True)\n",
        "    clf2 = SVC(probability=True)\n",
        "#     print(y1_train)\n",
        "    clf1.fit(X1_train, y1_train)\n",
        "    clf2.fit(X2_train, y2_train)\n",
        "    \n",
        "    \n",
        "    \n",
        "    # TODO: use predict_proba to get raw output probabilitis  \n",
        "    \n",
        "    # Implement the different decision logics tha use ouptu probabilities\n",
        "    # and calculate accuracies\n",
        "    \n",
        "    \n",
        "    \n"
      ],
      "execution_count": null,
      "outputs": [
        {
          "output_type": "stream",
          "text": [
            "    subject    labels\n",
            "0        DC     anger\n",
            "1        DC     anger\n",
            "2        DC     anger\n",
            "3        DC     anger\n",
            "4        DC     anger\n",
            "..      ...       ...\n",
            "475      KL  surprise\n",
            "476      KL  surprise\n",
            "477      KL  surprise\n",
            "478      KL  surprise\n",
            "479      KL  surprise\n",
            "\n",
            "[480 rows x 2 columns]\n",
            "  subject labels\n",
            "0      DC  anger\n",
            "1      DC  anger\n",
            "2      DC  anger\n",
            "3      DC  anger\n",
            "4      DC  anger\n"
          ],
          "name": "stdout"
        },
        {
          "output_type": "stream",
          "text": [
            "/Users/imijic/miniconda3/lib/python3.7/site-packages/ipykernel_launcher.py:45: RuntimeWarning: invalid value encountered in true_divide\n"
          ],
          "name": "stderr"
        },
        {
          "output_type": "stream",
          "text": [
            "{'119', '90', '95', '30'}\n",
            "set()\n",
            "[1 1 1 1 1 1 1 1 4 0 4 0 1 1 0 1 1 1 1 1 1 1 1 1 1 1 1 1 1 1 6 6 6 1 3 1 4\n",
            " 6 6 6 6 6 6 6 6 1 1 2 3 0 3 3 3 1 3 1 3 3 3 3 1 4 4 2 4 4 0 4 0 4 3 3 3 4\n",
            " 4 4 3 4 5 4 4 1 4 4 1 1 1 1 4 4 5 1 2 4 5 1 5 5 1 5 1 5 2 5 5 6 6 6 6 6 6\n",
            " 6 6 1 6 6 6 6 6 6]\n",
            "['neutral' 'neutral' 'happiness' 'sadness' 'happiness' 'sadness' 'disgust'\n",
            " 'disgust' 'sadness' 'happiness' 'sadness' 'happiness' 'neutral' 'neutral'\n",
            " 'neutral' 'neutral' 'fear' 'happiness' 'sadness' 'happiness' 'sadness'\n",
            " 'sadness' 'happiness' 'sadness' 'happiness' 'fear' 'neutral' 'neutral'\n",
            " 'neutral' 'neutral' 'neutral' 'happiness' 'sadness' 'sadness' 'happiness'\n",
            " 'neutral' 'neutral' 'neutral' 'neutral' 'sadness' 'happiness' 'sadness'\n",
            " 'sadness' 'happiness' 'happiness' 'neutral' 'neutral' 'surprise'\n",
            " 'surprise' 'anger' 'anger' 'surprise' 'surprise' 'anger' 'anger' 'anger'\n",
            " 'anger' 'surprise' 'surprise' 'anger' 'anger' 'anger' 'anger' 'surprise'\n",
            " 'surprise' 'surprise' 'anger' 'anger' 'anger' 'surprise' 'surprise'\n",
            " 'surprise' 'surprise' 'anger' 'anger' 'surprise' 'surprise' 'neutral'\n",
            " 'fear' 'disgust' 'disgust' 'disgust' 'fear' 'neutral' 'neutral' 'neutral'\n",
            " 'fear' 'disgust' 'disgust' 'fear' 'fear' 'neutral' 'neutral' 'neutral'\n",
            " 'neutral' 'neutral' 'fear' 'fear' 'disgust' 'disgust' 'disgust' 'disgust'\n",
            " 'fear' 'fear' 'neutral' 'neutral' 'neutral' 'fear' 'fear' 'happiness'\n",
            " 'sadness' 'disgust' 'disgust' 'disgust' 'disgust' 'sadness' 'happiness'\n",
            " 'fear' 'fear' 'neutral']\n",
            "0.0\n",
            "[4 4 1 1 0 1 1 1 4 6 1 1 4 4 4 1 1 1 0 3 5 5 1 1 1 1 4 4 4 4 4 5 5 5 5 4 4\n",
            " 4 4 5 3 5 5 5 5 4 4 3 2 0 3 3 2 0 3 3 3 2 3 1 0 0 0 1 2 6 0 0 0 3 6 3 3 0\n",
            " 0 2 3 4 2 4 1 4 2 4 4 4 3 1 5 3 5 4 4 4 4 4 2 5 5 5 5 5 5 5 4 4 4 2 2 2 6\n",
            " 4 6 6 6 6 6 2 6 4]\n",
            "['neutral' 'neutral' 'happiness' 'sadness' 'happiness' 'sadness' 'disgust'\n",
            " 'disgust' 'sadness' 'happiness' 'sadness' 'happiness' 'neutral' 'neutral'\n",
            " 'neutral' 'neutral' 'fear' 'happiness' 'sadness' 'happiness' 'sadness'\n",
            " 'sadness' 'happiness' 'sadness' 'happiness' 'fear' 'neutral' 'neutral'\n",
            " 'neutral' 'neutral' 'neutral' 'happiness' 'sadness' 'sadness' 'happiness'\n",
            " 'neutral' 'neutral' 'neutral' 'neutral' 'sadness' 'happiness' 'sadness'\n",
            " 'sadness' 'happiness' 'happiness' 'neutral' 'neutral' 'surprise'\n",
            " 'surprise' 'anger' 'anger' 'surprise' 'surprise' 'anger' 'anger' 'anger'\n",
            " 'anger' 'surprise' 'surprise' 'anger' 'anger' 'anger' 'anger' 'surprise'\n",
            " 'surprise' 'surprise' 'anger' 'anger' 'anger' 'surprise' 'surprise'\n",
            " 'surprise' 'surprise' 'anger' 'anger' 'surprise' 'surprise' 'neutral'\n",
            " 'fear' 'disgust' 'disgust' 'disgust' 'fear' 'neutral' 'neutral' 'neutral'\n",
            " 'fear' 'disgust' 'disgust' 'fear' 'fear' 'neutral' 'neutral' 'neutral'\n",
            " 'neutral' 'neutral' 'fear' 'fear' 'disgust' 'disgust' 'disgust' 'disgust'\n",
            " 'fear' 'fear' 'neutral' 'neutral' 'neutral' 'fear' 'fear' 'happiness'\n",
            " 'sadness' 'disgust' 'disgust' 'disgust' 'disgust' 'sadness' 'happiness'\n",
            " 'fear' 'fear' 'neutral']\n",
            "0.0\n",
            "[4 4 0 1 3 5 0 5 5 3 5 0 4 4 0 1 2 0 5 3 5 5 3 1 1 6 4 4 4 5 4 2 1 1 0 4 5\n",
            " 4 4 3 0 5 5 0 0 3 4 6 6 0 0 6 3 0 3 3 3 3 3 3 4 0 0 4 3 4 4 4 4 4 4 4 4 0\n",
            " 0 4 4 4 4 4 4 4 6 4 4 4 4 4 4 4 2 4 4 4 4 4 6 2 4 1 2 4 2 2 5 2 4 2 6 6 5\n",
            " 6 3 2 6 5 6 6 6 4]\n",
            "['neutral' 'neutral' 'happiness' 'sadness' 'happiness' 'sadness' 'disgust'\n",
            " 'disgust' 'sadness' 'happiness' 'sadness' 'happiness' 'neutral' 'neutral'\n",
            " 'neutral' 'neutral' 'fear' 'happiness' 'sadness' 'happiness' 'sadness'\n",
            " 'sadness' 'happiness' 'sadness' 'happiness' 'fear' 'neutral' 'neutral'\n",
            " 'neutral' 'neutral' 'neutral' 'happiness' 'sadness' 'sadness' 'happiness'\n",
            " 'neutral' 'neutral' 'neutral' 'neutral' 'sadness' 'happiness' 'sadness'\n",
            " 'sadness' 'happiness' 'happiness' 'neutral' 'neutral' 'surprise'\n",
            " 'surprise' 'anger' 'anger' 'surprise' 'surprise' 'anger' 'anger' 'anger'\n",
            " 'anger' 'surprise' 'surprise' 'anger' 'anger' 'anger' 'anger' 'surprise'\n",
            " 'surprise' 'surprise' 'anger' 'anger' 'anger' 'surprise' 'surprise'\n",
            " 'surprise' 'surprise' 'anger' 'anger' 'surprise' 'surprise' 'neutral'\n",
            " 'fear' 'disgust' 'disgust' 'disgust' 'fear' 'neutral' 'neutral' 'neutral'\n",
            " 'fear' 'disgust' 'disgust' 'fear' 'fear' 'neutral' 'neutral' 'neutral'\n",
            " 'neutral' 'neutral' 'fear' 'fear' 'disgust' 'disgust' 'disgust' 'disgust'\n",
            " 'fear' 'fear' 'neutral' 'neutral' 'neutral' 'fear' 'fear' 'happiness'\n",
            " 'sadness' 'disgust' 'disgust' 'disgust' 'disgust' 'sadness' 'happiness'\n",
            " 'fear' 'fear' 'neutral']\n",
            "0.0\n",
            "[4 4 3 4 6 4 5 0 4 6 0 3 4 4 4 4 2 3 4 6 4 5 3 4 2 2 4 1 1 4 2 2 1 1 3 5 1\n",
            " 2 2 2 2 4 2 2 2 1 1 6 3 3 3 6 3 3 3 3 3 2 3 0 4 4 3 2 2 2 3 4 3 2 2 6 6 2\n",
            " 0 2 6 4 6 2 2 1 4 4 4 4 4 4 4 6 2 4 1 5 4 4 2 2 4 2 2 5 2 2 5 6 6 2 6 3 5\n",
            " 6 5 5 6 4 6 6 2 4]\n",
            "['neutral' 'neutral' 'happiness' 'sadness' 'happiness' 'sadness' 'disgust'\n",
            " 'disgust' 'sadness' 'happiness' 'sadness' 'happiness' 'neutral' 'neutral'\n",
            " 'neutral' 'neutral' 'fear' 'happiness' 'sadness' 'happiness' 'sadness'\n",
            " 'sadness' 'happiness' 'sadness' 'happiness' 'fear' 'neutral' 'neutral'\n",
            " 'neutral' 'neutral' 'neutral' 'happiness' 'sadness' 'sadness' 'happiness'\n",
            " 'neutral' 'neutral' 'neutral' 'neutral' 'sadness' 'happiness' 'sadness'\n",
            " 'sadness' 'happiness' 'happiness' 'neutral' 'neutral' 'surprise'\n",
            " 'surprise' 'anger' 'anger' 'surprise' 'surprise' 'anger' 'anger' 'anger'\n",
            " 'anger' 'surprise' 'surprise' 'anger' 'anger' 'anger' 'anger' 'surprise'\n",
            " 'surprise' 'surprise' 'anger' 'anger' 'anger' 'surprise' 'surprise'\n",
            " 'surprise' 'surprise' 'anger' 'anger' 'surprise' 'surprise' 'neutral'\n",
            " 'fear' 'disgust' 'disgust' 'disgust' 'fear' 'neutral' 'neutral' 'neutral'\n",
            " 'fear' 'disgust' 'disgust' 'fear' 'fear' 'neutral' 'neutral' 'neutral'\n",
            " 'neutral' 'neutral' 'fear' 'fear' 'disgust' 'disgust' 'disgust' 'disgust'\n",
            " 'fear' 'fear' 'neutral' 'neutral' 'neutral' 'fear' 'fear' 'happiness'\n",
            " 'sadness' 'disgust' 'disgust' 'disgust' 'disgust' 'sadness' 'happiness'\n",
            " 'fear' 'fear' 'neutral']\n",
            "0.0\n"
          ],
          "name": "stdout"
        }
      ]
    },
    {
      "cell_type": "code",
      "metadata": {
        "id": "xoZNPHwWUfl5"
      },
      "source": [
        "from sklearn.ensemble import VotingClassifier\n",
        "from sklearn.metrics import accuracy_score \n",
        "\n",
        "X1 = pd.read_csv(\"face_data.csv\", index_col=None, header=[0])\n",
        "y1 = pd.read_csv(\"face_labels.csv\", index_col=0, header=[0])\n",
        "\n",
        "X2 = pd.read_csv(\"voice_data.csv\", index_col=None, header=[0])\n",
        "y2 = pd.read_csv(\"voice_labels.csv\", index_col=0, header=[0])\n"
      ],
      "execution_count": 21,
      "outputs": []
    },
    {
      "cell_type": "code",
      "metadata": {
        "id": "BooHh8vXUfl5",
        "outputId": "c473c347-c03c-45e7-dda0-5bcb71a3f2c4"
      },
      "source": [
        "y1.head()"
      ],
      "execution_count": null,
      "outputs": [
        {
          "output_type": "execute_result",
          "data": {
            "text/html": [
              "<div>\n",
              "<style scoped>\n",
              "    .dataframe tbody tr th:only-of-type {\n",
              "        vertical-align: middle;\n",
              "    }\n",
              "\n",
              "    .dataframe tbody tr th {\n",
              "        vertical-align: top;\n",
              "    }\n",
              "\n",
              "    .dataframe thead th {\n",
              "        text-align: right;\n",
              "    }\n",
              "</style>\n",
              "<table border=\"1\" class=\"dataframe\">\n",
              "  <thead>\n",
              "    <tr style=\"text-align: right;\">\n",
              "      <th></th>\n",
              "      <th>subject</th>\n",
              "      <th>labels</th>\n",
              "    </tr>\n",
              "  </thead>\n",
              "  <tbody>\n",
              "    <tr>\n",
              "      <th>0</th>\n",
              "      <td>DC</td>\n",
              "      <td>anger</td>\n",
              "    </tr>\n",
              "    <tr>\n",
              "      <th>1</th>\n",
              "      <td>DC</td>\n",
              "      <td>anger</td>\n",
              "    </tr>\n",
              "    <tr>\n",
              "      <th>2</th>\n",
              "      <td>DC</td>\n",
              "      <td>anger</td>\n",
              "    </tr>\n",
              "    <tr>\n",
              "      <th>3</th>\n",
              "      <td>DC</td>\n",
              "      <td>anger</td>\n",
              "    </tr>\n",
              "    <tr>\n",
              "      <th>4</th>\n",
              "      <td>DC</td>\n",
              "      <td>anger</td>\n",
              "    </tr>\n",
              "  </tbody>\n",
              "</table>\n",
              "</div>"
            ],
            "text/plain": [
              "  subject labels\n",
              "0      DC  anger\n",
              "1      DC  anger\n",
              "2      DC  anger\n",
              "3      DC  anger\n",
              "4      DC  anger"
            ]
          },
          "metadata": {
            "tags": []
          },
          "execution_count": 25
        }
      ]
    },
    {
      "cell_type": "code",
      "metadata": {
        "id": "2C9rJZ_8Ufl7",
        "outputId": "6c0f54ae-8ba0-4750-906b-cca45be6102d"
      },
      "source": [
        "y1.labels.value_counts()"
      ],
      "execution_count": null,
      "outputs": [
        {
          "output_type": "execute_result",
          "data": {
            "text/plain": [
              "neutral      120\n",
              "fear          60\n",
              "surprise      60\n",
              "disgust       60\n",
              "happiness     60\n",
              "sadness       60\n",
              "anger         60\n",
              "Name: labels, dtype: int64"
            ]
          },
          "metadata": {
            "tags": []
          },
          "execution_count": 28
        }
      ]
    },
    {
      "cell_type": "code",
      "metadata": {
        "colab": {
          "base_uri": "https://localhost:8080/"
        },
        "id": "zt0m-ErpUfl8",
        "outputId": "0fa903d9-6ff9-4a5b-c02b-2db948b114fc"
      },
      "source": [
        "print(y1)\n",
        "\n",
        "#y1[\"encoded\"] = y1.apply(lambda row: resolve_dict[row[\"labels\"]], axis=1)\n",
        "#y2[\"encoded\"] = y2.apply(lambda row: resolve_dict[row[\"labels\"]], axis=1)\n",
        "\n",
        "print(y1.head())\n",
        "\n",
        "scaler = SpeakerBasedScaler(X1, y1, speaker_col=\"subject\", norm_type=\"Standard\")\n",
        "X1 = scaler.scale()\n",
        "\n",
        "scaler = SpeakerBasedScaler(X2, y2, speaker_col=\"subject\", norm_type=\"Standard\")\n",
        "X2 = scaler.scale()\n",
        "\n",
        "cv1 = SpeakerBasedCrossValidationIterator(X1, y1, 4, speaker_col=\"subject\")\n",
        "cv2 = SpeakerBasedCrossValidationIterator(X2, y2, 4, speaker_col=\"subject\")\n",
        "\n",
        "test_accuracies = []"
      ],
      "execution_count": 22,
      "outputs": [
        {
          "output_type": "stream",
          "text": [
            "    subject    labels\n",
            "0        DC     anger\n",
            "1        DC     anger\n",
            "2        DC     anger\n",
            "3        DC     anger\n",
            "4        DC     anger\n",
            "..      ...       ...\n",
            "475      KL  surprise\n",
            "476      KL  surprise\n",
            "477      KL  surprise\n",
            "478      KL  surprise\n",
            "479      KL  surprise\n",
            "\n",
            "[480 rows x 2 columns]\n",
            "  subject labels\n",
            "0      DC  anger\n",
            "1      DC  anger\n",
            "2      DC  anger\n",
            "3      DC  anger\n",
            "4      DC  anger\n"
          ],
          "name": "stdout"
        },
        {
          "output_type": "stream",
          "text": [
            "/usr/local/lib/python3.6/dist-packages/ipykernel_launcher.py:45: RuntimeWarning: invalid value encountered in true_divide\n"
          ],
          "name": "stderr"
        },
        {
          "output_type": "stream",
          "text": [
            "{'30', '95', '119', '90'}\n",
            "set()\n"
          ],
          "name": "stdout"
        }
      ]
    },
    {
      "cell_type": "code",
      "metadata": {
        "colab": {
          "base_uri": "https://localhost:8080/"
        },
        "id": "B0HF5Pm9Ufl-",
        "outputId": "1c71f145-495c-4e18-a707-304d4d1197ca"
      },
      "source": [
        "from sklearn.ensemble import VotingClassifier\n",
        "from sklearn.metrics import accuracy_score, log_loss\n",
        "\n",
        "X1 = pd.read_csv(\"face_data.csv\", index_col=None, header=[0])\n",
        "y1 = pd.read_csv(\"face_labels.csv\", index_col=0, header=[0])\n",
        "\n",
        "X2 = pd.read_csv(\"voice_data.csv\", index_col=None, header=[0])\n",
        "y2 = pd.read_csv(\"voice_labels.csv\", index_col=0, header=[0])\n",
        "\n",
        "print(y1)\n",
        "\n",
        "#y1[\"encoded\"] = y1.apply(lambda row: resolve_dict[row[\"labels\"]], axis=1)\n",
        "#y2[\"encoded\"] = y2.apply(lambda row: resolve_dict[row[\"labels\"]], axis=1)\n",
        "\n",
        "print(y1.head())\n",
        "\n",
        "scaler = SpeakerBasedScaler(X1, y1, speaker_col=\"subject\", norm_type=\"Standard\")\n",
        "X1 = scaler.scale()\n",
        "\n",
        "scaler = SpeakerBasedScaler(X2, y2, speaker_col=\"subject\", norm_type=\"Standard\")\n",
        "X2 = scaler.scale()\n",
        "\n",
        "cv1 = SpeakerBasedCrossValidationIterator(X1, y1, 4, speaker_col=\"subject\")\n",
        "cv2 = SpeakerBasedCrossValidationIterator(X2, y2, 4, speaker_col=\"subject\")\n",
        "\n",
        "test_accuracies = []\n",
        "\n",
        "# X_train, X_test, y_train, y_test\n",
        "\n",
        "for (cv1, cv2) in zip(cv1, cv2):\n",
        "    X1_train = cv1[0]\n",
        "    X1_test = cv1[1]\n",
        "    y1_train = cv1[2]\n",
        "    y1_test = cv1[3]\n",
        "    \n",
        "    X2_train = cv2[0]\n",
        "    X2_test = cv2[1]\n",
        "    y2_train = cv2[2]\n",
        "    y2_test = cv2[3]\n",
        "\n",
        "#     y1_train = y1_train[\"encoded\"].values\n",
        "#     y2_train = y2_train[\"encoded\"].values\n",
        "#     y1_test = y1_test[\"encoded\"].values\n",
        "#     y2_test = y2_test[\"encoded\"].values\n",
        "    y1_train = y1_train[\"labels\"].values\n",
        "    y2_train = y2_train[\"labels\"].values\n",
        "    y1_test = y1_test[\"labels\"].values\n",
        "    y2_test = y2_test[\"labels\"].values\n",
        "    \n",
        "    clf1 = SVC(probability=True)\n",
        "    clf2 = SVC(probability=True)\n",
        "#     print(y1_train)\n",
        "    clf1.fit(X1_train, y1_train)\n",
        "    clf2.fit(X2_train, y2_train)\n",
        "    \n",
        "    # TODO: use predict_proba to get raw output probabilitis  \n",
        "    \n",
        "    \n",
        "    predictions1=clf1.predict(X1_test)\n",
        "    predictions2=clf2.predict(X2_test)\n",
        "    probabilities1=clf1.predict_proba(X1_test) #gives the probabilities of each target class\n",
        "    probabilities2=clf2.predict_proba(X2_test)\n",
        "    \n",
        "    \n",
        "    score1 = accuracy_score(y1_test, predictions1)\n",
        "    score2 = accuracy_score(y2_test, predictions2)\n",
        "\n",
        "    print(\"Accuracy (face data) = \" , score1)\n",
        "    print(\"Accuracy (voice data) = \" , score2)\n",
        "\n",
        "    \n",
        "    from sklearn.metrics import log_loss\n",
        "    cross_entropy_loss1=log_loss(y1_test, probabilities1)\n",
        "    cross_entropy_loss2=log_loss(y2_test, probabilities2)\n",
        "    print()\n",
        "    print( \"cross-entropy loss (face data) =\", cross_entropy_loss1, \"cross-entropy loss (voice data) = \", cross_entropy_loss2)\n",
        "  \n",
        "    \n",
        "    # Implement the different decision logics tha use ouptu probabilities\n",
        "    # and calculate accuracies\n",
        "    \n",
        "    \n",
        "    \n"
      ],
      "execution_count": 43,
      "outputs": [
        {
          "output_type": "stream",
          "text": [
            "    subject    labels\n",
            "0        DC     anger\n",
            "1        DC     anger\n",
            "2        DC     anger\n",
            "3        DC     anger\n",
            "4        DC     anger\n",
            "..      ...       ...\n",
            "475      KL  surprise\n",
            "476      KL  surprise\n",
            "477      KL  surprise\n",
            "478      KL  surprise\n",
            "479      KL  surprise\n",
            "\n",
            "[480 rows x 2 columns]\n",
            "  subject labels\n",
            "0      DC  anger\n",
            "1      DC  anger\n",
            "2      DC  anger\n",
            "3      DC  anger\n",
            "4      DC  anger\n"
          ],
          "name": "stdout"
        },
        {
          "output_type": "stream",
          "text": [
            "/usr/local/lib/python3.6/dist-packages/ipykernel_launcher.py:45: RuntimeWarning: invalid value encountered in true_divide\n"
          ],
          "name": "stderr"
        },
        {
          "output_type": "stream",
          "text": [
            "{'30', '95', '119', '90'}\n",
            "set()\n",
            "Accuracy (face data) =  0.75\n",
            "Accuracy (voice data) =  0.2916666666666667\n",
            "\n",
            "cross-entropy loss (face data) = 0.8892664570401568 cross-entropy loss (voice data) =  2.087995214343913\n",
            "Accuracy (face data) =  0.5083333333333333\n",
            "Accuracy (voice data) =  0.6666666666666666\n",
            "\n",
            "cross-entropy loss (face data) = 1.0794375399260683 cross-entropy loss (voice data) =  0.8404434522044473\n",
            "Accuracy (face data) =  0.7166666666666667\n",
            "Accuracy (voice data) =  0.65\n",
            "\n",
            "cross-entropy loss (face data) = 0.8679663865420495 cross-entropy loss (voice data) =  0.9472009312800286\n",
            "Accuracy (face data) =  0.6416666666666667\n",
            "Accuracy (voice data) =  0.4166666666666667\n",
            "\n",
            "cross-entropy loss (face data) = 1.2048192625406897 cross-entropy loss (voice data) =  1.4060099671623216\n"
          ],
          "name": "stdout"
        }
      ]
    },
    {
      "cell_type": "code",
      "metadata": {
        "colab": {
          "base_uri": "https://localhost:8080/"
        },
        "id": "8sfuhawjY_7F",
        "outputId": "bc3036d8-4ba6-4f29-9808-faeb36878989"
      },
      "source": [
        "y1_test"
      ],
      "execution_count": 41,
      "outputs": [
        {
          "output_type": "execute_result",
          "data": {
            "text/plain": [
              "array(['anger', 'anger', 'anger', 'anger', 'anger', 'anger', 'anger',\n",
              "       'anger', 'anger', 'anger', 'anger', 'anger', 'anger', 'anger',\n",
              "       'anger', 'disgust', 'disgust', 'disgust', 'disgust', 'disgust',\n",
              "       'disgust', 'disgust', 'disgust', 'disgust', 'disgust', 'disgust',\n",
              "       'disgust', 'disgust', 'disgust', 'disgust', 'fear', 'fear', 'fear',\n",
              "       'fear', 'fear', 'fear', 'fear', 'fear', 'fear', 'fear', 'fear',\n",
              "       'fear', 'fear', 'fear', 'fear', 'happiness', 'happiness',\n",
              "       'happiness', 'happiness', 'happiness', 'happiness', 'happiness',\n",
              "       'happiness', 'happiness', 'happiness', 'happiness', 'happiness',\n",
              "       'happiness', 'happiness', 'happiness', 'neutral', 'neutral',\n",
              "       'neutral', 'neutral', 'neutral', 'neutral', 'neutral', 'neutral',\n",
              "       'neutral', 'neutral', 'neutral', 'neutral', 'neutral', 'neutral',\n",
              "       'neutral', 'neutral', 'neutral', 'neutral', 'neutral', 'neutral',\n",
              "       'neutral', 'neutral', 'neutral', 'neutral', 'neutral', 'neutral',\n",
              "       'neutral', 'neutral', 'neutral', 'neutral', 'sadness', 'sadness',\n",
              "       'sadness', 'sadness', 'sadness', 'sadness', 'sadness', 'sadness',\n",
              "       'sadness', 'sadness', 'sadness', 'sadness', 'sadness', 'sadness',\n",
              "       'sadness', 'surprise', 'surprise', 'surprise', 'surprise',\n",
              "       'surprise', 'surprise', 'surprise', 'surprise', 'surprise',\n",
              "       'surprise', 'surprise', 'surprise', 'surprise', 'surprise',\n",
              "       'surprise'], dtype=object)"
            ]
          },
          "metadata": {
            "tags": []
          },
          "execution_count": 41
        }
      ]
    },
    {
      "cell_type": "code",
      "metadata": {
        "colab": {
          "base_uri": "https://localhost:8080/"
        },
        "id": "JZdcF5b_Ufl_",
        "outputId": "d64061c0-cbe1-4e19-88bd-9893bf1b9b88"
      },
      "source": [
        "probabilities1[:, 0] # probabilites for the 1st class"
      ],
      "execution_count": 40,
      "outputs": [
        {
          "output_type": "execute_result",
          "data": {
            "text/plain": [
              "array([0.37015047, 0.13757426, 0.498654  , 0.30846648, 0.24971194,\n",
              "       0.22134753, 0.25462919, 0.13839954, 0.34281671, 0.40540266,\n",
              "       0.3078085 , 0.508736  , 0.24666688, 0.24435996, 0.13614444,\n",
              "       0.23774591, 0.1313922 , 0.1822013 , 0.16490312, 0.11152319,\n",
              "       0.08982953, 0.18982303, 0.1455407 , 0.14521133, 0.11864425,\n",
              "       0.16456105, 0.12391371, 0.11171126, 0.10162574, 0.10060283,\n",
              "       0.07227388, 0.16323279, 0.1720238 , 0.15805841, 0.23917082,\n",
              "       0.13297315, 0.12892882, 0.03359793, 0.04385446, 0.02836369,\n",
              "       0.05493279, 0.03679803, 0.02670541, 0.04099123, 0.09884307,\n",
              "       0.08642242, 0.05087534, 0.03773334, 0.03679619, 0.02701398,\n",
              "       0.03509982, 0.02416528, 0.06671025, 0.06320882, 0.07618733,\n",
              "       0.0775299 , 0.04378611, 0.07261062, 0.05614021, 0.05754928,\n",
              "       0.02735267, 0.0240948 , 0.02193058, 0.02213939, 0.02067531,\n",
              "       0.01908135, 0.12560722, 0.0598714 , 0.05180989, 0.06644071,\n",
              "       0.05816235, 0.03500158, 0.06037566, 0.01913449, 0.0232307 ,\n",
              "       0.02086805, 0.01997615, 0.02295745, 0.07133975, 0.07624867,\n",
              "       0.07034696, 0.03071345, 0.02572186, 0.02950946, 0.02433801,\n",
              "       0.0273932 , 0.0247313 , 0.02392008, 0.02510299, 0.02602525,\n",
              "       0.26294577, 0.08694456, 0.12172387, 0.06266867, 0.06468581,\n",
              "       0.08152719, 0.18632592, 0.17861335, 0.24623577, 0.12941786,\n",
              "       0.21982193, 0.11168852, 0.08172065, 0.16006299, 0.0908654 ,\n",
              "       0.0484324 , 0.03377803, 0.08634047, 0.20851459, 0.07511681,\n",
              "       0.0634201 , 0.02719121, 0.01664614, 0.03367931, 0.02232134,\n",
              "       0.0303312 , 0.09512097, 0.08925341, 0.07030859, 0.04103781])"
            ]
          },
          "metadata": {
            "tags": []
          },
          "execution_count": 40
        }
      ]
    },
    {
      "cell_type": "code",
      "metadata": {
        "colab": {
          "base_uri": "https://localhost:8080/"
        },
        "id": "AUeMamDAUfmA",
        "outputId": "51750aa2-add7-42ce-d78e-64ac17577366"
      },
      "source": [
        "clf1.classes_"
      ],
      "execution_count": 25,
      "outputs": [
        {
          "output_type": "execute_result",
          "data": {
            "text/plain": [
              "array(['anger', 'disgust', 'fear', 'happiness', 'neutral', 'sadness',\n",
              "       'surprise'], dtype=object)"
            ]
          },
          "metadata": {
            "tags": []
          },
          "execution_count": 25
        }
      ]
    },
    {
      "cell_type": "code",
      "metadata": {
        "colab": {
          "base_uri": "https://localhost:8080/"
        },
        "id": "JiKdOPxGYyEe",
        "outputId": "1c4b2862-187f-42c4-da78-78d6e3f2acbb"
      },
      "source": [
        "probabilities1[0, :] # anger"
      ],
      "execution_count": 39,
      "outputs": [
        {
          "output_type": "execute_result",
          "data": {
            "text/plain": [
              "array([0.37015047, 0.15048662, 0.21609726, 0.03129923, 0.14069492,\n",
              "       0.06655781, 0.02471369])"
            ]
          },
          "metadata": {
            "tags": []
          },
          "execution_count": 39
        }
      ]
    },
    {
      "cell_type": "code",
      "metadata": {
        "colab": {
          "base_uri": "https://localhost:8080/"
        },
        "id": "pTgPCOzlY7PC",
        "outputId": "7e548d75-9354-4e81-956d-32da969111a6"
      },
      "source": [
        "probabilities1[25, :] #fear"
      ],
      "execution_count": 42,
      "outputs": [
        {
          "output_type": "execute_result",
          "data": {
            "text/plain": [
              "array([0.16456105, 0.12285436, 0.29366317, 0.02790483, 0.17719637,\n",
              "       0.06117327, 0.15264695])"
            ]
          },
          "metadata": {
            "tags": []
          },
          "execution_count": 42
        }
      ]
    },
    {
      "cell_type": "code",
      "metadata": {
        "id": "cvxIOGXsZL52"
      },
      "source": [
        ""
      ],
      "execution_count": null,
      "outputs": []
    }
  ]
}