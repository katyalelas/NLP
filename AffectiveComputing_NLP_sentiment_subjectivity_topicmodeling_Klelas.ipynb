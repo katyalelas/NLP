{
  "nbformat": 4,
  "nbformat_minor": 0,
  "metadata": {
    "colab": {
      "name": "AffectiveComputing_NLP_sentiment_subjectivity_topicmodeling_Klelas.ipynb",
      "provenance": [],
      "collapsed_sections": [
        "f-aN1NDC2iOi",
        "I_iqczTGxuKa"
      ],
      "authorship_tag": "ABX9TyOqdBN631he3+htFVE2a7BZ",
      "include_colab_link": true
    },
    "kernelspec": {
      "name": "python3",
      "display_name": "Python 3"
    },
    "accelerator": "GPU"
  },
  "cells": [
    {
      "cell_type": "markdown",
      "metadata": {
        "id": "view-in-github",
        "colab_type": "text"
      },
      "source": [
        "<a href=\"https://colab.research.google.com/github/katyalelas/NLP/blob/main/AffectiveComputing_NLP_sentiment_subjectivity_topicmodeling_Klelas.ipynb\" target=\"_parent\"><img src=\"https://colab.research.google.com/assets/colab-badge.svg\" alt=\"Open In Colab\"/></a>"
      ]
    },
    {
      "cell_type": "markdown",
      "metadata": {
        "id": "F49kVJZvs3Hx"
      },
      "source": [
        "Project for the course Affective Computing at Algebra UC\r\n",
        "\"NLP - sentimet analysis and topic modeling with TextBlob, LDP\"\r\n",
        "\r\n"
      ]
    },
    {
      "cell_type": "code",
      "metadata": {
        "id": "DFo2-C7Rm-J-",
        "colab": {
          "base_uri": "https://localhost:8080/"
        },
        "outputId": "b29c5f15-381c-469b-9201-c7566512a581"
      },
      "source": [
        "import pandas as pd\r\n",
        "import numpy as np\r\n",
        "import matplotlib.pyplot as plt\r\n",
        "%matplotlib inline\r\n",
        "import tweepy\r\n",
        "from textblob import TextBlob\r\n",
        "import re\r\n",
        "from sklearn.feature_extraction.text import TfidfVectorizer\r\n",
        "import gensim\r\n",
        "from gensim.utils import simple_preprocess\r\n",
        "from gensim.parsing.preprocessing import STOPWORDS\r\n",
        "from nltk.stem import WordNetLemmatizer, SnowballStemmer\r\n",
        "from nltk.stem.porter import *\r\n",
        "import datetime\r\n",
        "from nltk.tokenize import sent_tokenize, word_tokenize\r\n",
        "import nltk\r\n",
        "import random\r\n",
        "nltk.download('punkt')\r\n",
        "nltk.download('averaged_perceptron_tagger')\r\n",
        "nltk.download('wordnet')\r\n",
        "from textblob import Word"
      ],
      "execution_count": 1,
      "outputs": [
        {
          "output_type": "stream",
          "text": [
            "[nltk_data] Downloading package punkt to /root/nltk_data...\n",
            "[nltk_data]   Unzipping tokenizers/punkt.zip.\n",
            "[nltk_data] Downloading package averaged_perceptron_tagger to\n",
            "[nltk_data]     /root/nltk_data...\n",
            "[nltk_data]   Unzipping taggers/averaged_perceptron_tagger.zip.\n",
            "[nltk_data] Downloading package wordnet to /root/nltk_data...\n",
            "[nltk_data]   Unzipping corpora/wordnet.zip.\n"
          ],
          "name": "stdout"
        }
      ]
    },
    {
      "cell_type": "markdown",
      "metadata": {
        "id": "NY5MiD8ByPuq"
      },
      "source": [
        "**Part one: Twitter data. Analysis of 3200 most recent tweets of the user @UN.** \r\n",
        "\r\n",
        "  \r\n",
        "\r\n",
        "> I used TextBlob library to give polarity and subjectivity scores to the tweets of the @UN user, also based on the number of retweets and likes I assigned a feature \"popular\" indicating if a tweet has collected more than average number of likes and retweets all together and applied a simple binary classification machine learning models. The data preprocessing was made in few steps using noise removal with regular expressions, normalization, in particular stemming and lemmatization with libraries , and tokenization\r\n",
        "\r\n",
        "\r\n",
        " "
      ]
    },
    {
      "cell_type": "markdown",
      "metadata": {
        "id": "f-aN1NDC2iOi"
      },
      "source": [
        "# Collect data from twitter"
      ]
    },
    {
      "cell_type": "code",
      "metadata": {
        "id": "7d-itJdPqHmF"
      },
      "source": [
        "ACCESS_TOKEN=\"1114257900657106945-1dCAiAhqC8Dn7N0SYchfrcPBJNnO3R\"\r\n",
        "ACCESS_TOKEN_SECRET=\"9q6svuksiWxwxYggI5hVWgY8ZLrXESSMUAnGYNkEp97By\"\r\n",
        "CONSUMER_SECRET=\"g4CkmDKmbv2jNxm2yQOmth8NWOthgCgDSZGP1vBRuP5v4g6ZhD\"\r\n",
        "CONSUMER_KEY=\"eOqXos4xUTFpuv0uxPYCvRIpH\""
      ],
      "execution_count": 4,
      "outputs": []
    },
    {
      "cell_type": "code",
      "metadata": {
        "id": "C1q9Xn9aqbYn"
      },
      "source": [
        "def twitter_setup():\r\n",
        "    # Authentication and access using keys:\r\n",
        "    auth = tweepy.OAuthHandler(CONSUMER_KEY, CONSUMER_SECRET) # Authorization to consumer key and consumer secret\r\n",
        "    auth.set_access_token(ACCESS_TOKEN, ACCESS_TOKEN_SECRET) # Access to user's access key and access secret \r\n",
        "    api = tweepy.API(auth)  # Return API with authentication:\r\n",
        "    return api    \r\n",
        "api=twitter_setup()"
      ],
      "execution_count": null,
      "outputs": []
    },
    {
      "cell_type": "code",
      "metadata": {
        "id": "rdn0m3PRqhFA"
      },
      "source": [
        "\r\n",
        "def get_all_tweets(screen_name):\r\n",
        "    alltweets = []  \r\n",
        "    new_tweets = api.user_timeline(screen_name = screen_name, count=200) # (200 is the maximum allowed count)    \r\n",
        "    alltweets.extend(new_tweets) # save recent tweets\r\n",
        "    oldest = alltweets[-1].id - 1  #save the id of the oldest tweet less one\r\n",
        "    \r\n",
        "    #keep grabbing tweets until there are no tweets left to grab\r\n",
        "    while len(new_tweets) > 0:\r\n",
        "        print(f\"getting tweets before {oldest}\")\r\n",
        "        new_tweets = api.user_timeline(screen_name = screen_name,count=200,max_id=oldest)  #all subsiquent requests use the max_id param to prevent duplicates\r\n",
        "        alltweets.extend(new_tweets) \r\n",
        "        oldest = alltweets[-1].id - 1   #update the id of the oldest tweet less one\r\n",
        "        print(f\"...{len(alltweets)} tweets downloaded so far\")\r\n",
        "        \r\n",
        "    outtweets = [[tweet.id_str, tweet.created_at, tweet.text, tweet.retweet_count, tweet.favorite_count, tweet.in_reply_to_screen_name, tweet.source, tweet.user.followers_count, tweet.user.friends_count] for tweet in alltweets]\r\n",
        "     #transform the tweepy tweets into a 2D array that will populate the csv \r\n",
        "\r\n",
        "    return outtweets \r\n",
        "   "
      ],
      "execution_count": null,
      "outputs": []
    },
    {
      "cell_type": "code",
      "metadata": {
        "colab": {
          "base_uri": "https://localhost:8080/"
        },
        "id": "-1TPsSMxrF-c",
        "outputId": "7116e17d-dee9-4eb7-b4a0-c3f57798b508"
      },
      "source": [
        "UN=get_all_tweets(\"un\")"
      ],
      "execution_count": null,
      "outputs": [
        {
          "output_type": "stream",
          "text": [
            "getting tweets before 1351127733120720897\n",
            "...400 tweets downloaded so far\n",
            "getting tweets before 1345415306345373698\n",
            "...600 tweets downloaded so far\n",
            "getting tweets before 1339684796537188359\n",
            "...800 tweets downloaded so far\n",
            "getting tweets before 1335351153115205633\n",
            "...1000 tweets downloaded so far\n",
            "getting tweets before 1330602450680733699\n",
            "...1200 tweets downloaded so far\n",
            "getting tweets before 1326162959492648959\n",
            "...1400 tweets downloaded so far\n",
            "getting tweets before 1321436153254453249\n",
            "...1600 tweets downloaded so far\n",
            "getting tweets before 1316983210149031935\n",
            "...1800 tweets downloaded so far\n",
            "getting tweets before 1312119890073939967\n",
            "...2000 tweets downloaded so far\n",
            "getting tweets before 1308481561554280447\n",
            "...2200 tweets downloaded so far\n",
            "getting tweets before 1303635257116315647\n",
            "...2400 tweets downloaded so far\n",
            "getting tweets before 1298018496870338564\n",
            "...2600 tweets downloaded so far\n",
            "getting tweets before 1292944311546449929\n",
            "...2800 tweets downloaded so far\n",
            "getting tweets before 1287282252750229504\n",
            "...3000 tweets downloaded so far\n",
            "getting tweets before 1281484047001300991\n",
            "...3200 tweets downloaded so far\n",
            "getting tweets before 1275825456001024004\n",
            "...3209 tweets downloaded so far\n",
            "getting tweets before 1275640542529900543\n",
            "...3209 tweets downloaded so far\n"
          ],
          "name": "stdout"
        }
      ]
    },
    {
      "cell_type": "code",
      "metadata": {
        "colab": {
          "base_uri": "https://localhost:8080/"
        },
        "id": "emXF5viQrOD4",
        "outputId": "18782de0-c44b-4732-aa44-b4d0f9a60f14"
      },
      "source": [
        "# assign column names to the dataset\r\n",
        "df_UN = pd.DataFrame.from_records(UN, columns=['tweet_id','created_at', 'text', 'retweet_count','favorite_count','in_reply_to_screen_name', 'source', 'followers_count', 'friends_count'] )\r\n",
        "df_UN.shape"
      ],
      "execution_count": null,
      "outputs": [
        {
          "output_type": "execute_result",
          "data": {
            "text/plain": [
              "(3200, 9)"
            ]
          },
          "metadata": {
            "tags": []
          },
          "execution_count": 94
        }
      ]
    },
    {
      "cell_type": "code",
      "metadata": {
        "id": "k45J0oVIGU53"
      },
      "source": [
        "df_UN.to_csv('UN_01022021.csv', header=True) # save the file"
      ],
      "execution_count": null,
      "outputs": []
    },
    {
      "cell_type": "code",
      "metadata": {
        "colab": {
          "base_uri": "https://localhost:8080/"
        },
        "id": "04_uKJxKGreR",
        "outputId": "e43776b0-1d92-4636-f736-615d1cc0a520"
      },
      "source": [
        "from google.colab import drive # mount google drive\r\n",
        "drive.mount('drive')"
      ],
      "execution_count": 7,
      "outputs": [
        {
          "output_type": "stream",
          "text": [
            "Mounted at drive\n"
          ],
          "name": "stdout"
        }
      ]
    },
    {
      "cell_type": "code",
      "metadata": {
        "id": "9pACeADdGsl-"
      },
      "source": [
        "!cp UN_01022021.csv \"drive/My Drive/\" # save the file to google drive"
      ],
      "execution_count": null,
      "outputs": []
    },
    {
      "cell_type": "code",
      "metadata": {
        "id": "0Ny7NrXI37Pe"
      },
      "source": [
        "df_UN=pd.read_csv('drive/My Drive/UN_01022021.csv') # read the file from google drive"
      ],
      "execution_count": 9,
      "outputs": []
    },
    {
      "cell_type": "code",
      "metadata": {
        "colab": {
          "base_uri": "https://localhost:8080/",
          "height": 546
        },
        "id": "ikFgUrYCrQZz",
        "outputId": "c6deb06b-ca1b-402c-e6ff-e1e0307fa5f7"
      },
      "source": [
        "df_UN.head(10)"
      ],
      "execution_count": null,
      "outputs": [
        {
          "output_type": "execute_result",
          "data": {
            "text/html": [
              "<div>\n",
              "<style scoped>\n",
              "    .dataframe tbody tr th:only-of-type {\n",
              "        vertical-align: middle;\n",
              "    }\n",
              "\n",
              "    .dataframe tbody tr th {\n",
              "        vertical-align: top;\n",
              "    }\n",
              "\n",
              "    .dataframe thead th {\n",
              "        text-align: right;\n",
              "    }\n",
              "</style>\n",
              "<table border=\"1\" class=\"dataframe\">\n",
              "  <thead>\n",
              "    <tr style=\"text-align: right;\">\n",
              "      <th></th>\n",
              "      <th>Unnamed: 0</th>\n",
              "      <th>tweet_id</th>\n",
              "      <th>created_at</th>\n",
              "      <th>text</th>\n",
              "      <th>retweet_count</th>\n",
              "      <th>favorite_count</th>\n",
              "      <th>in_reply_to_screen_name</th>\n",
              "      <th>source</th>\n",
              "      <th>followers_count</th>\n",
              "      <th>friends_count</th>\n",
              "    </tr>\n",
              "  </thead>\n",
              "  <tbody>\n",
              "    <tr>\n",
              "      <th>0</th>\n",
              "      <td>0</td>\n",
              "      <td>1356317393048506369</td>\n",
              "      <td>2021-02-01 19:04:00</td>\n",
              "      <td>Recognition\\nJustice\\nDevelopment\\n\\n#BlackHis...</td>\n",
              "      <td>47</td>\n",
              "      <td>158</td>\n",
              "      <td>NaN</td>\n",
              "      <td>TweetDeck</td>\n",
              "      <td>13428261</td>\n",
              "      <td>1184</td>\n",
              "    </tr>\n",
              "    <tr>\n",
              "      <th>1</th>\n",
              "      <td>1</td>\n",
              "      <td>1356302735780548608</td>\n",
              "      <td>2021-02-01 18:05:45</td>\n",
              "      <td>RT @UNmigration: “COVID-19 has tragically exac...</td>\n",
              "      <td>11</td>\n",
              "      <td>0</td>\n",
              "      <td>NaN</td>\n",
              "      <td>Twitter Web App</td>\n",
              "      <td>13428261</td>\n",
              "      <td>1184</td>\n",
              "    </tr>\n",
              "    <tr>\n",
              "      <th>2</th>\n",
              "      <td>2</td>\n",
              "      <td>1356287104679075840</td>\n",
              "      <td>2021-02-01 17:03:39</td>\n",
              "      <td>In times of crisis, women are leaders in their...</td>\n",
              "      <td>86</td>\n",
              "      <td>222</td>\n",
              "      <td>NaN</td>\n",
              "      <td>Twitter for iPhone</td>\n",
              "      <td>13428261</td>\n",
              "      <td>1184</td>\n",
              "    </tr>\n",
              "    <tr>\n",
              "      <th>3</th>\n",
              "      <td>3</td>\n",
              "      <td>1356256620091736068</td>\n",
              "      <td>2021-02-01 15:02:30</td>\n",
              "      <td>RT @UN_Spokesperson: .@antonioguterres strongl...</td>\n",
              "      <td>306</td>\n",
              "      <td>0</td>\n",
              "      <td>NaN</td>\n",
              "      <td>Twitter Web App</td>\n",
              "      <td>13428261</td>\n",
              "      <td>1184</td>\n",
              "    </tr>\n",
              "    <tr>\n",
              "      <th>4</th>\n",
              "      <td>4</td>\n",
              "      <td>1356240214524624901</td>\n",
              "      <td>2021-02-01 13:57:19</td>\n",
              "      <td>The United Kingdom assumes the presidency of t...</td>\n",
              "      <td>115</td>\n",
              "      <td>445</td>\n",
              "      <td>NaN</td>\n",
              "      <td>Twitter for iPhone</td>\n",
              "      <td>13428261</td>\n",
              "      <td>1184</td>\n",
              "    </tr>\n",
              "    <tr>\n",
              "      <th>5</th>\n",
              "      <td>5</td>\n",
              "      <td>1356224683214053377</td>\n",
              "      <td>2021-02-01 12:55:36</td>\n",
              "      <td>RT @UN_Women: Happy #BlackHistoryMonth!\\n\\nThi...</td>\n",
              "      <td>256</td>\n",
              "      <td>0</td>\n",
              "      <td>NaN</td>\n",
              "      <td>Twitter Web App</td>\n",
              "      <td>13428261</td>\n",
              "      <td>1184</td>\n",
              "    </tr>\n",
              "    <tr>\n",
              "      <th>6</th>\n",
              "      <td>6</td>\n",
              "      <td>1356061204637048834</td>\n",
              "      <td>2021-02-01 02:06:00</td>\n",
              "      <td>The Champions of the Earth take #ClimateAction...</td>\n",
              "      <td>63</td>\n",
              "      <td>254</td>\n",
              "      <td>NaN</td>\n",
              "      <td>TweetDeck</td>\n",
              "      <td>13428261</td>\n",
              "      <td>1184</td>\n",
              "    </tr>\n",
              "    <tr>\n",
              "      <th>7</th>\n",
              "      <td>7</td>\n",
              "      <td>1356015151384682498</td>\n",
              "      <td>2021-01-31 23:03:00</td>\n",
              "      <td>Nearly 1 in 10 children are subjected to child...</td>\n",
              "      <td>134</td>\n",
              "      <td>354</td>\n",
              "      <td>NaN</td>\n",
              "      <td>TweetDeck</td>\n",
              "      <td>13428261</td>\n",
              "      <td>1184</td>\n",
              "    </tr>\n",
              "    <tr>\n",
              "      <th>8</th>\n",
              "      <td>8</td>\n",
              "      <td>1355971111163334657</td>\n",
              "      <td>2021-01-31 20:08:00</td>\n",
              "      <td>The climate crisis has not stopped amid #COVID...</td>\n",
              "      <td>98</td>\n",
              "      <td>287</td>\n",
              "      <td>NaN</td>\n",
              "      <td>TweetDeck</td>\n",
              "      <td>13428261</td>\n",
              "      <td>1184</td>\n",
              "    </tr>\n",
              "    <tr>\n",
              "      <th>9</th>\n",
              "      <td>9</td>\n",
              "      <td>1355925057881698306</td>\n",
              "      <td>2021-01-31 17:05:00</td>\n",
              "      <td>\"Now is the time to secure the well-being of p...</td>\n",
              "      <td>207</td>\n",
              "      <td>626</td>\n",
              "      <td>NaN</td>\n",
              "      <td>TweetDeck</td>\n",
              "      <td>13428261</td>\n",
              "      <td>1184</td>\n",
              "    </tr>\n",
              "  </tbody>\n",
              "</table>\n",
              "</div>"
            ],
            "text/plain": [
              "   Unnamed: 0             tweet_id  ... followers_count friends_count\n",
              "0           0  1356317393048506369  ...        13428261          1184\n",
              "1           1  1356302735780548608  ...        13428261          1184\n",
              "2           2  1356287104679075840  ...        13428261          1184\n",
              "3           3  1356256620091736068  ...        13428261          1184\n",
              "4           4  1356240214524624901  ...        13428261          1184\n",
              "5           5  1356224683214053377  ...        13428261          1184\n",
              "6           6  1356061204637048834  ...        13428261          1184\n",
              "7           7  1356015151384682498  ...        13428261          1184\n",
              "8           8  1355971111163334657  ...        13428261          1184\n",
              "9           9  1355925057881698306  ...        13428261          1184\n",
              "\n",
              "[10 rows x 10 columns]"
            ]
          },
          "metadata": {
            "tags": []
          },
          "execution_count": 25
        }
      ]
    },
    {
      "cell_type": "code",
      "metadata": {
        "colab": {
          "base_uri": "https://localhost:8080/"
        },
        "id": "5u_J-MOVvl4-",
        "outputId": "4d874458-5a16-4040-848b-6851dd3efe5a"
      },
      "source": [
        "df_UN.dtypes"
      ],
      "execution_count": null,
      "outputs": [
        {
          "output_type": "execute_result",
          "data": {
            "text/plain": [
              "Unnamed: 0                  int64\n",
              "tweet_id                    int64\n",
              "created_at                 object\n",
              "text                       object\n",
              "retweet_count               int64\n",
              "favorite_count              int64\n",
              "in_reply_to_screen_name    object\n",
              "source                     object\n",
              "followers_count             int64\n",
              "friends_count               int64\n",
              "dtype: object"
            ]
          },
          "metadata": {
            "tags": []
          },
          "execution_count": 27
        }
      ]
    },
    {
      "cell_type": "code",
      "metadata": {
        "id": "a3kJbjBx5lMu"
      },
      "source": [
        "df_UN['created_at']= pd.to_datetime(df_UN['created_at'])"
      ],
      "execution_count": 10,
      "outputs": []
    },
    {
      "cell_type": "code",
      "metadata": {
        "colab": {
          "base_uri": "https://localhost:8080/"
        },
        "id": "ucDnPS3V5wAI",
        "outputId": "2bc7b149-036b-4746-a668-17fe3271fa90"
      },
      "source": [
        "df_UN.dtypes"
      ],
      "execution_count": null,
      "outputs": [
        {
          "output_type": "execute_result",
          "data": {
            "text/plain": [
              "Unnamed: 0                          int64\n",
              "tweet_id                            int64\n",
              "created_at                 datetime64[ns]\n",
              "text                               object\n",
              "retweet_count                       int64\n",
              "favorite_count                      int64\n",
              "in_reply_to_screen_name            object\n",
              "source                             object\n",
              "followers_count                     int64\n",
              "friends_count                       int64\n",
              "dtype: object"
            ]
          },
          "metadata": {
            "tags": []
          },
          "execution_count": 31
        }
      ]
    },
    {
      "cell_type": "code",
      "metadata": {
        "colab": {
          "base_uri": "https://localhost:8080/"
        },
        "id": "ZIXjx2caDqmM",
        "outputId": "3f5f3fd6-2de7-43a3-dd4e-bdb8449dbd8d"
      },
      "source": [
        "df_UN.columns"
      ],
      "execution_count": null,
      "outputs": [
        {
          "output_type": "execute_result",
          "data": {
            "text/plain": [
              "Index(['Unnamed: 0', 'tweet_id', 'created_at', 'text', 'retweet_count',\n",
              "       'favorite_count', 'in_reply_to_screen_name', 'source',\n",
              "       'followers_count', 'friends_count'],\n",
              "      dtype='object')"
            ]
          },
          "metadata": {
            "tags": []
          },
          "execution_count": 45
        }
      ]
    },
    {
      "cell_type": "code",
      "metadata": {
        "id": "nBMk6PxjDsg5"
      },
      "source": [
        "df_UN=df_UN.drop(columns=['Unnamed: 0'])"
      ],
      "execution_count": 11,
      "outputs": []
    },
    {
      "cell_type": "code",
      "metadata": {
        "id": "hZbDLWVPD786"
      },
      "source": [
        "df_UN['tweet_id'] = df_UN['tweet_id'].astype(str)"
      ],
      "execution_count": 12,
      "outputs": []
    },
    {
      "cell_type": "code",
      "metadata": {
        "id": "xQRd_DOT47Cp"
      },
      "source": [
        "from datetime import datetime\r\n",
        "datetime.strptime(datetime_str, '%m/%d/%y %H:%M:%S')\r\n"
      ],
      "execution_count": null,
      "outputs": []
    },
    {
      "cell_type": "code",
      "metadata": {
        "colab": {
          "base_uri": "https://localhost:8080/"
        },
        "id": "2xk2w97-6g9m",
        "outputId": "d4d4e18b-bb23-4abd-f021-252701e44c65"
      },
      "source": [
        "df_UN.shape"
      ],
      "execution_count": null,
      "outputs": [
        {
          "output_type": "execute_result",
          "data": {
            "text/plain": [
              "(3209, 10)"
            ]
          },
          "metadata": {
            "tags": []
          },
          "execution_count": 37
        }
      ]
    },
    {
      "cell_type": "code",
      "metadata": {
        "colab": {
          "base_uri": "https://localhost:8080/"
        },
        "id": "ZNz0Ss-lu2eq",
        "outputId": "1846af42-9c2e-4cb3-a1ab-1bbc86074df1"
      },
      "source": [
        "df_UN.created_at.describe() # the dataset includes 3209 tweets from @UN user for the period from 24-06-2020 17:05 till 01-02-2021 19:04"
      ],
      "execution_count": null,
      "outputs": [
        {
          "output_type": "stream",
          "text": [
            "/usr/local/lib/python3.6/dist-packages/ipykernel_launcher.py:1: FutureWarning: Treating datetime data as categorical rather than numeric in `.describe` is deprecated and will be removed in a future version of pandas. Specify `datetime_is_numeric=True` to silence this warning and adopt the future behavior now.\n",
            "  \"\"\"Entry point for launching an IPython kernel.\n"
          ],
          "name": "stderr"
        },
        {
          "output_type": "execute_result",
          "data": {
            "text/plain": [
              "count                    3209\n",
              "unique                   3209\n",
              "top       2020-09-29 17:05:00\n",
              "freq                        1\n",
              "first     2020-06-24 04:03:00\n",
              "last      2021-02-01 19:04:00\n",
              "Name: created_at, dtype: object"
            ]
          },
          "metadata": {
            "tags": []
          },
          "execution_count": 32
        }
      ]
    },
    {
      "cell_type": "code",
      "metadata": {
        "colab": {
          "base_uri": "https://localhost:8080/"
        },
        "id": "K48nMElG6pRz",
        "outputId": "59e12d11-4671-43e6-8d14-1445ad1cce3f"
      },
      "source": [
        "3209-2796"
      ],
      "execution_count": null,
      "outputs": [
        {
          "output_type": "execute_result",
          "data": {
            "text/plain": [
              "413"
            ]
          },
          "metadata": {
            "tags": []
          },
          "execution_count": 38
        }
      ]
    },
    {
      "cell_type": "code",
      "metadata": {
        "colab": {
          "base_uri": "https://localhost:8080/"
        },
        "id": "bmmfNcJAwDO8",
        "outputId": "568a24d7-f3be-45cd-bd72-7a1f6236eb1e"
      },
      "source": [
        "df_UN[df_UN['created_at']<datetime.datetime(2021,1,1)].created_at.describe() # 413 tweets were posted during the period of one month from 01-01-2021 00:00 till 01-02-2021 19:04"
      ],
      "execution_count": null,
      "outputs": [
        {
          "output_type": "stream",
          "text": [
            "/usr/local/lib/python3.6/dist-packages/ipykernel_launcher.py:1: FutureWarning: Treating datetime data as categorical rather than numeric in `.describe` is deprecated and will be removed in a future version of pandas. Specify `datetime_is_numeric=True` to silence this warning and adopt the future behavior now.\n",
            "  \"\"\"Entry point for launching an IPython kernel.\n"
          ],
          "name": "stderr"
        },
        {
          "output_type": "execute_result",
          "data": {
            "text/plain": [
              "count                    2796\n",
              "unique                   2796\n",
              "top       2020-09-29 17:05:00\n",
              "freq                        1\n",
              "first     2020-06-24 04:03:00\n",
              "last      2020-12-31 23:51:54\n",
              "Name: created_at, dtype: object"
            ]
          },
          "metadata": {
            "tags": []
          },
          "execution_count": 35
        }
      ]
    },
    {
      "cell_type": "markdown",
      "metadata": {
        "id": "YReh4RNbMKnq"
      },
      "source": [
        "# Analysis of likes "
      ]
    },
    {
      "cell_type": "code",
      "metadata": {
        "colab": {
          "base_uri": "https://localhost:8080/"
        },
        "id": "L_JwiUKwrlp9",
        "outputId": "810c2341-0dd2-4ef6-9f98-39f9b1796993"
      },
      "source": [
        "df_UN.favorite_count.describe() # the mean number of likes per tweet is 301, standard deviation is 1112."
      ],
      "execution_count": null,
      "outputs": [
        {
          "output_type": "execute_result",
          "data": {
            "text/plain": [
              "count     3209.000000\n",
              "mean       300.922406\n",
              "std       1112.202376\n",
              "min          0.000000\n",
              "25%          0.000000\n",
              "50%        207.000000\n",
              "75%        376.000000\n",
              "max      44321.000000\n",
              "Name: favorite_count, dtype: float64"
            ]
          },
          "metadata": {
            "tags": []
          },
          "execution_count": 62
        }
      ]
    },
    {
      "cell_type": "code",
      "metadata": {
        "colab": {
          "base_uri": "https://localhost:8080/"
        },
        "id": "BnN_iRLMxyo7",
        "outputId": "5033032f-2f32-4d67-dea0-474b52388837"
      },
      "source": [
        "df_UN[df_UN['created_at']<datetime.datetime(2021,1,1)].favorite_count.describe()\r\n",
        " # we could remove the last month considering that the number of likes can be dependent on the time, i.e. how long the tweet has been online.\r\n",
        " # one can assume that very recent tweets can have small number of likes because they have not been seen my all the followers yet. \r\n",
        " # however, removing one last month from the dataset has given almost the same statistical analysis, with the mean value of 300 and standard deviation of 1179."
      ],
      "execution_count": null,
      "outputs": [
        {
          "output_type": "execute_result",
          "data": {
            "text/plain": [
              "count     2796.000000\n",
              "mean       300.005722\n",
              "std       1179.835494\n",
              "min          0.000000\n",
              "25%          0.000000\n",
              "50%        203.000000\n",
              "75%        368.000000\n",
              "max      44321.000000\n",
              "Name: favorite_count, dtype: float64"
            ]
          },
          "metadata": {
            "tags": []
          },
          "execution_count": 63
        }
      ]
    },
    {
      "cell_type": "code",
      "metadata": {
        "colab": {
          "base_uri": "https://localhost:8080/",
          "height": 282
        },
        "id": "H1QnPujrty6h",
        "outputId": "d4d9abf7-16f7-4893-e3b6-d918dcbbac87"
      },
      "source": [
        "df_UN.favorite_count.plot()"
      ],
      "execution_count": null,
      "outputs": [
        {
          "output_type": "execute_result",
          "data": {
            "text/plain": [
              "<matplotlib.axes._subplots.AxesSubplot at 0x7fbe8b150dd8>"
            ]
          },
          "metadata": {
            "tags": []
          },
          "execution_count": 64
        },
        {
          "output_type": "display_data",
          "data": {
            "image/png": "[encoded data removed]",
            "text/plain": [
              "<Figure size 432x288 with 1 Axes>"
            ]
          },
          "metadata": {
            "tags": [],
            "needs_background": "light"
          }
        }
      ]
    },
    {
      "cell_type": "code",
      "metadata": {
        "id": "aIh4Xz0EzA8f"
      },
      "source": [
        "def outliers(col, df):\r\n",
        "  max=col.mean() + 3*col.std()\r\n",
        "  min=col.mean() - 3*col.std()\r\n",
        "  print('upper limit = ', max, ', lower limit = ', min)\r\n",
        "  newdf=df[(col<max)&(col>min)]\r\n",
        "  print('new dataframe shape = ', newdf.shape)\r\n",
        "  print('number of rows removed =', df.shape[0]-newdf.shape[0])\r\n",
        "  print('statistic: \\n', newdf.describe())\r\n",
        "  return newdf"
      ],
      "execution_count": null,
      "outputs": []
    },
    {
      "cell_type": "code",
      "metadata": {
        "colab": {
          "base_uri": "https://localhost:8080/"
        },
        "id": "QNeKZUHK81ck",
        "outputId": "86898ed5-7321-4685-af55-33e842039458"
      },
      "source": [
        "ndf=outliers(df_UN.favorite_count, df_UN) # after removal of outliers the mean value is 258 and std is 335"
      ],
      "execution_count": null,
      "outputs": [
        {
          "output_type": "stream",
          "text": [
            "upper limit =  3637.5295346174316 , lower limit =  -3035.684723149685\n",
            "new dataframe shape =  (3198, 9)\n",
            "number of rows removed = 11\n",
            "statistic: \n",
            "        retweet_count  favorite_count  followers_count  friends_count\n",
            "count    3198.000000     3198.000000           3198.0         3198.0\n",
            "mean      218.368668      258.784553       13428261.0         1184.0\n",
            "std       916.562973      335.239124              0.0            0.0\n",
            "min         1.000000        0.000000       13428261.0         1184.0\n",
            "25%        67.000000        0.000000       13428261.0         1184.0\n",
            "50%       105.000000      207.000000       13428261.0         1184.0\n",
            "75%       195.000000      373.000000       13428261.0         1184.0\n",
            "max     40435.000000     3485.000000       13428261.0         1184.0\n"
          ],
          "name": "stdout"
        }
      ]
    },
    {
      "cell_type": "code",
      "metadata": {
        "colab": {
          "base_uri": "https://localhost:8080/",
          "height": 282
        },
        "id": "AUNAXA3r9IB_",
        "outputId": "3e48d128-7bee-4ab5-8258-84161da77b70"
      },
      "source": [
        "ndf.favorite_count.plot()"
      ],
      "execution_count": null,
      "outputs": [
        {
          "output_type": "execute_result",
          "data": {
            "text/plain": [
              "<matplotlib.axes._subplots.AxesSubplot at 0x7fbe8b1065f8>"
            ]
          },
          "metadata": {
            "tags": []
          },
          "execution_count": 67
        },
        {
          "output_type": "display_data",
          "data": {
            "image/png": "[encoded data removed]",
            "text/plain": [
              "<Figure size 432x288 with 1 Axes>"
            ]
          },
          "metadata": {
            "tags": [],
            "needs_background": "light"
          }
        }
      ]
    },
    {
      "cell_type": "markdown",
      "metadata": {
        "id": "FwKXaPbXMSTE"
      },
      "source": [
        "# Analysis of retweets"
      ]
    },
    {
      "cell_type": "code",
      "metadata": {
        "colab": {
          "base_uri": "https://localhost:8080/"
        },
        "id": "iHM8kMjiueF7",
        "outputId": "43f25de9-5c39-4c3e-c39c-a428b54fc0c7"
      },
      "source": [
        "df_UN.retweet_count.describe()"
      ],
      "execution_count": null,
      "outputs": [
        {
          "output_type": "execute_result",
          "data": {
            "text/plain": [
              "count     3209.000000\n",
              "mean       230.869430\n",
              "std        974.597804\n",
              "min          1.000000\n",
              "25%         67.000000\n",
              "50%        105.000000\n",
              "75%        196.000000\n",
              "max      40435.000000\n",
              "Name: retweet_count, dtype: float64"
            ]
          },
          "metadata": {
            "tags": []
          },
          "execution_count": 53
        }
      ]
    },
    {
      "cell_type": "code",
      "metadata": {
        "colab": {
          "base_uri": "https://localhost:8080/"
        },
        "id": "pWiSrqCLx7cu",
        "outputId": "713d81a4-5b45-4362-bbac-d2f45490e84d"
      },
      "source": [
        "df_UN[df_UN['created_at']<datetime.datetime(2021,1,1)].retweet_count.describe()"
      ],
      "execution_count": null,
      "outputs": [
        {
          "output_type": "execute_result",
          "data": {
            "text/plain": [
              "count     2796.000000\n",
              "mean       235.008226\n",
              "std       1037.782155\n",
              "min          2.000000\n",
              "25%         66.750000\n",
              "50%        104.000000\n",
              "75%        193.250000\n",
              "max      40435.000000\n",
              "Name: retweet_count, dtype: float64"
            ]
          },
          "metadata": {
            "tags": []
          },
          "execution_count": 54
        }
      ]
    },
    {
      "cell_type": "code",
      "metadata": {
        "colab": {
          "base_uri": "https://localhost:8080/",
          "height": 282
        },
        "id": "EYMIkV3CyPZ5",
        "outputId": "8406f337-cf1c-4db0-be04-6b135367334d"
      },
      "source": [
        "df_UN.retweet_count.plot()"
      ],
      "execution_count": null,
      "outputs": [
        {
          "output_type": "execute_result",
          "data": {
            "text/plain": [
              "<matplotlib.axes._subplots.AxesSubplot at 0x7fbe8b6d5438>"
            ]
          },
          "metadata": {
            "tags": []
          },
          "execution_count": 55
        },
        {
          "output_type": "display_data",
          "data": {
            "image/png": "[encoded data removed]",
            "text/plain": [
              "<Figure size 432x288 with 1 Axes>"
            ]
          },
          "metadata": {
            "tags": [],
            "needs_background": "light"
          }
        }
      ]
    },
    {
      "cell_type": "code",
      "metadata": {
        "colab": {
          "base_uri": "https://localhost:8080/"
        },
        "id": "faEdLRRV1Mtr",
        "outputId": "3a08a5b4-b79b-4753-e6ba-21f023d73e4d"
      },
      "source": [
        "ndf=outliers(df_UN.retweet_count, df_UN) # mean is 179, std is 239"
      ],
      "execution_count": null,
      "outputs": [
        {
          "output_type": "stream",
          "text": [
            "upper limit =  3154.6628430038118 , lower limit =  -2692.9239835460367\n",
            "new dataframe shape =  (3190, 9)\n",
            "number of rows removed = 19\n",
            "statistic: \n",
            "        retweet_count  favorite_count  followers_count  friends_count\n",
            "count    3190.000000     3190.000000           3190.0         3190.0\n",
            "mean      179.017241      271.055486       13428261.0         1184.0\n",
            "std       238.702247      418.395807              0.0            0.0\n",
            "min         1.000000        0.000000       13428261.0         1184.0\n",
            "25%        67.000000        0.000000       13428261.0         1184.0\n",
            "50%       104.000000      209.000000       13428261.0         1184.0\n",
            "75%       194.000000      376.000000       13428261.0         1184.0\n",
            "max      2444.000000     9401.000000       13428261.0         1184.0\n"
          ],
          "name": "stdout"
        }
      ]
    },
    {
      "cell_type": "code",
      "metadata": {
        "colab": {
          "base_uri": "https://localhost:8080/",
          "height": 282
        },
        "id": "A6ibHTrRMZd2",
        "outputId": "4bf15764-d291-4468-b7b7-9418ab808f20"
      },
      "source": [
        "ndf.retweet_count.plot()"
      ],
      "execution_count": null,
      "outputs": [
        {
          "output_type": "execute_result",
          "data": {
            "text/plain": [
              "<matplotlib.axes._subplots.AxesSubplot at 0x7fbe8b0138d0>"
            ]
          },
          "metadata": {
            "tags": []
          },
          "execution_count": 69
        },
        {
          "output_type": "display_data",
          "data": {
            "image/png": "[encoded data removed]",
            "text/plain": [
              "<Figure size 432x288 with 1 Axes>"
            ]
          },
          "metadata": {
            "tags": [],
            "needs_background": "light"
          }
        }
      ]
    },
    {
      "cell_type": "markdown",
      "metadata": {
        "id": "KAkbY4e2Ni8X"
      },
      "source": [
        "# Is a tweet popular?"
      ]
    },
    {
      "cell_type": "code",
      "metadata": {
        "id": "rYaKsA0EOFxC"
      },
      "source": [
        "df_UN[(df_UN.retweet_count>179)&(df_UN.favorite_count>258)].describe() "
      ],
      "execution_count": null,
      "outputs": []
    },
    {
      "cell_type": "code",
      "metadata": {
        "colab": {
          "base_uri": "https://localhost:8080/"
        },
        "id": "oo-DBt123Tj8",
        "outputId": "6d30e142-9293-470c-f0c6-3df61fb0eaad"
      },
      "source": [
        "print('fraction of popular tweets where number of retweets & likes is bigger than the mean value (179 & 258 respectfully) is: \\n ', round(457/3209*100, 2), '%')"
      ],
      "execution_count": null,
      "outputs": [
        {
          "output_type": "stream",
          "text": [
            "fraction of popular tweets where number of retweets & likes is bigger than the mean value (179 & 258 respectfully) is: \n",
            "  14.24 %\n"
          ],
          "name": "stdout"
        }
      ]
    },
    {
      "cell_type": "code",
      "metadata": {
        "id": "4qecwb0i6ghy"
      },
      "source": [
        "df_UN['popular'] = np.where((df_UN.retweet_count>179)&(df_UN.favorite_count>258), 1, 0)"
      ],
      "execution_count": 175,
      "outputs": []
    },
    {
      "cell_type": "code",
      "metadata": {
        "colab": {
          "base_uri": "https://localhost:8080/",
          "height": 277
        },
        "id": "HGisj_qH6pmd",
        "outputId": "0a1922f0-0539-4f45-d858-283a582c429b"
      },
      "source": [
        "df_UN.describe()"
      ],
      "execution_count": 11,
      "outputs": [
        {
          "output_type": "execute_result",
          "data": {
            "text/html": [
              "<div>\n",
              "<style scoped>\n",
              "    .dataframe tbody tr th:only-of-type {\n",
              "        vertical-align: middle;\n",
              "    }\n",
              "\n",
              "    .dataframe tbody tr th {\n",
              "        vertical-align: top;\n",
              "    }\n",
              "\n",
              "    .dataframe thead th {\n",
              "        text-align: right;\n",
              "    }\n",
              "</style>\n",
              "<table border=\"1\" class=\"dataframe\">\n",
              "  <thead>\n",
              "    <tr style=\"text-align: right;\">\n",
              "      <th></th>\n",
              "      <th>retweet_count</th>\n",
              "      <th>favorite_count</th>\n",
              "      <th>followers_count</th>\n",
              "      <th>friends_count</th>\n",
              "      <th>popular</th>\n",
              "    </tr>\n",
              "  </thead>\n",
              "  <tbody>\n",
              "    <tr>\n",
              "      <th>count</th>\n",
              "      <td>3209.000000</td>\n",
              "      <td>3209.000000</td>\n",
              "      <td>3209.0</td>\n",
              "      <td>3209.0</td>\n",
              "      <td>3209.000000</td>\n",
              "    </tr>\n",
              "    <tr>\n",
              "      <th>mean</th>\n",
              "      <td>230.869430</td>\n",
              "      <td>300.922406</td>\n",
              "      <td>13428261.0</td>\n",
              "      <td>1184.0</td>\n",
              "      <td>0.142412</td>\n",
              "    </tr>\n",
              "    <tr>\n",
              "      <th>std</th>\n",
              "      <td>974.597804</td>\n",
              "      <td>1112.202376</td>\n",
              "      <td>0.0</td>\n",
              "      <td>0.0</td>\n",
              "      <td>0.349527</td>\n",
              "    </tr>\n",
              "    <tr>\n",
              "      <th>min</th>\n",
              "      <td>1.000000</td>\n",
              "      <td>0.000000</td>\n",
              "      <td>13428261.0</td>\n",
              "      <td>1184.0</td>\n",
              "      <td>0.000000</td>\n",
              "    </tr>\n",
              "    <tr>\n",
              "      <th>25%</th>\n",
              "      <td>67.000000</td>\n",
              "      <td>0.000000</td>\n",
              "      <td>13428261.0</td>\n",
              "      <td>1184.0</td>\n",
              "      <td>0.000000</td>\n",
              "    </tr>\n",
              "    <tr>\n",
              "      <th>50%</th>\n",
              "      <td>105.000000</td>\n",
              "      <td>207.000000</td>\n",
              "      <td>13428261.0</td>\n",
              "      <td>1184.0</td>\n",
              "      <td>0.000000</td>\n",
              "    </tr>\n",
              "    <tr>\n",
              "      <th>75%</th>\n",
              "      <td>196.000000</td>\n",
              "      <td>376.000000</td>\n",
              "      <td>13428261.0</td>\n",
              "      <td>1184.0</td>\n",
              "      <td>0.000000</td>\n",
              "    </tr>\n",
              "    <tr>\n",
              "      <th>max</th>\n",
              "      <td>40435.000000</td>\n",
              "      <td>44321.000000</td>\n",
              "      <td>13428261.0</td>\n",
              "      <td>1184.0</td>\n",
              "      <td>1.000000</td>\n",
              "    </tr>\n",
              "  </tbody>\n",
              "</table>\n",
              "</div>"
            ],
            "text/plain": [
              "       retweet_count  favorite_count  ...  friends_count      popular\n",
              "count    3209.000000     3209.000000  ...         3209.0  3209.000000\n",
              "mean      230.869430      300.922406  ...         1184.0     0.142412\n",
              "std       974.597804     1112.202376  ...            0.0     0.349527\n",
              "min         1.000000        0.000000  ...         1184.0     0.000000\n",
              "25%        67.000000        0.000000  ...         1184.0     0.000000\n",
              "50%       105.000000      207.000000  ...         1184.0     0.000000\n",
              "75%       196.000000      376.000000  ...         1184.0     0.000000\n",
              "max     40435.000000    44321.000000  ...         1184.0     1.000000\n",
              "\n",
              "[8 rows x 5 columns]"
            ]
          },
          "metadata": {
            "tags": []
          },
          "execution_count": 11
        }
      ]
    },
    {
      "cell_type": "markdown",
      "metadata": {
        "id": "cEOSaXJAHJoF"
      },
      "source": [
        ""
      ]
    },
    {
      "cell_type": "code",
      "metadata": {
        "colab": {
          "base_uri": "https://localhost:8080/"
        },
        "id": "8MvowXLR9Nvr",
        "outputId": "6796066f-8385-4d74-a83f-29ee7b88310c"
      },
      "source": [
        "df_UN[df_UN.popular==1].created_at.describe() # in the sample of only popular tweets there are those created in the last month as well as on the day before the dataset was generated\r\n",
        "# the latest \"popular\" tweet was published on 31-01-2021 at 17:05 "
      ],
      "execution_count": null,
      "outputs": [
        {
          "output_type": "stream",
          "text": [
            "/usr/local/lib/python3.6/dist-packages/ipykernel_launcher.py:1: FutureWarning: Treating datetime data as categorical rather than numeric in `.describe` is deprecated and will be removed in a future version of pandas. Specify `datetime_is_numeric=True` to silence this warning and adopt the future behavior now.\n",
            "  \"\"\"Entry point for launching an IPython kernel.\n"
          ],
          "name": "stderr"
        },
        {
          "output_type": "execute_result",
          "data": {
            "text/plain": [
              "count                     457\n",
              "unique                    457\n",
              "top       2021-01-31 17:05:00\n",
              "freq                        1\n",
              "first     2020-06-25 00:03:00\n",
              "last      2021-01-31 17:05:00\n",
              "Name: created_at, dtype: object"
            ]
          },
          "metadata": {
            "tags": []
          },
          "execution_count": 132
        }
      ]
    },
    {
      "cell_type": "code",
      "metadata": {
        "colab": {
          "base_uri": "https://localhost:8080/"
        },
        "id": "CfF15eSIHy6c",
        "outputId": "2e5dca30-8355-4dec-c983-e8a3afd4f7a9"
      },
      "source": [
        "df_UN[df_UN.popular==0].created_at.describe()  "
      ],
      "execution_count": null,
      "outputs": [
        {
          "output_type": "stream",
          "text": [
            "/usr/local/lib/python3.6/dist-packages/ipykernel_launcher.py:1: FutureWarning: Treating datetime data as categorical rather than numeric in `.describe` is deprecated and will be removed in a future version of pandas. Specify `datetime_is_numeric=True` to silence this warning and adopt the future behavior now.\n",
            "  \"\"\"Entry point for launching an IPython kernel.\n"
          ],
          "name": "stderr"
        },
        {
          "output_type": "execute_result",
          "data": {
            "text/plain": [
              "count                    2752\n",
              "unique                   2752\n",
              "top       2020-09-29 17:05:00\n",
              "freq                        1\n",
              "first     2020-06-24 04:03:00\n",
              "last      2021-02-01 19:04:00\n",
              "Name: created_at, dtype: object"
            ]
          },
          "metadata": {
            "tags": []
          },
          "execution_count": 133
        }
      ]
    },
    {
      "cell_type": "code",
      "metadata": {
        "colab": {
          "base_uri": "https://localhost:8080/",
          "height": 297
        },
        "id": "z47hkLxPH-0J",
        "outputId": "a4dfe119-15f5-4a00-c03f-7a054f2378aa"
      },
      "source": [
        "# tweets created at 01-02-2021\r\n",
        "df_UN[df_UN['created_at']>=datetime.datetime(2021,2,1)].describe()"
      ],
      "execution_count": null,
      "outputs": [
        {
          "output_type": "execute_result",
          "data": {
            "text/html": [
              "<div>\n",
              "<style scoped>\n",
              "    .dataframe tbody tr th:only-of-type {\n",
              "        vertical-align: middle;\n",
              "    }\n",
              "\n",
              "    .dataframe tbody tr th {\n",
              "        vertical-align: top;\n",
              "    }\n",
              "\n",
              "    .dataframe thead th {\n",
              "        text-align: right;\n",
              "    }\n",
              "</style>\n",
              "<table border=\"1\" class=\"dataframe\">\n",
              "  <thead>\n",
              "    <tr style=\"text-align: right;\">\n",
              "      <th></th>\n",
              "      <th>retweet_count</th>\n",
              "      <th>favorite_count</th>\n",
              "      <th>followers_count</th>\n",
              "      <th>friends_count</th>\n",
              "      <th>popular</th>\n",
              "    </tr>\n",
              "  </thead>\n",
              "  <tbody>\n",
              "    <tr>\n",
              "      <th>count</th>\n",
              "      <td>7.000000</td>\n",
              "      <td>7.000000</td>\n",
              "      <td>7.0</td>\n",
              "      <td>7.0</td>\n",
              "      <td>7.0</td>\n",
              "    </tr>\n",
              "    <tr>\n",
              "      <th>mean</th>\n",
              "      <td>126.285714</td>\n",
              "      <td>154.142857</td>\n",
              "      <td>13428261.0</td>\n",
              "      <td>1184.0</td>\n",
              "      <td>0.0</td>\n",
              "    </tr>\n",
              "    <tr>\n",
              "      <th>std</th>\n",
              "      <td>111.396760</td>\n",
              "      <td>168.557041</td>\n",
              "      <td>0.0</td>\n",
              "      <td>0.0</td>\n",
              "      <td>0.0</td>\n",
              "    </tr>\n",
              "    <tr>\n",
              "      <th>min</th>\n",
              "      <td>11.000000</td>\n",
              "      <td>0.000000</td>\n",
              "      <td>13428261.0</td>\n",
              "      <td>1184.0</td>\n",
              "      <td>0.0</td>\n",
              "    </tr>\n",
              "    <tr>\n",
              "      <th>25%</th>\n",
              "      <td>55.000000</td>\n",
              "      <td>0.000000</td>\n",
              "      <td>13428261.0</td>\n",
              "      <td>1184.0</td>\n",
              "      <td>0.0</td>\n",
              "    </tr>\n",
              "    <tr>\n",
              "      <th>50%</th>\n",
              "      <td>86.000000</td>\n",
              "      <td>158.000000</td>\n",
              "      <td>13428261.0</td>\n",
              "      <td>1184.0</td>\n",
              "      <td>0.0</td>\n",
              "    </tr>\n",
              "    <tr>\n",
              "      <th>75%</th>\n",
              "      <td>185.500000</td>\n",
              "      <td>238.000000</td>\n",
              "      <td>13428261.0</td>\n",
              "      <td>1184.0</td>\n",
              "      <td>0.0</td>\n",
              "    </tr>\n",
              "    <tr>\n",
              "      <th>max</th>\n",
              "      <td>306.000000</td>\n",
              "      <td>445.000000</td>\n",
              "      <td>13428261.0</td>\n",
              "      <td>1184.0</td>\n",
              "      <td>0.0</td>\n",
              "    </tr>\n",
              "  </tbody>\n",
              "</table>\n",
              "</div>"
            ],
            "text/plain": [
              "       retweet_count  favorite_count  followers_count  friends_count  popular\n",
              "count       7.000000        7.000000              7.0            7.0      7.0\n",
              "mean      126.285714      154.142857       13428261.0         1184.0      0.0\n",
              "std       111.396760      168.557041              0.0            0.0      0.0\n",
              "min        11.000000        0.000000       13428261.0         1184.0      0.0\n",
              "25%        55.000000        0.000000       13428261.0         1184.0      0.0\n",
              "50%        86.000000      158.000000       13428261.0         1184.0      0.0\n",
              "75%       185.500000      238.000000       13428261.0         1184.0      0.0\n",
              "max       306.000000      445.000000       13428261.0         1184.0      0.0"
            ]
          },
          "metadata": {
            "tags": []
          },
          "execution_count": 134
        }
      ]
    },
    {
      "cell_type": "code",
      "metadata": {
        "colab": {
          "base_uri": "https://localhost:8080/",
          "height": 297
        },
        "id": "RUDJuApuQkbe",
        "outputId": "fbac1d11-edb1-48dc-fd7a-8a50e86525e3"
      },
      "source": [
        "# tweets created at 31-01-2021\r\n",
        "df_UN[(df_UN['created_at']>=datetime.datetime(2021,1,31))&(df_UN['created_at']<datetime.datetime(2021,2,1))].describe()"
      ],
      "execution_count": null,
      "outputs": [
        {
          "output_type": "execute_result",
          "data": {
            "text/html": [
              "<div>\n",
              "<style scoped>\n",
              "    .dataframe tbody tr th:only-of-type {\n",
              "        vertical-align: middle;\n",
              "    }\n",
              "\n",
              "    .dataframe tbody tr th {\n",
              "        vertical-align: top;\n",
              "    }\n",
              "\n",
              "    .dataframe thead th {\n",
              "        text-align: right;\n",
              "    }\n",
              "</style>\n",
              "<table border=\"1\" class=\"dataframe\">\n",
              "  <thead>\n",
              "    <tr style=\"text-align: right;\">\n",
              "      <th></th>\n",
              "      <th>retweet_count</th>\n",
              "      <th>favorite_count</th>\n",
              "      <th>followers_count</th>\n",
              "      <th>friends_count</th>\n",
              "      <th>popular</th>\n",
              "    </tr>\n",
              "  </thead>\n",
              "  <tbody>\n",
              "    <tr>\n",
              "      <th>count</th>\n",
              "      <td>8.000000</td>\n",
              "      <td>8.000000</td>\n",
              "      <td>8.0</td>\n",
              "      <td>8.0</td>\n",
              "      <td>8.000000</td>\n",
              "    </tr>\n",
              "    <tr>\n",
              "      <th>mean</th>\n",
              "      <td>97.625000</td>\n",
              "      <td>325.625000</td>\n",
              "      <td>13428261.0</td>\n",
              "      <td>1184.0</td>\n",
              "      <td>0.125000</td>\n",
              "    </tr>\n",
              "    <tr>\n",
              "      <th>std</th>\n",
              "      <td>51.163429</td>\n",
              "      <td>127.754158</td>\n",
              "      <td>0.0</td>\n",
              "      <td>0.0</td>\n",
              "      <td>0.353553</td>\n",
              "    </tr>\n",
              "    <tr>\n",
              "      <th>min</th>\n",
              "      <td>49.000000</td>\n",
              "      <td>223.000000</td>\n",
              "      <td>13428261.0</td>\n",
              "      <td>1184.0</td>\n",
              "      <td>0.000000</td>\n",
              "    </tr>\n",
              "    <tr>\n",
              "      <th>25%</th>\n",
              "      <td>66.500000</td>\n",
              "      <td>262.000000</td>\n",
              "      <td>13428261.0</td>\n",
              "      <td>1184.0</td>\n",
              "      <td>0.000000</td>\n",
              "    </tr>\n",
              "    <tr>\n",
              "      <th>50%</th>\n",
              "      <td>80.500000</td>\n",
              "      <td>287.500000</td>\n",
              "      <td>13428261.0</td>\n",
              "      <td>1184.0</td>\n",
              "      <td>0.000000</td>\n",
              "    </tr>\n",
              "    <tr>\n",
              "      <th>75%</th>\n",
              "      <td>107.000000</td>\n",
              "      <td>323.250000</td>\n",
              "      <td>13428261.0</td>\n",
              "      <td>1184.0</td>\n",
              "      <td>0.000000</td>\n",
              "    </tr>\n",
              "    <tr>\n",
              "      <th>max</th>\n",
              "      <td>207.000000</td>\n",
              "      <td>626.000000</td>\n",
              "      <td>13428261.0</td>\n",
              "      <td>1184.0</td>\n",
              "      <td>1.000000</td>\n",
              "    </tr>\n",
              "  </tbody>\n",
              "</table>\n",
              "</div>"
            ],
            "text/plain": [
              "       retweet_count  favorite_count  followers_count  friends_count   popular\n",
              "count       8.000000        8.000000              8.0            8.0  8.000000\n",
              "mean       97.625000      325.625000       13428261.0         1184.0  0.125000\n",
              "std        51.163429      127.754158              0.0            0.0  0.353553\n",
              "min        49.000000      223.000000       13428261.0         1184.0  0.000000\n",
              "25%        66.500000      262.000000       13428261.0         1184.0  0.000000\n",
              "50%        80.500000      287.500000       13428261.0         1184.0  0.000000\n",
              "75%       107.000000      323.250000       13428261.0         1184.0  0.000000\n",
              "max       207.000000      626.000000       13428261.0         1184.0  1.000000"
            ]
          },
          "metadata": {
            "tags": []
          },
          "execution_count": 135
        }
      ]
    },
    {
      "cell_type": "code",
      "metadata": {
        "colab": {
          "base_uri": "https://localhost:8080/"
        },
        "id": "HC4UtGA38H3R",
        "outputId": "9351b8dc-f400-4910-ac35-4ab1c248b84d"
      },
      "source": [
        "for tweet in df_UN.text[500:515]:\r\n",
        "    print(tweet)\r\n",
        "    print('/////////////////////////////////////////////////////////////////////')"
      ],
      "execution_count": 50,
      "outputs": [
        {
          "output_type": "stream",
          "text": [
            "#FBF to 2014 when children displaced from their homes by violence and conflict in South Sudan sang Christmas carols… https://t.co/CDoeojN5eK\n",
            "/////////////////////////////////////////////////////////////////////\n",
            "RT @WFP: A little reminder for this year's holiday cooking: keep #foodwaste to a minimum!\n",
            "\n",
            "🍞Buy only what you need\n",
            "🍲Eat leftovers\n",
            "🥧 Share t…\n",
            "/////////////////////////////////////////////////////////////////////\n",
            "#MerryChristmas to all who are celebrating! https://t.co/8JO2jqBgDL\n",
            "/////////////////////////////////////////////////////////////////////\n",
            "RT @UNICEF: Got questions about wearing a mask? You’re not alone. Check out this expert advice on how to help your family stop the spread o…\n",
            "/////////////////////////////////////////////////////////////////////\n",
            "RT @UNDP: Make your holiday season a #ZeroWaste #HolidaySeason at home. Even in a pandemic we can take eco-friendly steps for healthier com…\n",
            "/////////////////////////////////////////////////////////////////////\n",
            "#YearInReview: On this year's #UNDay in October, we marked 75 years of making a difference in the lives of people e… https://t.co/UnsnvDd80s\n",
            "/////////////////////////////////////////////////////////////////////\n",
            "RT @UNPeacekeeping: Voters in the Central African Republic 🇨🇫 are gearing up for elections on 27 Dec, which will determine who will lead th…\n",
            "/////////////////////////////////////////////////////////////////////\n",
            "RT @antonioguterres: My warmest wishes to everyone celebrating #Christmas\n",
            "\n",
            "May this occasion inspire us to reflect with compassion for the…\n",
            "/////////////////////////////////////////////////////////////////////\n",
            "During this holiday season, give the gift of food on behalf of your family &amp; friends and make a difference in someo… https://t.co/ET3fZFGZVx\n",
            "/////////////////////////////////////////////////////////////////////\n",
            "RT @Refugees: #YearInReview: The one that inspired us!\n",
            "\n",
            "Saleema is the first female Turkmen refugee doctor in Pakistan. #12DaysofPhotos htt…\n",
            "/////////////////////////////////////////////////////////////////////\n",
            "RT @UNEP: With the @UN🇺🇳 turning 75 this year, we shared images of key environmental moments from the past several decades.\n",
            "\n",
            "Take a visual…\n",
            "/////////////////////////////////////////////////////////////////////\n",
            "The climate crisis has not stopped amid #COVID19. Delaying #ClimateAction costs livelihoods and lives.\n",
            "\n",
            "We need a s… https://t.co/jGz9V5Qll7\n",
            "/////////////////////////////////////////////////////////////////////\n",
            "RT @UNOCHA: The #COVID19 pandemic has hit countries already dealing with humanitarian emergencies.\n",
            "\n",
            "Here are the 🔟 crises that need your at…\n",
            "/////////////////////////////////////////////////////////////////////\n",
            "#YearinReview: Our colleagues at @WFP were awarded the #NobelPeacePrize for their tireless efforts in achieving… https://t.co/UqMO0Fp00d\n",
            "/////////////////////////////////////////////////////////////////////\n",
            "RT @WFP: #HealthyAtHome This holiday season, don't overlook this important advice from WFP and @WHO nutrition experts:\n",
            " \n",
            "🔹Reduce sugar cons…\n",
            "/////////////////////////////////////////////////////////////////////\n"
          ],
          "name": "stdout"
        }
      ]
    },
    {
      "cell_type": "markdown",
      "metadata": {
        "id": "aHGemv06Rnbn"
      },
      "source": [
        "## Noise reduction / data cleaning"
      ]
    },
    {
      "cell_type": "code",
      "metadata": {
        "id": "ubXgla2mSihW"
      },
      "source": [
        "def cleaning(text_column):\r\n",
        "  clean_tweets=[]\r\n",
        "  for tweet in text_column:\r\n",
        "    tweet=re.sub(r'@[A-Za-z0-9]+','',tweet) # Remove @username\r\n",
        "    tweet=re.sub('https?://[A-Za-z0-9./]+','', tweet) # Remove https links\r\n",
        "    tweet = re.sub(r'\\b\\w{1,3}\\b', '', tweet) # Remove small words\r\n",
        "    tweet = ''.join(c for c in tweet if c <= '\\uFFFF')  # Remove characters beyond Basic Multilingual Plane (BMP) of Unicode:\r\n",
        "    tweet = re.sub(r'\\&\\w*;', '', tweet) # Remove HTML special entities (e.g. &amp;)\r\n",
        "    tweet = re.sub('[!@$#:]', '', tweet) # Remove some special characters\r\n",
        "  #  tweet=re.sub(\"this|that|their|than|your|This|That\", \"\", tweet)\r\n",
        "   # tweet = re.sub(r'#\\w*', '', tweet) # Remove hashtags\r\n",
        "    tweet=re.sub('[^A-Za-z0-9]+', ' ', tweet) #Remove all characters except numbers and letters\r\n",
        "    tweet = tweet.strip(' ') # Removing the blank space \r\n",
        "    tweet = tweet.lower()\r\n",
        "    clean_tweets.append(tweet)\r\n",
        "\r\n",
        "  print(clean_tweets[:5])\r\n",
        "  return clean_tweets"
      ],
      "execution_count": 14,
      "outputs": []
    },
    {
      "cell_type": "code",
      "metadata": {
        "colab": {
          "base_uri": "https://localhost:8080/"
        },
        "id": "bm0LedYpS2T1",
        "outputId": "ffcd8b12-25a2-4b6c-ce86-977f6383f7e8"
      },
      "source": [
        "ct=cleaning(df_UN.text)"
      ],
      "execution_count": 14,
      "outputs": [
        {
          "output_type": "stream",
          "text": [
            "['recognition justice development blackhistorymonth gets underway monday opportunity fightracism lear', 'covid tragically exacerbated suffering insecurity facing hundreds millions people needs', 'times crisis women leaders their communities frontline response services women explains', 'spokesperson strongly condemns detention aung president myint other political', 'united kingdom assumes presidency security council month february follow newyork']\n"
          ],
          "name": "stdout"
        }
      ]
    },
    {
      "cell_type": "code",
      "metadata": {
        "colab": {
          "base_uri": "https://localhost:8080/"
        },
        "id": "lFT31RMvcZ2k",
        "outputId": "05d34f41-cb2c-478e-b304-0e79fc7c1afe"
      },
      "source": [
        "len(ct)"
      ],
      "execution_count": 51,
      "outputs": [
        {
          "output_type": "execute_result",
          "data": {
            "text/plain": [
              "3209"
            ]
          },
          "metadata": {
            "tags": []
          },
          "execution_count": 51
        }
      ]
    },
    {
      "cell_type": "code",
      "metadata": {
        "colab": {
          "base_uri": "https://localhost:8080/"
        },
        "id": "OQZRE3fIT3Ts",
        "outputId": "140b65d5-63db-455d-c946-3ad774b93e7f"
      },
      "source": [
        "for tweet, ct_ in zip (df_UN.text[500:515], ct[500:515]):\r\n",
        "    print(\"\\n Original tweet:\", tweet, \"\\n Cleaned tweet: \", ct_)\r\n",
        "    print('/////////////////////////////////////////////////////////////////////')"
      ],
      "execution_count": 56,
      "outputs": [
        {
          "output_type": "stream",
          "text": [
            "\n",
            " Original tweet: #FBF to 2014 when children displaced from their homes by violence and conflict in South Sudan sang Christmas carols… https://t.co/CDoeojN5eK \n",
            " Cleaned tweet:  2014 when children displaced from their homes violence conflict south sudan sang christmas carols\n",
            "/////////////////////////////////////////////////////////////////////\n",
            "\n",
            " Original tweet: RT @WFP: A little reminder for this year's holiday cooking: keep #foodwaste to a minimum!\n",
            "\n",
            "🍞Buy only what you need\n",
            "🍲Eat leftovers\n",
            "🥧 Share t… \n",
            " Cleaned tweet:  little reminder this year holiday cooking keep foodwaste minimum only what need leftovers share\n",
            "/////////////////////////////////////////////////////////////////////\n",
            "\n",
            " Original tweet: #MerryChristmas to all who are celebrating! https://t.co/8JO2jqBgDL \n",
            " Cleaned tweet:  merrychristmas celebrating\n",
            "/////////////////////////////////////////////////////////////////////\n",
            "\n",
            " Original tweet: RT @UNICEF: Got questions about wearing a mask? You’re not alone. Check out this expert advice on how to help your family stop the spread o… \n",
            " Cleaned tweet:  questions about wearing mask alone check this expert advice help your family stop spread\n",
            "/////////////////////////////////////////////////////////////////////\n",
            "\n",
            " Original tweet: RT @UNDP: Make your holiday season a #ZeroWaste #HolidaySeason at home. Even in a pandemic we can take eco-friendly steps for healthier com… \n",
            " Cleaned tweet:  make your holiday season zerowaste holidayseason home even pandemic take friendly steps healthier\n",
            "/////////////////////////////////////////////////////////////////////\n",
            "\n",
            " Original tweet: #YearInReview: On this year's #UNDay in October, we marked 75 years of making a difference in the lives of people e… https://t.co/UnsnvDd80s \n",
            " Cleaned tweet:  yearinreview this year unday october marked years making difference lives people\n",
            "/////////////////////////////////////////////////////////////////////\n",
            "\n",
            " Original tweet: RT @UNPeacekeeping: Voters in the Central African Republic 🇨🇫 are gearing up for elections on 27 Dec, which will determine who will lead th… \n",
            " Cleaned tweet:  voters central african republic gearing elections which will determine will lead\n",
            "/////////////////////////////////////////////////////////////////////\n",
            "\n",
            " Original tweet: RT @antonioguterres: My warmest wishes to everyone celebrating #Christmas\n",
            "\n",
            "May this occasion inspire us to reflect with compassion for the… \n",
            " Cleaned tweet:  warmest wishes everyone celebrating christmas this occasion inspire reflect with compassion\n",
            "/////////////////////////////////////////////////////////////////////\n",
            "\n",
            " Original tweet: During this holiday season, give the gift of food on behalf of your family &amp; friends and make a difference in someo… https://t.co/ET3fZFGZVx \n",
            " Cleaned tweet:  during this holiday season give gift food behalf your family friends make difference someo\n",
            "/////////////////////////////////////////////////////////////////////\n",
            "\n",
            " Original tweet: RT @Refugees: #YearInReview: The one that inspired us!\n",
            "\n",
            "Saleema is the first female Turkmen refugee doctor in Pakistan. #12DaysofPhotos htt… \n",
            " Cleaned tweet:  yearinreview that inspired saleema first female turkmen refugee doctor pakistan 12daysofphotos\n",
            "/////////////////////////////////////////////////////////////////////\n",
            "\n",
            " Original tweet: RT @UNEP: With the @UN🇺🇳 turning 75 this year, we shared images of key environmental moments from the past several decades.\n",
            "\n",
            "Take a visual… \n",
            " Cleaned tweet:  with turning this year shared images environmental moments from past several decades take visual\n",
            "/////////////////////////////////////////////////////////////////////\n",
            "\n",
            " Original tweet: The climate crisis has not stopped amid #COVID19. Delaying #ClimateAction costs livelihoods and lives.\n",
            "\n",
            "We need a s… https://t.co/jGz9V5Qll7 \n",
            " Cleaned tweet:  climate crisis stopped amid covid19 delaying climateaction costs livelihoods lives need\n",
            "/////////////////////////////////////////////////////////////////////\n",
            "\n",
            " Original tweet: RT @UNOCHA: The #COVID19 pandemic has hit countries already dealing with humanitarian emergencies.\n",
            "\n",
            "Here are the 🔟 crises that need your at… \n",
            " Cleaned tweet:  covid19 pandemic countries already dealing with humanitarian emergencies here crises that need your\n",
            "/////////////////////////////////////////////////////////////////////\n",
            "\n",
            " Original tweet: #YearinReview: Our colleagues at @WFP were awarded the #NobelPeacePrize for their tireless efforts in achieving… https://t.co/UqMO0Fp00d \n",
            " Cleaned tweet:  yearinreview colleagues were awarded nobelpeaceprize their tireless efforts achieving\n",
            "/////////////////////////////////////////////////////////////////////\n",
            "\n",
            " Original tweet: RT @WFP: #HealthyAtHome This holiday season, don't overlook this important advice from WFP and @WHO nutrition experts:\n",
            " \n",
            "🔹Reduce sugar cons… \n",
            " Cleaned tweet:  healthyathome this holiday season overlook this important advice from nutrition experts reduce sugar cons\n",
            "/////////////////////////////////////////////////////////////////////\n"
          ],
          "name": "stdout"
        }
      ]
    },
    {
      "cell_type": "code",
      "metadata": {
        "id": "TyNTrsC-3lQz"
      },
      "source": [
        "from nltk.stem.lancaster import LancasterStemmer\r\n",
        "from nltk.stem import PorterStemmer "
      ],
      "execution_count": 21,
      "outputs": []
    },
    {
      "cell_type": "markdown",
      "metadata": {
        "id": "cukQYhxJU1sV"
      },
      "source": [
        "# Stemming"
      ]
    },
    {
      "cell_type": "code",
      "metadata": {
        "id": "mX2Przs13Ch6"
      },
      "source": [
        "porter = PorterStemmer()\r\n",
        "lancaster=LancasterStemmer()\r\n",
        "snowball = SnowballStemmer(\"english\")"
      ],
      "execution_count": 22,
      "outputs": []
    },
    {
      "cell_type": "code",
      "metadata": {
        "id": "dW2_Ee3uIG3l"
      },
      "source": [
        "# Tokenize and lemmatize\r\n",
        "def lemmatize_stemming(text, stemmer):\r\n",
        "  return stemmer.stem(WordNetLemmatizer().lemmatize(text, pos='v'))\r\n",
        "  "
      ],
      "execution_count": 23,
      "outputs": []
    },
    {
      "cell_type": "code",
      "metadata": {
        "id": "bWO3KYu4Ncoe"
      },
      "source": [
        "def preprocess(text, stemmer):\r\n",
        "    result=[]\r\n",
        "    for token in gensim.utils.simple_preprocess(text) : # split sentence into tokens i.e. words\r\n",
        "        if token not in gensim.parsing.preprocessing.STOPWORDS and len(token) > 3: # remove stop words and apply stemming \r\n",
        "            result.append(lemmatize_stemming(token, stemmer))\r\n",
        "            \r\n",
        "    return result\r\n",
        "  "
      ],
      "execution_count": 24,
      "outputs": []
    },
    {
      "cell_type": "code",
      "metadata": {
        "colab": {
          "base_uri": "https://localhost:8080/"
        },
        "id": "nLN_9HqsHLdJ",
        "outputId": "b45b53b9-635f-4cc8-dc3c-7289bb112116"
      },
      "source": [
        "# check which stemmer gives the most correct results\r\n",
        "for ct_ in range(50):\r\n",
        "  words = []\r\n",
        "  for word in ct[ct_].split(' '):\r\n",
        "      words.append(word)\r\n",
        "  if preprocess(ct[ct_], porter) != preprocess(ct[ct_], snowball):\r\n",
        "    print(\"PORTER and SNOWBALL results are not the same\")    \r\n",
        "    print(\"\\n Original text: \")\r\n",
        "    print(words)\r\n",
        "    print(\"\\n Porter Stemmer: \")\r\n",
        "    print(preprocess(ct[ct_], porter)) \r\n",
        "    print(\"\\n Lancaster Stemmer: \")\r\n",
        "    print(preprocess(ct[ct_], lancaster))\r\n",
        "    print(\"\\n Snowball Stemmer: \")\r\n",
        "    print(preprocess(ct[ct_], snowball)) \r\n",
        "    print(\"/////////////////////////////////////////\")"
      ],
      "execution_count": 47,
      "outputs": [
        {
          "output_type": "stream",
          "text": [
            "PORTER and SNOWBALL results are not the same\n",
            "\n",
            " Original text: \n",
            "['times', 'crisis', 'women', 'leaders', 'their', 'communities', 'frontline', 'response', 'services', 'women', 'explains']\n",
            "\n",
            " Porter Stemmer: \n",
            "['time', 'crisi', 'women', 'leader', 'commun', 'frontlin', 'respons', 'servic', 'women', 'explain']\n",
            "\n",
            " Lancaster Stemmer: \n",
            "['tim', 'cris', 'wom', 'lead', 'commun', 'frontlin', 'respons', 'serv', 'wom', 'explain']\n",
            "\n",
            " Snowball Stemmer: \n",
            "['time', 'crisi', 'women', 'leader', 'communiti', 'frontlin', 'respons', 'servic', 'women', 'explain']\n",
            "/////////////////////////////////////////\n",
            "PORTER and SNOWBALL results are not the same\n",
            "\n",
            " Original text: \n",
            "['spokesperson', 'strongly', 'condemns', 'detention', 'aung', 'president', 'myint', 'other', 'political']\n",
            "\n",
            " Porter Stemmer: \n",
            "['spokesperson', 'strongli', 'condemn', 'detent', 'aung', 'presid', 'myint', 'polit']\n",
            "\n",
            " Lancaster Stemmer: \n",
            "['spokesperson', 'strongly', 'condemn', 'det', 'aung', 'presid', 'myint', 'polit']\n",
            "\n",
            " Snowball Stemmer: \n",
            "['spokesperson', 'strong', 'condemn', 'detent', 'aung', 'presid', 'myint', 'polit']\n",
            "/////////////////////////////////////////\n",
            "PORTER and SNOWBALL results are not the same\n",
            "\n",
            " Original text: \n",
            "['nearly', 'children', 'subjected', 'child', 'labour', 'worldwide', 'resulting', 'them', 'being', 'from', 'schooling']\n",
            "\n",
            " Porter Stemmer: \n",
            "['nearli', 'children', 'subject', 'child', 'labour', 'worldwid', 'result', 'school']\n",
            "\n",
            " Lancaster Stemmer: \n",
            "['near', 'childr', 'subject', 'child', 'labo', 'worldwid', 'result', 'school']\n",
            "\n",
            " Snowball Stemmer: \n",
            "['near', 'children', 'subject', 'child', 'labour', 'worldwid', 'result', 'school']\n",
            "/////////////////////////////////////////\n",
            "PORTER and SNOWBALL results are not the same\n",
            "\n",
            " Original text: \n",
            "['give', 'science', 'credit', 'trust', 'deserves', 'communications', 'chief', 'talks']\n",
            "\n",
            " Porter Stemmer: \n",
            "['scienc', 'credit', 'trust', 'deserv', 'commun', 'chief', 'talk']\n",
            "\n",
            " Lancaster Stemmer: \n",
            "['sci', 'credit', 'trust', 'deserv', 'commun', 'chief', 'talk']\n",
            "\n",
            " Snowball Stemmer: \n",
            "['scienc', 'credit', 'trust', 'deserv', 'communic', 'chief', 'talk']\n",
            "/////////////////////////////////////////\n",
            "PORTER and SNOWBALL results are not the same\n",
            "\n",
            " Original text: \n",
            "['vaccinated', 'covid19', 'vaccine', 'this', 'week', 'secretary', 'general', 'expressed']\n",
            "\n",
            " Porter Stemmer: \n",
            "['vaccin', 'covid', 'vaccin', 'week', 'secretari', 'gener', 'express']\n",
            "\n",
            " Lancaster Stemmer: \n",
            "['vaccin', 'covid', 'vaccin', 'week', 'secret', 'gen', 'express']\n",
            "\n",
            " Snowball Stemmer: \n",
            "['vaccin', 'covid', 'vaccin', 'week', 'secretari', 'general', 'express']\n",
            "/////////////////////////////////////////\n",
            "PORTER and SNOWBALL results are not the same\n",
            "\n",
            " Original text: \n",
            "['more', 'than', 'million', 'people', 'have', 'died', 'from', 'covid19', 'remember', 'those', 'have', 'loved', 'lost', 'this', 'deadly']\n",
            "\n",
            " Porter Stemmer: \n",
            "['million', 'peopl', 'die', 'covid', 'rememb', 'love', 'lose', 'deadli']\n",
            "\n",
            " Lancaster Stemmer: \n",
            "['mil', 'peopl', 'die', 'covid', 'rememb', 'lov', 'los', 'dead']\n",
            "\n",
            " Snowball Stemmer: \n",
            "['million', 'peopl', 'die', 'covid', 'rememb', 'love', 'lose', 'dead']\n",
            "/////////////////////////////////////////\n",
            "PORTER and SNOWBALL results are not the same\n",
            "\n",
            " Original text: \n",
            "['iran', 'strongly', 'condemn', 'series', 'executions', 'least', 'since', 'december', 'including', 'people', 'from', 'minor']\n",
            "\n",
            " Porter Stemmer: \n",
            "['iran', 'strongli', 'condemn', 'seri', 'execut', 'decemb', 'includ', 'peopl', 'minor']\n",
            "\n",
            " Lancaster Stemmer: \n",
            "['ir', 'strongly', 'condemn', 'sery', 'execut', 'decemb', 'includ', 'peopl', 'min']\n",
            "\n",
            " Snowball Stemmer: \n",
            "['iran', 'strong', 'condemn', 'seri', 'execut', 'decemb', 'includ', 'peopl', 'minor']\n",
            "/////////////////////////////////////////\n",
            "PORTER and SNOWBALL results are not the same\n",
            "\n",
            " Original text: \n",
            "['srilanka', 'failure', 'address', 'past', 'violations', 'significantly', 'heightened', 'risk', 'humanrights', 'violations', 'being']\n",
            "\n",
            " Porter Stemmer: \n",
            "['srilanka', 'failur', 'address', 'past', 'violat', 'significantli', 'heighten', 'risk', 'humanright', 'violat']\n",
            "\n",
            " Lancaster Stemmer: \n",
            "['srilank', 'fail', 'address', 'past', 'viol', 'sign', 'height', 'risk', 'humanright', 'viol']\n",
            "\n",
            " Snowball Stemmer: \n",
            "['srilanka', 'failur', 'address', 'past', 'violat', 'signific', 'heighten', 'risk', 'humanright', 'violat']\n",
            "/////////////////////////////////////////\n"
          ],
          "name": "stdout"
        }
      ]
    },
    {
      "cell_type": "markdown",
      "metadata": {
        "id": "_lNdSAPoRjmi"
      },
      "source": [
        "In this case Snowball Stemmer appeares to perform the best, and Lancaster Stemmer the worse. For example:\r\n",
        "\r\n",
        " Porter Stemmer: \r\n",
        "['million', 'peopl', 'die', 'covid', 'rememb',** 'love',** 'lose', **'deadli'**] \r\n",
        "\r\n",
        " Lancaster Stemmer: \r\n",
        "['mil', 'peopl', 'die', 'covid', 'rememb', **'lov',** 'los', 'dead'] \r\n",
        "\r\n",
        " Snowball Stemmer: \r\n",
        "['million', 'peopl', 'die', 'covid', 'rememb',** 'love',** 'lose', **'dead'**] -- the word \"dead\" is correctly stemmed\r\n",
        "\r\n",
        "\r\n",
        "\r\n",
        "\r\n",
        "\r\n"
      ]
    },
    {
      "cell_type": "code",
      "metadata": {
        "id": "y6oeUspxOP0U"
      },
      "source": [
        "processed = []\r\n",
        "for t in ct:\r\n",
        "    processed.append(preprocess(t, snowball))"
      ],
      "execution_count": 58,
      "outputs": []
    },
    {
      "cell_type": "markdown",
      "metadata": {
        "id": "ZKY1PYx1VOPq"
      },
      "source": [
        "# Sentiment analysis"
      ]
    },
    {
      "cell_type": "markdown",
      "metadata": {
        "id": "0flHFJHCKVJR"
      },
      "source": [
        "Polarity is float which lies in the range of [-1,1] where 1 means positive statement and -1 means a negative statement. Subjective sentences generally refer to personal opinion, emotion or judgment whereas objective refers to factual information. Subjectivity is also a float which lies in the range of [0,1].\r\n",
        "\r\n",
        "[source](https://www.analyticsvidhya.com/blog/2018/02/natural-language-processing-for-beginners-using-textblob/#:~:text=The%20sentiment%20function%20of%20textblob,properties%2C%20polarity%2C%20and%20subjectivity.&text=Subjective%20sentences%20generally%20refer%20to,of%20%5B0%2C1%5D.)"
      ]
    },
    {
      "cell_type": "code",
      "metadata": {
        "id": "TtDXY2pO5uEF"
      },
      "source": [
        "def sentiment(preprocessed_text):\r\n",
        "  neutral=0\r\n",
        "  positive=0\r\n",
        "  negative=0\r\n",
        "  polarity=[]\r\n",
        "  subjectivity=[]\r\n",
        "  tweet_text=[]\r\n",
        "\r\n",
        "  for tweet in preprocessed_text:\r\n",
        "    text=TextBlob(tweet)\r\n",
        "    polarity.append(text.sentiment.polarity)\r\n",
        "    subjectivity.append(text.sentiment.subjectivity)\r\n",
        "    tweet_text.append(tweet)\r\n",
        "    \r\n",
        "    if text.sentiment.polarity == 0:\r\n",
        "      neutral += 1 # The + operation adds the array elements to the original array.\r\n",
        "    elif text.sentiment.polarity > 0:\r\n",
        "      positive += 1\r\n",
        "    else: negative +=1\r\n",
        "\r\n",
        "\r\n",
        "  neutral_percent=round(neutral/len(polarity)*100,2)\r\n",
        "  positive_percent=round(positive/len(polarity)*100,2)\r\n",
        "  negative_percent=round(negative/len(polarity)*100,2)\r\n",
        "  print(neutral_percent, positive_percent, negative_percent)\r\n",
        "\r\n",
        "  data_new={'Polarity': polarity, 'Subjectivity': subjectivity, 'CleanTweet':tweet_text}\r\n",
        "  df = pd.DataFrame(data_new)\r\n",
        "  df[\"Sentiment\"]=np.where(df.Polarity>0, \"Positive\", \"Neutral\")  \r\n",
        "  df[\"Sentiment\"]=np.where(g.Polarity<0, \"Negative\", df[\"Sentiment\"])\r\n",
        "\r\n",
        "  labels='Positive '+str(positive_percent)+'%', 'Negative '+str(negative_percent)+'%', 'Neutral '+str(neutral_percent)+'%'\r\n",
        "  sizes=[positive_percent, negative_percent, neutral_percent]\r\n",
        "  plt.title('Sentiment analysis of @UN '+str(len(polarity))+' first tweets')\r\n",
        "  plt.pie(sizes, labels=labels, shadow=True)\r\n",
        "\r\n",
        "  plt.show()\r\n",
        "  return df"
      ],
      "execution_count": 199,
      "outputs": []
    },
    {
      "cell_type": "code",
      "metadata": {
        "id": "U3Hjzv9WXNJn"
      },
      "source": [
        "processed_tweets=[' '.join(x) for x in processed]"
      ],
      "execution_count": 200,
      "outputs": []
    },
    {
      "cell_type": "code",
      "metadata": {
        "colab": {
          "base_uri": "https://localhost:8080/"
        },
        "id": "o8Lmx61-XSA2",
        "outputId": "8532f3b7-b5db-49f8-defe-19c190da61ae"
      },
      "source": [
        "processed_tweets[:3]"
      ],
      "execution_count": 201,
      "outputs": [
        {
          "output_type": "execute_result",
          "data": {
            "text/plain": [
              "['recognit justic develop get underway monday opportun fightrac lear',\n",
              " 'covid tragic exacerb suffer insecur face hundr million peopl need',\n",
              " 'time crisi women leader communiti frontlin respons servic women explain']"
            ]
          },
          "metadata": {
            "tags": []
          },
          "execution_count": 201
        }
      ]
    },
    {
      "cell_type": "code",
      "metadata": {
        "colab": {
          "base_uri": "https://localhost:8080/",
          "height": 280
        },
        "id": "0-J_X8eCYptU",
        "outputId": "36692201-c060-4ed4-9f46-5c190b93d06b"
      },
      "source": [
        "stemmed=sentiment(processed_tweets) # applied sentiment analysis to stemmed text"
      ],
      "execution_count": 202,
      "outputs": [
        {
          "output_type": "stream",
          "text": [
            "56.93 32.56 10.5\n"
          ],
          "name": "stdout"
        },
        {
          "output_type": "display_data",
          "data": {
            "image/png": "[encoded data removed]",
            "text/plain": [
              "<Figure size 432x288 with 1 Axes>"
            ]
          },
          "metadata": {
            "tags": []
          }
        }
      ]
    },
    {
      "cell_type": "code",
      "metadata": {
        "colab": {
          "base_uri": "https://localhost:8080/",
          "height": 280
        },
        "id": "uzP0OXX_wYv7",
        "outputId": "53c58697-9da2-4bab-9084-730b1fa35ef8"
      },
      "source": [
        "cleaned=sentiment(ct) # applied sentiment analysis to cleaned with regular expressions text, no stemming"
      ],
      "execution_count": 203,
      "outputs": [
        {
          "output_type": "stream",
          "text": [
            "39.39 45.25 15.36\n"
          ],
          "name": "stdout"
        },
        {
          "output_type": "display_data",
          "data": {
            "image/png": "[encoded data removed]",
            "text/plain": [
              "<Figure size 432x288 with 1 Axes>"
            ]
          },
          "metadata": {
            "tags": []
          }
        }
      ]
    },
    {
      "cell_type": "code",
      "metadata": {
        "colab": {
          "base_uri": "https://localhost:8080/",
          "height": 392
        },
        "id": "2jzouvAV94x0",
        "outputId": "c0565130-7349-4d15-9ccd-ff61da33dd5e"
      },
      "source": [
        "cleaned"
      ],
      "execution_count": 204,
      "outputs": [
        {
          "output_type": "execute_result",
          "data": {
            "text/html": [
              "<div>\n",
              "<style scoped>\n",
              "    .dataframe tbody tr th:only-of-type {\n",
              "        vertical-align: middle;\n",
              "    }\n",
              "\n",
              "    .dataframe tbody tr th {\n",
              "        vertical-align: top;\n",
              "    }\n",
              "\n",
              "    .dataframe thead th {\n",
              "        text-align: right;\n",
              "    }\n",
              "</style>\n",
              "<table border=\"1\" class=\"dataframe\">\n",
              "  <thead>\n",
              "    <tr style=\"text-align: right;\">\n",
              "      <th></th>\n",
              "      <th>Polarity</th>\n",
              "      <th>Subjectivity</th>\n",
              "      <th>CleanTweet</th>\n",
              "      <th>Sentiment</th>\n",
              "    </tr>\n",
              "  </thead>\n",
              "  <tbody>\n",
              "    <tr>\n",
              "      <th>0</th>\n",
              "      <td>0.000000</td>\n",
              "      <td>0.000000</td>\n",
              "      <td>recognition justice development blackhistorymo...</td>\n",
              "      <td>Neutral</td>\n",
              "    </tr>\n",
              "    <tr>\n",
              "      <th>1</th>\n",
              "      <td>0.000000</td>\n",
              "      <td>0.000000</td>\n",
              "      <td>covid tragically exacerbated suffering insecur...</td>\n",
              "      <td>Negative</td>\n",
              "    </tr>\n",
              "    <tr>\n",
              "      <th>2</th>\n",
              "      <td>0.000000</td>\n",
              "      <td>0.000000</td>\n",
              "      <td>times crisis women leaders their communities f...</td>\n",
              "      <td>Neutral</td>\n",
              "    </tr>\n",
              "    <tr>\n",
              "      <th>3</th>\n",
              "      <td>0.102778</td>\n",
              "      <td>0.402778</td>\n",
              "      <td>spokesperson strongly condemns detention aung ...</td>\n",
              "      <td>Positive</td>\n",
              "    </tr>\n",
              "    <tr>\n",
              "      <th>4</th>\n",
              "      <td>0.000000</td>\n",
              "      <td>0.000000</td>\n",
              "      <td>united kingdom assumes presidency security cou...</td>\n",
              "      <td>Neutral</td>\n",
              "    </tr>\n",
              "    <tr>\n",
              "      <th>...</th>\n",
              "      <td>...</td>\n",
              "      <td>...</td>\n",
              "      <td>...</td>\n",
              "      <td>...</td>\n",
              "    </tr>\n",
              "    <tr>\n",
              "      <th>3204</th>\n",
              "      <td>0.275000</td>\n",
              "      <td>0.425000</td>\n",
              "      <td>charter signed years principles ring just true...</td>\n",
              "      <td>Positive</td>\n",
              "    </tr>\n",
              "    <tr>\n",
              "      <th>3205</th>\n",
              "      <td>0.162121</td>\n",
              "      <td>0.383333</td>\n",
              "      <td>champions gender equality every woman girl exe...</td>\n",
              "      <td>Positive</td>\n",
              "    </tr>\n",
              "    <tr>\n",
              "      <th>3206</th>\n",
              "      <td>0.136364</td>\n",
              "      <td>0.500000</td>\n",
              "      <td>this msmeday watch interactive webtv programme...</td>\n",
              "      <td>Positive</td>\n",
              "    </tr>\n",
              "    <tr>\n",
              "      <th>3207</th>\n",
              "      <td>0.100000</td>\n",
              "      <td>0.383333</td>\n",
              "      <td>partners clear explosive ordnance helping crea...</td>\n",
              "      <td>Positive</td>\n",
              "    </tr>\n",
              "    <tr>\n",
              "      <th>3208</th>\n",
              "      <td>0.000000</td>\n",
              "      <td>0.100000</td>\n",
              "      <td>human rights equality dignity ideals laid char...</td>\n",
              "      <td>Neutral</td>\n",
              "    </tr>\n",
              "  </tbody>\n",
              "</table>\n",
              "<p>3209 rows × 4 columns</p>\n",
              "</div>"
            ],
            "text/plain": [
              "      Polarity  ...  Sentiment\n",
              "0     0.000000  ...    Neutral\n",
              "1     0.000000  ...   Negative\n",
              "2     0.000000  ...    Neutral\n",
              "3     0.102778  ...   Positive\n",
              "4     0.000000  ...    Neutral\n",
              "...        ...  ...        ...\n",
              "3204  0.275000  ...   Positive\n",
              "3205  0.162121  ...   Positive\n",
              "3206  0.136364  ...   Positive\n",
              "3207  0.100000  ...   Positive\n",
              "3208  0.000000  ...    Neutral\n",
              "\n",
              "[3209 rows x 4 columns]"
            ]
          },
          "metadata": {
            "tags": []
          },
          "execution_count": 204
        }
      ]
    },
    {
      "cell_type": "code",
      "metadata": {
        "colab": {
          "base_uri": "https://localhost:8080/",
          "height": 392
        },
        "id": "AYttjK_Ww1q-",
        "outputId": "0ce33f05-8849-4549-fb1d-674e2ad8f60d"
      },
      "source": [
        "stemmed"
      ],
      "execution_count": 205,
      "outputs": [
        {
          "output_type": "execute_result",
          "data": {
            "text/html": [
              "<div>\n",
              "<style scoped>\n",
              "    .dataframe tbody tr th:only-of-type {\n",
              "        vertical-align: middle;\n",
              "    }\n",
              "\n",
              "    .dataframe tbody tr th {\n",
              "        vertical-align: top;\n",
              "    }\n",
              "\n",
              "    .dataframe thead th {\n",
              "        text-align: right;\n",
              "    }\n",
              "</style>\n",
              "<table border=\"1\" class=\"dataframe\">\n",
              "  <thead>\n",
              "    <tr style=\"text-align: right;\">\n",
              "      <th></th>\n",
              "      <th>Polarity</th>\n",
              "      <th>Subjectivity</th>\n",
              "      <th>CleanTweet</th>\n",
              "      <th>Sentiment</th>\n",
              "    </tr>\n",
              "  </thead>\n",
              "  <tbody>\n",
              "    <tr>\n",
              "      <th>0</th>\n",
              "      <td>0.000000</td>\n",
              "      <td>0.000000</td>\n",
              "      <td>recognit justic develop get underway monday op...</td>\n",
              "      <td>Neutral</td>\n",
              "    </tr>\n",
              "    <tr>\n",
              "      <th>1</th>\n",
              "      <td>-0.750000</td>\n",
              "      <td>0.750000</td>\n",
              "      <td>covid tragic exacerb suffer insecur face hundr...</td>\n",
              "      <td>Negative</td>\n",
              "    </tr>\n",
              "    <tr>\n",
              "      <th>2</th>\n",
              "      <td>0.000000</td>\n",
              "      <td>0.000000</td>\n",
              "      <td>time crisi women leader communiti frontlin res...</td>\n",
              "      <td>Neutral</td>\n",
              "    </tr>\n",
              "    <tr>\n",
              "      <th>3</th>\n",
              "      <td>0.433333</td>\n",
              "      <td>0.733333</td>\n",
              "      <td>spokesperson strong condemn detent aung presid...</td>\n",
              "      <td>Positive</td>\n",
              "    </tr>\n",
              "    <tr>\n",
              "      <th>4</th>\n",
              "      <td>0.000000</td>\n",
              "      <td>0.000000</td>\n",
              "      <td>unit kingdom assum presid secur council month ...</td>\n",
              "      <td>Neutral</td>\n",
              "    </tr>\n",
              "    <tr>\n",
              "      <th>...</th>\n",
              "      <td>...</td>\n",
              "      <td>...</td>\n",
              "      <td>...</td>\n",
              "      <td>...</td>\n",
              "    </tr>\n",
              "    <tr>\n",
              "      <th>3204</th>\n",
              "      <td>0.350000</td>\n",
              "      <td>0.650000</td>\n",
              "      <td>charter sign year principl ring true today nee...</td>\n",
              "      <td>Positive</td>\n",
              "    </tr>\n",
              "    <tr>\n",
              "      <th>3205</th>\n",
              "      <td>0.105519</td>\n",
              "      <td>0.346429</td>\n",
              "      <td>champion gender equal woman girl exercis human...</td>\n",
              "      <td>Positive</td>\n",
              "    </tr>\n",
              "    <tr>\n",
              "      <th>3206</th>\n",
              "      <td>0.136364</td>\n",
              "      <td>0.500000</td>\n",
              "      <td>msmeday watch interact webtv programm live fac...</td>\n",
              "      <td>Positive</td>\n",
              "    </tr>\n",
              "    <tr>\n",
              "      <th>3207</th>\n",
              "      <td>0.100000</td>\n",
              "      <td>0.383333</td>\n",
              "      <td>partner clear explos ordnanc help creat safegr...</td>\n",
              "      <td>Positive</td>\n",
              "    </tr>\n",
              "    <tr>\n",
              "      <th>3208</th>\n",
              "      <td>0.296429</td>\n",
              "      <td>0.471429</td>\n",
              "      <td>human right equal digniti ideal lay charter si...</td>\n",
              "      <td>Positive</td>\n",
              "    </tr>\n",
              "  </tbody>\n",
              "</table>\n",
              "<p>3209 rows × 4 columns</p>\n",
              "</div>"
            ],
            "text/plain": [
              "      Polarity  ...  Sentiment\n",
              "0     0.000000  ...    Neutral\n",
              "1    -0.750000  ...   Negative\n",
              "2     0.000000  ...    Neutral\n",
              "3     0.433333  ...   Positive\n",
              "4     0.000000  ...    Neutral\n",
              "...        ...  ...        ...\n",
              "3204  0.350000  ...   Positive\n",
              "3205  0.105519  ...   Positive\n",
              "3206  0.136364  ...   Positive\n",
              "3207  0.100000  ...   Positive\n",
              "3208  0.296429  ...   Positive\n",
              "\n",
              "[3209 rows x 4 columns]"
            ]
          },
          "metadata": {
            "tags": []
          },
          "execution_count": 205
        }
      ]
    },
    {
      "cell_type": "code",
      "metadata": {
        "id": "OzwTAU_oOkkt"
      },
      "source": [
        "j=pd.concat([cleaned, stemmed], axis=1)"
      ],
      "execution_count": 206,
      "outputs": []
    },
    {
      "cell_type": "code",
      "metadata": {
        "colab": {
          "base_uri": "https://localhost:8080/",
          "height": 910
        },
        "id": "jQ7bhko8VGZX",
        "outputId": "144ced47-8398-4950-f60b-b3a334a061e2"
      },
      "source": [
        "j.head(30)"
      ],
      "execution_count": 207,
      "outputs": [
        {
          "output_type": "execute_result",
          "data": {
            "text/html": [
              "<div>\n",
              "<style scoped>\n",
              "    .dataframe tbody tr th:only-of-type {\n",
              "        vertical-align: middle;\n",
              "    }\n",
              "\n",
              "    .dataframe tbody tr th {\n",
              "        vertical-align: top;\n",
              "    }\n",
              "\n",
              "    .dataframe thead th {\n",
              "        text-align: right;\n",
              "    }\n",
              "</style>\n",
              "<table border=\"1\" class=\"dataframe\">\n",
              "  <thead>\n",
              "    <tr style=\"text-align: right;\">\n",
              "      <th></th>\n",
              "      <th>Polarity</th>\n",
              "      <th>Subjectivity</th>\n",
              "      <th>CleanTweet</th>\n",
              "      <th>Sentiment</th>\n",
              "      <th>Polarity</th>\n",
              "      <th>Subjectivity</th>\n",
              "      <th>CleanTweet</th>\n",
              "      <th>Sentiment</th>\n",
              "    </tr>\n",
              "  </thead>\n",
              "  <tbody>\n",
              "    <tr>\n",
              "      <th>0</th>\n",
              "      <td>0.000000</td>\n",
              "      <td>0.000000</td>\n",
              "      <td>recognition justice development blackhistorymo...</td>\n",
              "      <td>Neutral</td>\n",
              "      <td>0.000000</td>\n",
              "      <td>0.000000</td>\n",
              "      <td>recognit justic develop get underway monday op...</td>\n",
              "      <td>Neutral</td>\n",
              "    </tr>\n",
              "    <tr>\n",
              "      <th>1</th>\n",
              "      <td>0.000000</td>\n",
              "      <td>0.000000</td>\n",
              "      <td>covid tragically exacerbated suffering insecur...</td>\n",
              "      <td>Negative</td>\n",
              "      <td>-0.750000</td>\n",
              "      <td>0.750000</td>\n",
              "      <td>covid tragic exacerb suffer insecur face hundr...</td>\n",
              "      <td>Negative</td>\n",
              "    </tr>\n",
              "    <tr>\n",
              "      <th>2</th>\n",
              "      <td>0.000000</td>\n",
              "      <td>0.000000</td>\n",
              "      <td>times crisis women leaders their communities f...</td>\n",
              "      <td>Neutral</td>\n",
              "      <td>0.000000</td>\n",
              "      <td>0.000000</td>\n",
              "      <td>time crisi women leader communiti frontlin res...</td>\n",
              "      <td>Neutral</td>\n",
              "    </tr>\n",
              "    <tr>\n",
              "      <th>3</th>\n",
              "      <td>0.102778</td>\n",
              "      <td>0.402778</td>\n",
              "      <td>spokesperson strongly condemns detention aung ...</td>\n",
              "      <td>Positive</td>\n",
              "      <td>0.433333</td>\n",
              "      <td>0.733333</td>\n",
              "      <td>spokesperson strong condemn detent aung presid...</td>\n",
              "      <td>Positive</td>\n",
              "    </tr>\n",
              "    <tr>\n",
              "      <th>4</th>\n",
              "      <td>0.000000</td>\n",
              "      <td>0.000000</td>\n",
              "      <td>united kingdom assumes presidency security cou...</td>\n",
              "      <td>Neutral</td>\n",
              "      <td>0.000000</td>\n",
              "      <td>0.000000</td>\n",
              "      <td>unit kingdom assum presid secur council month ...</td>\n",
              "      <td>Neutral</td>\n",
              "    </tr>\n",
              "    <tr>\n",
              "      <th>5</th>\n",
              "      <td>0.286869</td>\n",
              "      <td>0.659596</td>\n",
              "      <td>women happy blackhistorymonth this month highl...</td>\n",
              "      <td>Negative</td>\n",
              "      <td>-0.166667</td>\n",
              "      <td>0.433333</td>\n",
              "      <td>women happi month highlight black women trailb...</td>\n",
              "      <td>Negative</td>\n",
              "    </tr>\n",
              "    <tr>\n",
              "      <th>6</th>\n",
              "      <td>1.000000</td>\n",
              "      <td>1.000000</td>\n",
              "      <td>champions earth take climateaction inspire def...</td>\n",
              "      <td>Positive</td>\n",
              "      <td>1.000000</td>\n",
              "      <td>1.000000</td>\n",
              "      <td>champion earth climateact inspir defend mobil ...</td>\n",
              "      <td>Positive</td>\n",
              "    </tr>\n",
              "    <tr>\n",
              "      <th>7</th>\n",
              "      <td>0.100000</td>\n",
              "      <td>0.400000</td>\n",
              "      <td>nearly children subjected child labour worldwi...</td>\n",
              "      <td>Negative</td>\n",
              "      <td>-0.033333</td>\n",
              "      <td>0.366667</td>\n",
              "      <td>near children subject child labour worldwid re...</td>\n",
              "      <td>Negative</td>\n",
              "    </tr>\n",
              "    <tr>\n",
              "      <th>8</th>\n",
              "      <td>0.000000</td>\n",
              "      <td>0.000000</td>\n",
              "      <td>climate crisis stopped amid covid19 delaying c...</td>\n",
              "      <td>Neutral</td>\n",
              "      <td>0.136364</td>\n",
              "      <td>0.500000</td>\n",
              "      <td>climat crisi stop amid covid delay climateact ...</td>\n",
              "      <td>Positive</td>\n",
              "    </tr>\n",
              "    <tr>\n",
              "      <th>9</th>\n",
              "      <td>0.200000</td>\n",
              "      <td>0.800000</td>\n",
              "      <td>time secure well being people economies societ...</td>\n",
              "      <td>Positive</td>\n",
              "      <td>0.000000</td>\n",
              "      <td>0.000000</td>\n",
              "      <td>time secur peopl economi societi planet possibl</td>\n",
              "      <td>Neutral</td>\n",
              "    </tr>\n",
              "    <tr>\n",
              "      <th>10</th>\n",
              "      <td>0.150000</td>\n",
              "      <td>0.400000</td>\n",
              "      <td>2020 more than million players supported green...</td>\n",
              "      <td>Negative</td>\n",
              "      <td>-0.200000</td>\n",
              "      <td>0.300000</td>\n",
              "      <td>million player support green initi like tree p...</td>\n",
              "      <td>Negative</td>\n",
              "    </tr>\n",
              "    <tr>\n",
              "      <th>11</th>\n",
              "      <td>0.000000</td>\n",
              "      <td>0.000000</td>\n",
              "      <td>addition their core duties women servingforpea...</td>\n",
              "      <td>Neutral</td>\n",
              "      <td>0.000000</td>\n",
              "      <td>0.000000</td>\n",
              "      <td>addit core duti women servingforpeac help faci...</td>\n",
              "      <td>Neutral</td>\n",
              "    </tr>\n",
              "    <tr>\n",
              "      <th>12</th>\n",
              "      <td>0.350000</td>\n",
              "      <td>0.550000</td>\n",
              "      <td>equivalent million full time jobs have been lo...</td>\n",
              "      <td>Positive</td>\n",
              "      <td>0.000000</td>\n",
              "      <td>0.000000</td>\n",
              "      <td>equival million time job lose covid pandem accord</td>\n",
              "      <td>Neutral</td>\n",
              "    </tr>\n",
              "    <tr>\n",
              "      <th>13</th>\n",
              "      <td>0.000000</td>\n",
              "      <td>0.000000</td>\n",
              "      <td>sunday worldleprosyday learn working stigma su...</td>\n",
              "      <td>Neutral</td>\n",
              "      <td>0.000000</td>\n",
              "      <td>0.000000</td>\n",
              "      <td>sunday worldleprosyday learn work stigma support</td>\n",
              "      <td>Neutral</td>\n",
              "    </tr>\n",
              "    <tr>\n",
              "      <th>14</th>\n",
              "      <td>0.000000</td>\n",
              "      <td>0.000000</td>\n",
              "      <td>give science credit trust deserves communicati...</td>\n",
              "      <td>Neutral</td>\n",
              "      <td>0.000000</td>\n",
              "      <td>0.000000</td>\n",
              "      <td>scienc credit trust deserv communic chief talk</td>\n",
              "      <td>Neutral</td>\n",
              "    </tr>\n",
              "    <tr>\n",
              "      <th>15</th>\n",
              "      <td>0.100000</td>\n",
              "      <td>0.300000</td>\n",
              "      <td>sunday worldleprosyday ending stigma associate...</td>\n",
              "      <td>Positive</td>\n",
              "      <td>0.000000</td>\n",
              "      <td>0.000000</td>\n",
              "      <td>sunday worldleprosyday end stigma associ disea...</td>\n",
              "      <td>Neutral</td>\n",
              "    </tr>\n",
              "    <tr>\n",
              "      <th>16</th>\n",
              "      <td>0.000000</td>\n",
              "      <td>0.000000</td>\n",
              "      <td>this together will through this together worki...</td>\n",
              "      <td>Neutral</td>\n",
              "      <td>0.000000</td>\n",
              "      <td>0.000000</td>\n",
              "      <td>work clock help peopl</td>\n",
              "      <td>Neutral</td>\n",
              "    </tr>\n",
              "    <tr>\n",
              "      <th>17</th>\n",
              "      <td>0.125000</td>\n",
              "      <td>0.666667</td>\n",
              "      <td>racetoresilience putting people nature first p...</td>\n",
              "      <td>Positive</td>\n",
              "      <td>0.000000</td>\n",
              "      <td>0.000000</td>\n",
              "      <td>put peopl natur pursuit resili world</td>\n",
              "      <td>Neutral</td>\n",
              "    </tr>\n",
              "    <tr>\n",
              "      <th>18</th>\n",
              "      <td>0.000000</td>\n",
              "      <td>0.125000</td>\n",
              "      <td>million people shared their hopes future help ...</td>\n",
              "      <td>Neutral</td>\n",
              "      <td>0.000000</td>\n",
              "      <td>0.000000</td>\n",
              "      <td>million peopl share hop futur help reach aspir</td>\n",
              "      <td>Neutral</td>\n",
              "    </tr>\n",
              "    <tr>\n",
              "      <th>19</th>\n",
              "      <td>-0.150000</td>\n",
              "      <td>0.466667</td>\n",
              "      <td>colleague yvonne working beirut when vast expl...</td>\n",
              "      <td>Negative</td>\n",
              "      <td>-0.125000</td>\n",
              "      <td>0.700000</td>\n",
              "      <td>colleagu yvonn work beirut vast explos port ki...</td>\n",
              "      <td>Negative</td>\n",
              "    </tr>\n",
              "    <tr>\n",
              "      <th>20</th>\n",
              "      <td>0.050000</td>\n",
              "      <td>0.500000</td>\n",
              "      <td>vaccinated covid19 vaccine this week secretary...</td>\n",
              "      <td>Positive</td>\n",
              "      <td>0.050000</td>\n",
              "      <td>0.500000</td>\n",
              "      <td>vaccin covid vaccin week secretari general exp...</td>\n",
              "      <td>Positive</td>\n",
              "    </tr>\n",
              "    <tr>\n",
              "      <th>21</th>\n",
              "      <td>0.433333</td>\n",
              "      <td>0.733333</td>\n",
              "      <td>strong women help inspire strong girls togethe...</td>\n",
              "      <td>Positive</td>\n",
              "      <td>0.433333</td>\n",
              "      <td>0.733333</td>\n",
              "      <td>strong women help inspir strong girl help achi...</td>\n",
              "      <td>Positive</td>\n",
              "    </tr>\n",
              "    <tr>\n",
              "      <th>22</th>\n",
              "      <td>0.500000</td>\n",
              "      <td>0.500000</td>\n",
              "      <td>2020 record refugee resettlement more resettle...</td>\n",
              "      <td>Positive</td>\n",
              "      <td>0.000000</td>\n",
              "      <td>0.000000</td>\n",
              "      <td>record refuge resettl resettl place need help ...</td>\n",
              "      <td>Neutral</td>\n",
              "    </tr>\n",
              "    <tr>\n",
              "      <th>23</th>\n",
              "      <td>0.333333</td>\n",
              "      <td>0.566667</td>\n",
              "      <td>more than million people have died from covid1...</td>\n",
              "      <td>Positive</td>\n",
              "      <td>0.150000</td>\n",
              "      <td>0.500000</td>\n",
              "      <td>million peopl die covid rememb love lose dead</td>\n",
              "      <td>Positive</td>\n",
              "    </tr>\n",
              "    <tr>\n",
              "      <th>24</th>\n",
              "      <td>-0.200000</td>\n",
              "      <td>0.300000</td>\n",
              "      <td>world cannot turn back this crisis which going...</td>\n",
              "      <td>Neutral</td>\n",
              "      <td>0.000000</td>\n",
              "      <td>0.000000</td>\n",
              "      <td>world turn crisi go wors offici say</td>\n",
              "      <td>Neutral</td>\n",
              "    </tr>\n",
              "    <tr>\n",
              "      <th>25</th>\n",
              "      <td>-0.050000</td>\n",
              "      <td>0.050000</td>\n",
              "      <td>women there excuse violence against women that...</td>\n",
              "      <td>Neutral</td>\n",
              "      <td>0.000000</td>\n",
              "      <td>0.000000</td>\n",
              "      <td>women excus violenc women includ covid pandem</td>\n",
              "      <td>Neutral</td>\n",
              "    </tr>\n",
              "    <tr>\n",
              "      <th>26</th>\n",
              "      <td>0.500000</td>\n",
              "      <td>0.833333</td>\n",
              "      <td>announced intention restore funding sexual rep...</td>\n",
              "      <td>Positive</td>\n",
              "      <td>0.500000</td>\n",
              "      <td>0.833333</td>\n",
              "      <td>announc intent restor fund sexual reproduct he...</td>\n",
              "      <td>Positive</td>\n",
              "    </tr>\n",
              "    <tr>\n",
              "      <th>27</th>\n",
              "      <td>0.000000</td>\n",
              "      <td>0.000000</td>\n",
              "      <td>2021 must year change gear world track need mo...</td>\n",
              "      <td>Neutral</td>\n",
              "      <td>0.000000</td>\n",
              "      <td>0.000000</td>\n",
              "      <td>year chang gear world track need death health ...</td>\n",
              "      <td>Neutral</td>\n",
              "    </tr>\n",
              "    <tr>\n",
              "      <th>28</th>\n",
              "      <td>0.000000</td>\n",
              "      <td>0.000000</td>\n",
              "      <td>relief recovery resilience plans deliver human...</td>\n",
              "      <td>Neutral</td>\n",
              "      <td>0.000000</td>\n",
              "      <td>0.000000</td>\n",
              "      <td>relief recoveri resili plan deliv humanitarian...</td>\n",
              "      <td>Neutral</td>\n",
              "    </tr>\n",
              "    <tr>\n",
              "      <th>29</th>\n",
              "      <td>0.200000</td>\n",
              "      <td>0.600000</td>\n",
              "      <td>covid19 misinformation risking lives such enga...</td>\n",
              "      <td>Positive</td>\n",
              "      <td>0.136364</td>\n",
              "      <td>0.500000</td>\n",
              "      <td>covid misinform risk live engag convers role</td>\n",
              "      <td>Positive</td>\n",
              "    </tr>\n",
              "  </tbody>\n",
              "</table>\n",
              "</div>"
            ],
            "text/plain": [
              "    Polarity  ...  Sentiment\n",
              "0   0.000000  ...    Neutral\n",
              "1   0.000000  ...   Negative\n",
              "2   0.000000  ...    Neutral\n",
              "3   0.102778  ...   Positive\n",
              "4   0.000000  ...    Neutral\n",
              "5   0.286869  ...   Negative\n",
              "6   1.000000  ...   Positive\n",
              "7   0.100000  ...   Negative\n",
              "8   0.000000  ...   Positive\n",
              "9   0.200000  ...    Neutral\n",
              "10  0.150000  ...   Negative\n",
              "11  0.000000  ...    Neutral\n",
              "12  0.350000  ...    Neutral\n",
              "13  0.000000  ...    Neutral\n",
              "14  0.000000  ...    Neutral\n",
              "15  0.100000  ...    Neutral\n",
              "16  0.000000  ...    Neutral\n",
              "17  0.125000  ...    Neutral\n",
              "18  0.000000  ...    Neutral\n",
              "19 -0.150000  ...   Negative\n",
              "20  0.050000  ...   Positive\n",
              "21  0.433333  ...   Positive\n",
              "22  0.500000  ...    Neutral\n",
              "23  0.333333  ...   Positive\n",
              "24 -0.200000  ...    Neutral\n",
              "25 -0.050000  ...    Neutral\n",
              "26  0.500000  ...   Positive\n",
              "27  0.000000  ...    Neutral\n",
              "28  0.000000  ...    Neutral\n",
              "29  0.200000  ...   Positive\n",
              "\n",
              "[30 rows x 8 columns]"
            ]
          },
          "metadata": {
            "tags": []
          },
          "execution_count": 207
        }
      ]
    },
    {
      "cell_type": "markdown",
      "metadata": {
        "id": "0cLiGGSsZ7h5"
      },
      "source": [
        "Let us check a few tweets and their sentiment results:"
      ]
    },
    {
      "cell_type": "code",
      "metadata": {
        "colab": {
          "base_uri": "https://localhost:8080/"
        },
        "id": "I3Qa48vPVVac",
        "outputId": "960563cd-9ba3-4f4d-b8ca-72cfa0f422b5"
      },
      "source": [
        "print(\"cleaned_tweet: \\n \", j.iloc[19, 2], \"   --\", j.iloc[19, 3])\r\n",
        "print(\"cleaned tweet + stemmed: \\n\", j.iloc[19,6], \"   --\", j.iloc[19, 7])\r\n",
        "print(\"Original tweet: \\n\", df_UN.text[19])\r\n",
        "# negative"
      ],
      "execution_count": 208,
      "outputs": [
        {
          "output_type": "stream",
          "text": [
            "cleaned_tweet: \n",
            "  colleague yvonne working beirut when vast explosion port killed small isaac    -- Negative\n",
            "cleaned tweet + stemmed: \n",
            " colleagu yvonn work beirut vast explos port kill small isaac    -- Negative\n",
            "Original tweet: \n",
            " RT @MelissaFleming: My @UNESCWA colleague @sas_yvonne was working in Beirut when the vast explosion at the port killed her small son Isaac.…\n"
          ],
          "name": "stdout"
        }
      ]
    },
    {
      "cell_type": "code",
      "metadata": {
        "colab": {
          "base_uri": "https://localhost:8080/"
        },
        "id": "6Ad-Am8JV1xn",
        "outputId": "455c2e3a-efe0-43bd-b5b4-34c4cc956bdb"
      },
      "source": [
        "print(\"cleaned_tweet: \\n \", j.iloc[6, 2], \"   --\", j.iloc[6, 3])\r\n",
        "print(\"cleaned tweet + stemmed: \\n\", j.iloc[6,6], \"   --\", j.iloc[6, 7])\r\n",
        "print(\"Original tweet: \\n\", df_UN.text[6])\r\n",
        "#positive"
      ],
      "execution_count": 209,
      "outputs": [
        {
          "output_type": "stream",
          "text": [
            "cleaned_tweet: \n",
            "  champions earth take climateaction inspire defend mobilize tackle greatest environmental    -- Positive\n",
            "cleaned tweet + stemmed: \n",
            " champion earth climateact inspir defend mobil tackl greatest environment    -- Positive\n",
            "Original tweet: \n",
            " The Champions of the Earth take #ClimateAction to inspire, defend, mobilize and tackle the greatest environmental c… https://t.co/tpacZTMUZy\n"
          ],
          "name": "stdout"
        }
      ]
    },
    {
      "cell_type": "code",
      "metadata": {
        "colab": {
          "base_uri": "https://localhost:8080/"
        },
        "id": "pAD2uPJRV_Sb",
        "outputId": "020ee611-3f78-48c3-970e-849013c4546c"
      },
      "source": [
        "print(\"cleaned_tweet: \\n \", j.iloc[7, 2], \"   --\", j.iloc[7, 3])\r\n",
        "print(\"cleaned tweet + stemmed: \\n\", j.iloc[7,6], \"   --\", j.iloc[7, 7])\r\n",
        "print(\"Original tweet: \\n\", df_UN.text[7])\r\n",
        "# negative"
      ],
      "execution_count": 210,
      "outputs": [
        {
          "output_type": "stream",
          "text": [
            "cleaned_tweet: \n",
            "  nearly children subjected child labour worldwide resulting them being from schooling    -- Negative\n",
            "cleaned tweet + stemmed: \n",
            " near children subject child labour worldwid result school    -- Negative\n",
            "Original tweet: \n",
            " Nearly 1 in 10 children are subjected to child labour worldwide, resulting in them being cut off from schooling &amp; h… https://t.co/LinIVGftTc\n"
          ],
          "name": "stdout"
        }
      ]
    },
    {
      "cell_type": "code",
      "metadata": {
        "colab": {
          "base_uri": "https://localhost:8080/"
        },
        "id": "v3U0K17eWgmn",
        "outputId": "f5e8e3b7-cc6a-4611-a267-fb085ee07dab"
      },
      "source": [
        "print(\"cleaned_tweet: \\n \", j.iloc[8, 2], \"   --\", j.iloc[8, 3])\r\n",
        "print(\"cleaned tweet + stemmed: \\n\", j.iloc[8,6], \"   --\", j.iloc[8, 7])\r\n",
        "print(\"Original tweet: \\n\", df_UN.text[8]) \r\n",
        "# should have been ratger negative"
      ],
      "execution_count": 211,
      "outputs": [
        {
          "output_type": "stream",
          "text": [
            "cleaned_tweet: \n",
            "  climate crisis stopped amid covid19 delaying climateaction costs livelihoods lives actnow    -- Neutral\n",
            "cleaned tweet + stemmed: \n",
            " climat crisi stop amid covid delay climateact cost livelihood live actnow    -- Positive\n",
            "Original tweet: \n",
            " The climate crisis has not stopped amid #COVID19. Delaying #ClimateAction costs livelihoods &amp; lives.\n",
            "\n",
            "#ActNow to he… https://t.co/loVxMeOZYI\n"
          ],
          "name": "stdout"
        }
      ]
    },
    {
      "cell_type": "code",
      "metadata": {
        "colab": {
          "base_uri": "https://localhost:8080/"
        },
        "id": "Tnyy2_c8WuEg",
        "outputId": "b320c0db-ba90-4ff1-d313-7aaa6ee58b92"
      },
      "source": [
        "print(\"cleaned_tweet: \\n \", j.iloc[123, 2], \"   --\", j.iloc[123, 3])\r\n",
        "print(\"cleaned tweet + stemmed: \\n\", j.iloc[123,6], \"   --\", j.iloc[123, 7])\r\n",
        "print(\"Original tweet: \\n\", df_UN.text[123])"
      ],
      "execution_count": 212,
      "outputs": [
        {
          "output_type": "stream",
          "text": [
            "cleaned_tweet: \n",
            "  assume that your bank your politician cares about this issue much they will more    -- Positive\n",
            "cleaned tweet + stemmed: \n",
            " assum bank politician care issu    -- Neutral\n",
            "Original tweet: \n",
            " Don’t assume that your bank or your politician cares about this issue as much as you do. They will, the more you ra… https://t.co/vrO01IydDt\n"
          ],
          "name": "stdout"
        }
      ]
    },
    {
      "cell_type": "code",
      "metadata": {
        "colab": {
          "base_uri": "https://localhost:8080/",
          "height": 392
        },
        "id": "bTpfDT0rOozK",
        "outputId": "8ef88b0e-bbf5-48d1-872f-ea92e9cc9d0e"
      },
      "source": [
        "# check tweets that have different sentiment results depending of the preprocessing steps \r\n",
        "not_same=j[cleaned.Sentiment!=stemmed.Sentiment]\r\n",
        "not_same"
      ],
      "execution_count": 213,
      "outputs": [
        {
          "output_type": "execute_result",
          "data": {
            "text/html": [
              "<div>\n",
              "<style scoped>\n",
              "    .dataframe tbody tr th:only-of-type {\n",
              "        vertical-align: middle;\n",
              "    }\n",
              "\n",
              "    .dataframe tbody tr th {\n",
              "        vertical-align: top;\n",
              "    }\n",
              "\n",
              "    .dataframe thead th {\n",
              "        text-align: right;\n",
              "    }\n",
              "</style>\n",
              "<table border=\"1\" class=\"dataframe\">\n",
              "  <thead>\n",
              "    <tr style=\"text-align: right;\">\n",
              "      <th></th>\n",
              "      <th>Polarity</th>\n",
              "      <th>Subjectivity</th>\n",
              "      <th>CleanTweet</th>\n",
              "      <th>Sentiment</th>\n",
              "      <th>Polarity</th>\n",
              "      <th>Subjectivity</th>\n",
              "      <th>CleanTweet</th>\n",
              "      <th>Sentiment</th>\n",
              "    </tr>\n",
              "  </thead>\n",
              "  <tbody>\n",
              "    <tr>\n",
              "      <th>8</th>\n",
              "      <td>0.000000</td>\n",
              "      <td>0.000000</td>\n",
              "      <td>climate crisis stopped amid covid19 delaying c...</td>\n",
              "      <td>Neutral</td>\n",
              "      <td>0.136364</td>\n",
              "      <td>0.500000</td>\n",
              "      <td>climat crisi stop amid covid delay climateact ...</td>\n",
              "      <td>Positive</td>\n",
              "    </tr>\n",
              "    <tr>\n",
              "      <th>9</th>\n",
              "      <td>0.200000</td>\n",
              "      <td>0.800000</td>\n",
              "      <td>time secure well being people economies societ...</td>\n",
              "      <td>Positive</td>\n",
              "      <td>0.000000</td>\n",
              "      <td>0.000000</td>\n",
              "      <td>time secur peopl economi societi planet possibl</td>\n",
              "      <td>Neutral</td>\n",
              "    </tr>\n",
              "    <tr>\n",
              "      <th>12</th>\n",
              "      <td>0.350000</td>\n",
              "      <td>0.550000</td>\n",
              "      <td>equivalent million full time jobs have been lo...</td>\n",
              "      <td>Positive</td>\n",
              "      <td>0.000000</td>\n",
              "      <td>0.000000</td>\n",
              "      <td>equival million time job lose covid pandem accord</td>\n",
              "      <td>Neutral</td>\n",
              "    </tr>\n",
              "    <tr>\n",
              "      <th>15</th>\n",
              "      <td>0.100000</td>\n",
              "      <td>0.300000</td>\n",
              "      <td>sunday worldleprosyday ending stigma associate...</td>\n",
              "      <td>Positive</td>\n",
              "      <td>0.000000</td>\n",
              "      <td>0.000000</td>\n",
              "      <td>sunday worldleprosyday end stigma associ disea...</td>\n",
              "      <td>Neutral</td>\n",
              "    </tr>\n",
              "    <tr>\n",
              "      <th>17</th>\n",
              "      <td>0.125000</td>\n",
              "      <td>0.666667</td>\n",
              "      <td>racetoresilience putting people nature first p...</td>\n",
              "      <td>Positive</td>\n",
              "      <td>0.000000</td>\n",
              "      <td>0.000000</td>\n",
              "      <td>put peopl natur pursuit resili world</td>\n",
              "      <td>Neutral</td>\n",
              "    </tr>\n",
              "    <tr>\n",
              "      <th>...</th>\n",
              "      <td>...</td>\n",
              "      <td>...</td>\n",
              "      <td>...</td>\n",
              "      <td>...</td>\n",
              "      <td>...</td>\n",
              "      <td>...</td>\n",
              "      <td>...</td>\n",
              "      <td>...</td>\n",
              "    </tr>\n",
              "    <tr>\n",
              "      <th>3190</th>\n",
              "      <td>0.500000</td>\n",
              "      <td>0.500000</td>\n",
              "      <td>this year more than ever countries must honour...</td>\n",
              "      <td>Positive</td>\n",
              "      <td>0.000000</td>\n",
              "      <td>0.000000</td>\n",
              "      <td>year countri honour seafar recogn worker provid</td>\n",
              "      <td>Neutral</td>\n",
              "    </tr>\n",
              "    <tr>\n",
              "      <th>3194</th>\n",
              "      <td>0.500000</td>\n",
              "      <td>0.500000</td>\n",
              "      <td>migrant workers plunging into despair during c...</td>\n",
              "      <td>Positive</td>\n",
              "      <td>0.000000</td>\n",
              "      <td>0.000000</td>\n",
              "      <td>migrant worker plung despair covid crisi lose ...</td>\n",
              "      <td>Neutral</td>\n",
              "    </tr>\n",
              "    <tr>\n",
              "      <th>3196</th>\n",
              "      <td>0.500000</td>\n",
              "      <td>1.000000</td>\n",
              "      <td>women save date june teamed commission some yo...</td>\n",
              "      <td>Positive</td>\n",
              "      <td>0.000000</td>\n",
              "      <td>0.000000</td>\n",
              "      <td>women save date june team commiss favorit arti...</td>\n",
              "      <td>Neutral</td>\n",
              "    </tr>\n",
              "    <tr>\n",
              "      <th>3200</th>\n",
              "      <td>0.233333</td>\n",
              "      <td>0.466667</td>\n",
              "      <td>covid19 pandemic more negative impact than ant...</td>\n",
              "      <td>Positive</td>\n",
              "      <td>0.000000</td>\n",
              "      <td>0.000000</td>\n",
              "      <td>covid pandem negat impact anticip recoveri pro...</td>\n",
              "      <td>Neutral</td>\n",
              "    </tr>\n",
              "    <tr>\n",
              "      <th>3208</th>\n",
              "      <td>0.000000</td>\n",
              "      <td>0.100000</td>\n",
              "      <td>human rights equality dignity ideals laid char...</td>\n",
              "      <td>Neutral</td>\n",
              "      <td>0.296429</td>\n",
              "      <td>0.471429</td>\n",
              "      <td>human right equal digniti ideal lay charter si...</td>\n",
              "      <td>Positive</td>\n",
              "    </tr>\n",
              "  </tbody>\n",
              "</table>\n",
              "<p>759 rows × 8 columns</p>\n",
              "</div>"
            ],
            "text/plain": [
              "      Polarity  ...  Sentiment\n",
              "8     0.000000  ...   Positive\n",
              "9     0.200000  ...    Neutral\n",
              "12    0.350000  ...    Neutral\n",
              "15    0.100000  ...    Neutral\n",
              "17    0.125000  ...    Neutral\n",
              "...        ...  ...        ...\n",
              "3190  0.500000  ...    Neutral\n",
              "3194  0.500000  ...    Neutral\n",
              "3196  0.500000  ...    Neutral\n",
              "3200  0.233333  ...    Neutral\n",
              "3208  0.000000  ...   Positive\n",
              "\n",
              "[759 rows x 8 columns]"
            ]
          },
          "metadata": {
            "tags": []
          },
          "execution_count": 213
        }
      ]
    },
    {
      "cell_type": "code",
      "metadata": {
        "colab": {
          "base_uri": "https://localhost:8080/"
        },
        "id": "HWU9w2pWXvdc",
        "outputId": "321633d4-ac58-42b3-8525-ffdbca8e17f5"
      },
      "source": [
        "# subjectivity of tweets cleaned with regular expressions\r\n",
        "not_same.iloc[:, 1].describe()"
      ],
      "execution_count": 214,
      "outputs": [
        {
          "output_type": "execute_result",
          "data": {
            "text/plain": [
              "count    759.000000\n",
              "mean       0.434000\n",
              "std        0.274456\n",
              "min        0.000000\n",
              "25%        0.250000\n",
              "50%        0.450000\n",
              "75%        0.562500\n",
              "max        1.000000\n",
              "Name: Subjectivity, dtype: float64"
            ]
          },
          "metadata": {
            "tags": []
          },
          "execution_count": 214
        }
      ]
    },
    {
      "cell_type": "code",
      "metadata": {
        "colab": {
          "base_uri": "https://localhost:8080/"
        },
        "id": "SRPWhuk0X3aM",
        "outputId": "fa3dc430-97f6-466b-a613-438c88dee115"
      },
      "source": [
        "# subjectivity of tweets cleaned with regular expressions and stemmed\r\n",
        "not_same.iloc[:, 5].describe()"
      ],
      "execution_count": 215,
      "outputs": [
        {
          "output_type": "execute_result",
          "data": {
            "text/plain": [
              "count    759.000000\n",
              "mean       0.137718\n",
              "std        0.221633\n",
              "min        0.000000\n",
              "25%        0.000000\n",
              "50%        0.000000\n",
              "75%        0.295238\n",
              "max        1.000000\n",
              "Name: Subjectivity, dtype: float64"
            ]
          },
          "metadata": {
            "tags": []
          },
          "execution_count": 215
        }
      ]
    },
    {
      "cell_type": "code",
      "metadata": {
        "colab": {
          "base_uri": "https://localhost:8080/"
        },
        "id": "weng90GWUoMP",
        "outputId": "294237c8-48f9-4a9b-a4de-d5c24205d60a"
      },
      "source": [
        "# sentiment (polarity) of tweets cleaned with regular expressions\r\n",
        "not_same.iloc[:, 3].value_counts()"
      ],
      "execution_count": 216,
      "outputs": [
        {
          "output_type": "execute_result",
          "data": {
            "text/plain": [
              "Positive    542\n",
              "Neutral     217\n",
              "Name: Sentiment, dtype: int64"
            ]
          },
          "metadata": {
            "tags": []
          },
          "execution_count": 216
        }
      ]
    },
    {
      "cell_type": "code",
      "metadata": {
        "colab": {
          "base_uri": "https://localhost:8080/"
        },
        "id": "fd6Td3AIUwQV",
        "outputId": "fba67c3b-4712-45fc-95cd-948631d7b75b"
      },
      "source": [
        "# sentiment (polarity) of tweets cleaned with regular expressions and stemmed\r\n",
        "not_same.iloc[:, 7].value_counts()"
      ],
      "execution_count": 217,
      "outputs": [
        {
          "output_type": "execute_result",
          "data": {
            "text/plain": [
              "Neutral     542\n",
              "Positive    217\n",
              "Name: Sentiment, dtype: int64"
            ]
          },
          "metadata": {
            "tags": []
          },
          "execution_count": 217
        }
      ]
    },
    {
      "cell_type": "code",
      "metadata": {
        "colab": {
          "base_uri": "https://localhost:8080/"
        },
        "id": "VsLug99_PjV3",
        "outputId": "9075651d-fe38-4a3e-ae4c-0f68d319a908"
      },
      "source": [
        "print(\"cleaned_tweet: \\n \", not_same.iloc[758, 2], \"   --Neutral\")\r\n",
        "print(\"cleaned tweet + stemmed: \\n\", not_same.iloc[758,6], \"   --Positive\")\r\n",
        "print(\"Original tweet: \\n\", df_UN.text[3208])\r\n",
        "# positive / neutral ?"
      ],
      "execution_count": 218,
      "outputs": [
        {
          "output_type": "stream",
          "text": [
            "cleaned_tweet: \n",
            "  human rights equality dignity ideals laid charter signed years belong every    --Neutral\n",
            "cleaned tweet + stemmed: \n",
            " human right equal digniti ideal lay charter sign year belong    --Positive\n",
            "Original tweet: \n",
            " Human rights\n",
            "Equality \n",
            "Dignity for all\n",
            "\n",
            "The ideals laid out in the UN Charter, signed 75 years ago, belong to every… https://t.co/HZb4bSJD4O\n"
          ],
          "name": "stdout"
        }
      ]
    },
    {
      "cell_type": "code",
      "metadata": {
        "colab": {
          "base_uri": "https://localhost:8080/"
        },
        "id": "BWDvYTmRTzx9",
        "outputId": "8745168c-aa80-42d1-b39f-f053a115633b"
      },
      "source": [
        "print(\"cleaned_tweet: \\n \", not_same.iloc[757, 2], \"   --Positive\")\r\n",
        "print(\"cleaned tweet + stemmed: \\n\", not_same.iloc[757,6], \"   --Neutral\")\r\n",
        "print(\"Original tweet: \\n\", df_UN.text[3200])\r\n",
        "# negavite"
      ],
      "execution_count": 219,
      "outputs": [
        {
          "output_type": "stream",
          "text": [
            "cleaned_tweet: \n",
            "  covid19 pandemic more negative impact than anticipated recovery projected more gradual amidst    --Positive\n",
            "cleaned tweet + stemmed: \n",
            " covid pandem negat impact anticip recoveri project gradual amidst    --Neutral\n",
            "Original tweet: \n",
            " RT @IMFNews: The #COVID19 pandemic has had a more negative impact than anticipated, and the recovery is projected to be more gradual amidst…\n"
          ],
          "name": "stdout"
        }
      ]
    },
    {
      "cell_type": "code",
      "metadata": {
        "colab": {
          "base_uri": "https://localhost:8080/"
        },
        "id": "-4sOmmxWUIQK",
        "outputId": "4aa6b775-2b5e-4e61-84d1-0327bbf13951"
      },
      "source": [
        "print(\"cleaned_tweet: \\n \", not_same.iloc[756, 2], \"   --\", not_same.iloc[756, 3])\r\n",
        "print(\"cleaned tweet + stemmed: \\n\", not_same.iloc[756,6], \"   --\",  not_same.iloc[756, 7])\r\n",
        "print(\"Original tweet: \\n\", df_UN.text[3196])\r\n",
        "# positive "
      ],
      "execution_count": 220,
      "outputs": [
        {
          "output_type": "stream",
          "text": [
            "cleaned_tweet: \n",
            "  women save date june teamed commission some your favorite artists globalgoaluni    -- Positive\n",
            "cleaned tweet + stemmed: \n",
            " women save date june team commiss favorit artist globalgoaluni    -- Neutral\n",
            "Original tweet: \n",
            " RT @UN_Women: SAVE THE DATE 📅: June 27\n",
            "\n",
            "We've teamed up w/ @GlblCtzn, @EU_Commission &amp; some of your favorite artists for the #GlobalGoalUni…\n"
          ],
          "name": "stdout"
        }
      ]
    },
    {
      "cell_type": "code",
      "metadata": {
        "colab": {
          "base_uri": "https://localhost:8080/"
        },
        "id": "gO9gMLceZC-k",
        "outputId": "6d5dc4c2-a33e-40c6-be7f-5de2c0cbbc3f"
      },
      "source": [
        "print(\"cleaned_tweet: \\n \", not_same.iloc[1, 2], \"   --\", not_same.iloc[1, 3])\r\n",
        "print(\"cleaned tweet + stemmed: \\n\", not_same.iloc[1,6], \"   --\",  not_same.iloc[1, 7])\r\n",
        "print(\"Original tweet: \\n\", df_UN.text[9])\r\n",
        "# neutral / positive"
      ],
      "execution_count": 221,
      "outputs": [
        {
          "output_type": "stream",
          "text": [
            "cleaned_tweet: \n",
            "  time secure well being people economies societies planet possible    -- Positive\n",
            "cleaned tweet + stemmed: \n",
            " time secur peopl economi societi planet possibl    -- Neutral\n",
            "Original tweet: \n",
            " \"Now is the time to secure the well-being of people, economies, societies and our planet. It is possible. So we mus… https://t.co/SPzgjyGEIf\n"
          ],
          "name": "stdout"
        }
      ]
    },
    {
      "cell_type": "code",
      "metadata": {
        "colab": {
          "base_uri": "https://localhost:8080/"
        },
        "id": "4T9ziZQ_UWQN",
        "outputId": "9209c5ec-0a46-4fd3-acf3-40812c1dd251"
      },
      "source": [
        "print(\"cleaned_tweet: \\n \", not_same.iloc[2, 2], \"   --\", not_same.iloc[2, 3])\r\n",
        "print(\"cleaned tweet + stemmed: \\n\", not_same.iloc[2,6], \"   --\",  not_same.iloc[2, 7])\r\n",
        "print(\"Original tweet: \\n\", df_UN.text[12])\r\n",
        "# should have been negavite"
      ],
      "execution_count": 222,
      "outputs": [
        {
          "output_type": "stream",
          "text": [
            "cleaned_tweet: \n",
            "  equivalent million full time jobs have been lost covid19 pandemic according    -- Positive\n",
            "cleaned tweet + stemmed: \n",
            " equival million time job lose covid pandem accord    -- Neutral\n",
            "Original tweet: \n",
            " The equivalent of 225 million full-time jobs have been lost due to the #COVID19 pandemic, according to @ILO.\n",
            "\n",
            "A slo… https://t.co/sJ3Iv3mYYT\n"
          ],
          "name": "stdout"
        }
      ]
    },
    {
      "cell_type": "markdown",
      "metadata": {
        "id": "OVJIzaKLKZzl"
      },
      "source": [
        "# Machine Learning \r\n"
      ]
    },
    {
      "cell_type": "code",
      "metadata": {
        "colab": {
          "base_uri": "https://localhost:8080/",
          "height": 334
        },
        "id": "8ZTPEL8Gau7Y",
        "outputId": "a772ac46-3cc4-43c7-9302-57614368e799"
      },
      "source": [
        "df_UN.head(10)"
      ],
      "execution_count": 176,
      "outputs": [
        {
          "output_type": "execute_result",
          "data": {
            "text/html": [
              "<div>\n",
              "<style scoped>\n",
              "    .dataframe tbody tr th:only-of-type {\n",
              "        vertical-align: middle;\n",
              "    }\n",
              "\n",
              "    .dataframe tbody tr th {\n",
              "        vertical-align: top;\n",
              "    }\n",
              "\n",
              "    .dataframe thead th {\n",
              "        text-align: right;\n",
              "    }\n",
              "</style>\n",
              "<table border=\"1\" class=\"dataframe\">\n",
              "  <thead>\n",
              "    <tr style=\"text-align: right;\">\n",
              "      <th></th>\n",
              "      <th>tweet_id</th>\n",
              "      <th>created_at</th>\n",
              "      <th>text</th>\n",
              "      <th>retweet_count</th>\n",
              "      <th>favorite_count</th>\n",
              "      <th>in_reply_to_screen_name</th>\n",
              "      <th>source</th>\n",
              "      <th>followers_count</th>\n",
              "      <th>friends_count</th>\n",
              "      <th>popular</th>\n",
              "    </tr>\n",
              "  </thead>\n",
              "  <tbody>\n",
              "    <tr>\n",
              "      <th>0</th>\n",
              "      <td>1356317393048506369</td>\n",
              "      <td>2021-02-01 19:04:00</td>\n",
              "      <td>Recognition\\nJustice\\nDevelopment\\n\\n#BlackHis...</td>\n",
              "      <td>47</td>\n",
              "      <td>158</td>\n",
              "      <td>NaN</td>\n",
              "      <td>TweetDeck</td>\n",
              "      <td>13428261</td>\n",
              "      <td>1184</td>\n",
              "      <td>0</td>\n",
              "    </tr>\n",
              "    <tr>\n",
              "      <th>1</th>\n",
              "      <td>1356302735780548608</td>\n",
              "      <td>2021-02-01 18:05:45</td>\n",
              "      <td>RT @UNmigration: “COVID-19 has tragically exac...</td>\n",
              "      <td>11</td>\n",
              "      <td>0</td>\n",
              "      <td>NaN</td>\n",
              "      <td>Twitter Web App</td>\n",
              "      <td>13428261</td>\n",
              "      <td>1184</td>\n",
              "      <td>0</td>\n",
              "    </tr>\n",
              "    <tr>\n",
              "      <th>2</th>\n",
              "      <td>1356287104679075840</td>\n",
              "      <td>2021-02-01 17:03:39</td>\n",
              "      <td>In times of crisis, women are leaders in their...</td>\n",
              "      <td>86</td>\n",
              "      <td>222</td>\n",
              "      <td>NaN</td>\n",
              "      <td>Twitter for iPhone</td>\n",
              "      <td>13428261</td>\n",
              "      <td>1184</td>\n",
              "      <td>0</td>\n",
              "    </tr>\n",
              "    <tr>\n",
              "      <th>3</th>\n",
              "      <td>1356256620091736068</td>\n",
              "      <td>2021-02-01 15:02:30</td>\n",
              "      <td>RT @UN_Spokesperson: .@antonioguterres strongl...</td>\n",
              "      <td>306</td>\n",
              "      <td>0</td>\n",
              "      <td>NaN</td>\n",
              "      <td>Twitter Web App</td>\n",
              "      <td>13428261</td>\n",
              "      <td>1184</td>\n",
              "      <td>0</td>\n",
              "    </tr>\n",
              "    <tr>\n",
              "      <th>4</th>\n",
              "      <td>1356240214524624901</td>\n",
              "      <td>2021-02-01 13:57:19</td>\n",
              "      <td>The United Kingdom assumes the presidency of t...</td>\n",
              "      <td>115</td>\n",
              "      <td>445</td>\n",
              "      <td>NaN</td>\n",
              "      <td>Twitter for iPhone</td>\n",
              "      <td>13428261</td>\n",
              "      <td>1184</td>\n",
              "      <td>0</td>\n",
              "    </tr>\n",
              "    <tr>\n",
              "      <th>5</th>\n",
              "      <td>1356224683214053377</td>\n",
              "      <td>2021-02-01 12:55:36</td>\n",
              "      <td>RT @UN_Women: Happy #BlackHistoryMonth!\\n\\nThi...</td>\n",
              "      <td>256</td>\n",
              "      <td>0</td>\n",
              "      <td>NaN</td>\n",
              "      <td>Twitter Web App</td>\n",
              "      <td>13428261</td>\n",
              "      <td>1184</td>\n",
              "      <td>0</td>\n",
              "    </tr>\n",
              "    <tr>\n",
              "      <th>6</th>\n",
              "      <td>1356061204637048834</td>\n",
              "      <td>2021-02-01 02:06:00</td>\n",
              "      <td>The Champions of the Earth take #ClimateAction...</td>\n",
              "      <td>63</td>\n",
              "      <td>254</td>\n",
              "      <td>NaN</td>\n",
              "      <td>TweetDeck</td>\n",
              "      <td>13428261</td>\n",
              "      <td>1184</td>\n",
              "      <td>0</td>\n",
              "    </tr>\n",
              "    <tr>\n",
              "      <th>7</th>\n",
              "      <td>1356015151384682498</td>\n",
              "      <td>2021-01-31 23:03:00</td>\n",
              "      <td>Nearly 1 in 10 children are subjected to child...</td>\n",
              "      <td>134</td>\n",
              "      <td>354</td>\n",
              "      <td>NaN</td>\n",
              "      <td>TweetDeck</td>\n",
              "      <td>13428261</td>\n",
              "      <td>1184</td>\n",
              "      <td>0</td>\n",
              "    </tr>\n",
              "    <tr>\n",
              "      <th>8</th>\n",
              "      <td>1355971111163334657</td>\n",
              "      <td>2021-01-31 20:08:00</td>\n",
              "      <td>The climate crisis has not stopped amid #COVID...</td>\n",
              "      <td>98</td>\n",
              "      <td>287</td>\n",
              "      <td>NaN</td>\n",
              "      <td>TweetDeck</td>\n",
              "      <td>13428261</td>\n",
              "      <td>1184</td>\n",
              "      <td>0</td>\n",
              "    </tr>\n",
              "    <tr>\n",
              "      <th>9</th>\n",
              "      <td>1355925057881698306</td>\n",
              "      <td>2021-01-31 17:05:00</td>\n",
              "      <td>\"Now is the time to secure the well-being of p...</td>\n",
              "      <td>207</td>\n",
              "      <td>626</td>\n",
              "      <td>NaN</td>\n",
              "      <td>TweetDeck</td>\n",
              "      <td>13428261</td>\n",
              "      <td>1184</td>\n",
              "      <td>1</td>\n",
              "    </tr>\n",
              "  </tbody>\n",
              "</table>\n",
              "</div>"
            ],
            "text/plain": [
              "              tweet_id          created_at  ... friends_count  popular\n",
              "0  1356317393048506369 2021-02-01 19:04:00  ...          1184        0\n",
              "1  1356302735780548608 2021-02-01 18:05:45  ...          1184        0\n",
              "2  1356287104679075840 2021-02-01 17:03:39  ...          1184        0\n",
              "3  1356256620091736068 2021-02-01 15:02:30  ...          1184        0\n",
              "4  1356240214524624901 2021-02-01 13:57:19  ...          1184        0\n",
              "5  1356224683214053377 2021-02-01 12:55:36  ...          1184        0\n",
              "6  1356061204637048834 2021-02-01 02:06:00  ...          1184        0\n",
              "7  1356015151384682498 2021-01-31 23:03:00  ...          1184        0\n",
              "8  1355971111163334657 2021-01-31 20:08:00  ...          1184        0\n",
              "9  1355925057881698306 2021-01-31 17:05:00  ...          1184        1\n",
              "\n",
              "[10 rows x 10 columns]"
            ]
          },
          "metadata": {
            "tags": []
          },
          "execution_count": 176
        }
      ]
    },
    {
      "cell_type": "code",
      "metadata": {
        "id": "72fn-XZLa1J5"
      },
      "source": [
        "label=df_UN.popular.values"
      ],
      "execution_count": 177,
      "outputs": []
    },
    {
      "cell_type": "code",
      "metadata": {
        "colab": {
          "base_uri": "https://localhost:8080/"
        },
        "id": "QeLHiUSdKZid",
        "outputId": "eed60574-1a22-4781-e3ce-c8c9f2fa35f7"
      },
      "source": [
        "from nltk.corpus import stopwords\r\n",
        "from sklearn.feature_extraction.text import TfidfVectorizer\r\n",
        "nltk.download('stopwords')\r\n",
        "\r\n",
        "vectorizer = TfidfVectorizer (max_features=2500, min_df=7, max_df=0.8, stop_words=stopwords.words('english'))\r\n",
        "processed_features = vectorizer.fit_transform(processed_tweets).toarray()"
      ],
      "execution_count": 171,
      "outputs": [
        {
          "output_type": "stream",
          "text": [
            "[nltk_data] Downloading package stopwords to /root/nltk_data...\n",
            "[nltk_data]   Package stopwords is already up-to-date!\n"
          ],
          "name": "stdout"
        }
      ]
    },
    {
      "cell_type": "code",
      "metadata": {
        "id": "AeNFAHZkKhSP"
      },
      "source": [
        "from sklearn.model_selection import train_test_split\r\n",
        "\r\n",
        "X_train, X_test, y_train, y_test = train_test_split(processed_features, label, test_size=0.2, random_state=24)"
      ],
      "execution_count": 179,
      "outputs": []
    },
    {
      "cell_type": "code",
      "metadata": {
        "colab": {
          "base_uri": "https://localhost:8080/"
        },
        "id": "EWIAjCIzKjus",
        "outputId": "f9aaad00-b96b-4dda-c2f9-3a138f2c1446"
      },
      "source": [
        "from sklearn.ensemble import RandomForestClassifier\r\n",
        "\r\n",
        "text_classifier = RandomForestClassifier(n_estimators=200, random_state=0)\r\n",
        "text_classifier.fit(X_train, y_train)"
      ],
      "execution_count": 180,
      "outputs": [
        {
          "output_type": "execute_result",
          "data": {
            "text/plain": [
              "RandomForestClassifier(bootstrap=True, ccp_alpha=0.0, class_weight=None,\n",
              "                       criterion='gini', max_depth=None, max_features='auto',\n",
              "                       max_leaf_nodes=None, max_samples=None,\n",
              "                       min_impurity_decrease=0.0, min_impurity_split=None,\n",
              "                       min_samples_leaf=1, min_samples_split=2,\n",
              "                       min_weight_fraction_leaf=0.0, n_estimators=200,\n",
              "                       n_jobs=None, oob_score=False, random_state=0, verbose=0,\n",
              "                       warm_start=False)"
            ]
          },
          "metadata": {
            "tags": []
          },
          "execution_count": 180
        }
      ]
    },
    {
      "cell_type": "code",
      "metadata": {
        "id": "vOTlRzmnKqJ-"
      },
      "source": [
        "predictions = text_classifier.predict(X_test)"
      ],
      "execution_count": 181,
      "outputs": []
    },
    {
      "cell_type": "code",
      "metadata": {
        "colab": {
          "base_uri": "https://localhost:8080/"
        },
        "id": "ykhIhbm-KsPD",
        "outputId": "e0612fcc-9b5e-4d9a-a0e8-762f65067121"
      },
      "source": [
        "from sklearn.metrics import classification_report, confusion_matrix, accuracy_score\r\n",
        "\r\n",
        "print(confusion_matrix(y_test,predictions))\r\n",
        "print(classification_report(y_test,predictions))\r\n",
        "print(accuracy_score(y_test, predictions))"
      ],
      "execution_count": 182,
      "outputs": [
        {
          "output_type": "stream",
          "text": [
            "[[524  18]\n",
            " [ 81  19]]\n",
            "              precision    recall  f1-score   support\n",
            "\n",
            "           0       0.87      0.97      0.91       542\n",
            "           1       0.51      0.19      0.28       100\n",
            "\n",
            "    accuracy                           0.85       642\n",
            "   macro avg       0.69      0.58      0.60       642\n",
            "weighted avg       0.81      0.85      0.81       642\n",
            "\n",
            "0.8457943925233645\n"
          ],
          "name": "stdout"
        }
      ]
    },
    {
      "cell_type": "code",
      "metadata": {
        "colab": {
          "base_uri": "https://localhost:8080/"
        },
        "id": "rLKgC1iTiUWG",
        "outputId": "ef7e6ffd-65a0-480a-a387-c21d34572a13"
      },
      "source": [
        "TP=0\r\n",
        "FP=0\r\n",
        "TN=0\r\n",
        "FN=0\r\n",
        "for p, y in zip(predictions, y_test):\r\n",
        "  if (p == 1) & (p ==y) :\r\n",
        "      TP += 1\r\n",
        "  elif (p == 1) & (p !=y):\r\n",
        "      FP += 1\r\n",
        "  elif (p == 0) & (p ==y):\r\n",
        "      TN += 1\r\n",
        "  else: FN += 1\r\n",
        "print(\"True Positive = \", TP, \", False Positive =\", FP , \", True Negavite = \", TN, \", False Negative =\", FN)"
      ],
      "execution_count": 232,
      "outputs": [
        {
          "output_type": "stream",
          "text": [
            "True Positive =  19 , False Positive = 18 , True Negavite =  524 , False Negative = 81\n"
          ],
          "name": "stdout"
        }
      ]
    },
    {
      "cell_type": "code",
      "metadata": {
        "id": "_oA-quK0bp8s"
      },
      "source": [
        "from sklearn.naive_bayes import MultinomialNB\r\n",
        "text_classifier2 = MultinomialNB().fit(X_train, y_train)"
      ],
      "execution_count": 185,
      "outputs": []
    },
    {
      "cell_type": "code",
      "metadata": {
        "id": "XBNe4d_EcD6-"
      },
      "source": [
        "predictions_MNB = text_classifier2.predict(X_test)"
      ],
      "execution_count": 186,
      "outputs": []
    },
    {
      "cell_type": "code",
      "metadata": {
        "colab": {
          "base_uri": "https://localhost:8080/"
        },
        "id": "SxSs9saPbTa5",
        "outputId": "90ae6fde-56cd-4fd3-da44-e3e372287573"
      },
      "source": [
        "print(confusion_matrix(y_test,predictions_MNB ))\r\n",
        "print(classification_report(y_test,predictions_MNB ))\r\n",
        "print(accuracy_score(y_test, predictions_MNB ))"
      ],
      "execution_count": 187,
      "outputs": [
        {
          "output_type": "stream",
          "text": [
            "[[542   0]\n",
            " [ 93   7]]\n",
            "              precision    recall  f1-score   support\n",
            "\n",
            "           0       0.85      1.00      0.92       542\n",
            "           1       1.00      0.07      0.13       100\n",
            "\n",
            "    accuracy                           0.86       642\n",
            "   macro avg       0.93      0.54      0.53       642\n",
            "weighted avg       0.88      0.86      0.80       642\n",
            "\n",
            "0.8551401869158879\n"
          ],
          "name": "stdout"
        }
      ]
    },
    {
      "cell_type": "code",
      "metadata": {
        "colab": {
          "base_uri": "https://localhost:8080/"
        },
        "id": "EKePGDmRjxpJ",
        "outputId": "4d6ec8c5-33b9-42e4-b699-5fd2f752c937"
      },
      "source": [
        "print(\"True Positive = \", 7, \", False Positive =\", 0 , \", True Negavite = \", 542, \", False Negative =\", 93)"
      ],
      "execution_count": 233,
      "outputs": [
        {
          "output_type": "stream",
          "text": [
            "True Positive =  7 , False Positive = 0 , True Negavite =  542 , False Negative = 93\n"
          ],
          "name": "stdout"
        }
      ]
    },
    {
      "cell_type": "code",
      "metadata": {
        "id": "5uqq3PK-cmRn"
      },
      "source": [
        "from sklearn.linear_model import SGDClassifier\r\n",
        "text_classifier3 = SGDClassifier().fit(X_train, y_train)\r\n",
        "predictions_SGD = text_classifier3.predict(X_test)"
      ],
      "execution_count": 191,
      "outputs": []
    },
    {
      "cell_type": "code",
      "metadata": {
        "colab": {
          "base_uri": "https://localhost:8080/"
        },
        "id": "kbtU3_7GcdGu",
        "outputId": "8a452767-cb77-4142-ebe3-b0172a1415f0"
      },
      "source": [
        "print(confusion_matrix(y_test,predictions_SGD  ))\r\n",
        "print(classification_report(y_test,predictions_SGD  ))\r\n",
        "print(accuracy_score(y_test, predictions_SGD  ))"
      ],
      "execution_count": 192,
      "outputs": [
        {
          "output_type": "stream",
          "text": [
            "[[528  14]\n",
            " [ 86  14]]\n",
            "              precision    recall  f1-score   support\n",
            "\n",
            "           0       0.86      0.97      0.91       542\n",
            "           1       0.50      0.14      0.22       100\n",
            "\n",
            "    accuracy                           0.84       642\n",
            "   macro avg       0.68      0.56      0.57       642\n",
            "weighted avg       0.80      0.84      0.81       642\n",
            "\n",
            "0.8442367601246106\n"
          ],
          "name": "stdout"
        }
      ]
    },
    {
      "cell_type": "code",
      "metadata": {
        "colab": {
          "base_uri": "https://localhost:8080/"
        },
        "id": "mPenxkL4j7k-",
        "outputId": "41d2c5aa-3096-4488-be8e-e4975972ae35"
      },
      "source": [
        "print(\"True Positive = \", 14, \", False Positive =\", 14, \", True Negavite = \", 528, \", False Negative =\", 86)"
      ],
      "execution_count": 236,
      "outputs": [
        {
          "output_type": "stream",
          "text": [
            "True Positive =  14 , False Positive = 14 , True Negavite =  528 , False Negative = 86\n"
          ],
          "name": "stdout"
        }
      ]
    },
    {
      "cell_type": "code",
      "metadata": {
        "id": "2seSEjSceG34"
      },
      "source": [
        "from sklearn.linear_model import LogisticRegression\r\n",
        "text_classifier4 = LogisticRegression().fit(X_train, y_train)\r\n",
        "predictions_LR = text_classifier4.predict(X_test)"
      ],
      "execution_count": 193,
      "outputs": []
    },
    {
      "cell_type": "code",
      "metadata": {
        "colab": {
          "base_uri": "https://localhost:8080/"
        },
        "id": "PkIt27JEeQbD",
        "outputId": "07ca5ae5-5bf1-4292-e91c-63c7722477fa"
      },
      "source": [
        "print(confusion_matrix(y_test,predictions_LR  ))\r\n",
        "print(classification_report(y_test,predictions_LR  ))\r\n",
        "print(accuracy_score(y_test, predictions_LR  ))"
      ],
      "execution_count": 194,
      "outputs": [
        {
          "output_type": "stream",
          "text": [
            "[[542   0]\n",
            " [ 99   1]]\n",
            "              precision    recall  f1-score   support\n",
            "\n",
            "           0       0.85      1.00      0.92       542\n",
            "           1       1.00      0.01      0.02       100\n",
            "\n",
            "    accuracy                           0.85       642\n",
            "   macro avg       0.92      0.51      0.47       642\n",
            "weighted avg       0.87      0.85      0.78       642\n",
            "\n",
            "0.8457943925233645\n"
          ],
          "name": "stdout"
        }
      ]
    },
    {
      "cell_type": "code",
      "metadata": {
        "colab": {
          "base_uri": "https://localhost:8080/"
        },
        "id": "gBYEcppheUs7",
        "outputId": "866e1fc5-2b3e-4b2c-ae15-694b70685627"
      },
      "source": [
        "print(\"True Positive = \", 1, \", False Positive =\", 0, \", True Negavite = \", 542, \", False Negative =\", 99)"
      ],
      "execution_count": 235,
      "outputs": [
        {
          "output_type": "stream",
          "text": [
            "True Positive =  1 , False Positive = 0 , True Negavite =  542 , False Negative = 99\n"
          ],
          "name": "stdout"
        }
      ]
    },
    {
      "cell_type": "markdown",
      "metadata": {
        "id": "lVNPz8dhka2i"
      },
      "source": [
        "Conclusion: simple binary classification models yield quite good results with accuracy of 85% , maximum recall 19% with Random Forest(precision 51%) and maximum precision 100% with MultinomialNB (recall 7%) and LogisticRegression (recall 1%). Depending on the business requirements we could choose between better results of recall or precision, for example if we want to predict as much as possible tweets that are going to be popular we would go with Random Forest which predicts 19% of all popular tweets (actual==1). If we need to be as precise as possible, i.e. have minimum number of False Positive, then the best choise would be MultinominalNB which predicts 7% of actual popular tweets, but with 100% precision. "
      ]
    },
    {
      "cell_type": "markdown",
      "metadata": {
        "id": "Ff9yaA8pnKVO"
      },
      "source": [
        "# Part 2:  Topic modeling with  Latent Dirichlet Allocation technique (LDA) done on a larger dataset - movies reviews Kaggle dataset"
      ]
    },
    {
      "cell_type": "markdown",
      "metadata": {
        "id": "I_iqczTGxuKa"
      },
      "source": [
        "# Download the dataset"
      ]
    },
    {
      "cell_type": "code",
      "metadata": {
        "id": "MJC19WEquzWc"
      },
      "source": [
        "! pip install -q kaggle"
      ],
      "execution_count": 3,
      "outputs": []
    },
    {
      "cell_type": "code",
      "metadata": {
        "id": "R4PFUKdqvWrm",
        "colab": {
          "resources": {
            "http://localhost:8080/nbextensions/google.colab/files.js": {
              "data": "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",
              "ok": true,
              "headers": [
                [
                  "content-type",
                  "application/javascript"
                ]
              ],
              "status": 200,
              "status_text": ""
            }
          },
          "base_uri": "https://localhost:8080/",
          "height": 87
        },
        "outputId": "fd20ebae-12a5-4a90-fabe-0c8b877b18ec"
      },
      "source": [
        "from google.colab import files\r\n",
        "files.upload() #upload kaggle.json"
      ],
      "execution_count": 4,
      "outputs": [
        {
          "output_type": "display_data",
          "data": {
            "text/html": [
              "\n",
              "     <input type=\"file\" id=\"files-e14bad68-8a54-4085-9744-88a007dcf467\" name=\"files[]\" multiple disabled\n",
              "        style=\"border:none\" />\n",
              "     <output id=\"result-e14bad68-8a54-4085-9744-88a007dcf467\">\n",
              "      Upload widget is only available when the cell has been executed in the\n",
              "      current browser session. Please rerun this cell to enable.\n",
              "      </output>\n",
              "      <script src=\"/nbextensions/google.colab/files.js\"></script> "
            ],
            "text/plain": [
              "<IPython.core.display.HTML object>"
            ]
          },
          "metadata": {
            "tags": []
          }
        },
        {
          "output_type": "stream",
          "text": [
            "Saving kaggle.json to kaggle.json\n"
          ],
          "name": "stdout"
        },
        {
          "output_type": "execute_result",
          "data": {
            "text/plain": [
              "{'kaggle.json': b'{\"username\":\"katyalelas\",\"key\":\"08f122d1e5d8801a1a8f23675739ce0b\"}'}"
            ]
          },
          "metadata": {
            "tags": []
          },
          "execution_count": 4
        }
      ]
    },
    {
      "cell_type": "code",
      "metadata": {
        "id": "rSCoTAKov3DR"
      },
      "source": [
        "!mkdir -p ~/.kaggle\r\n",
        "!cp kaggle.json ~/.kaggle/\r\n",
        "!chmod 600 ~/.kaggle/kaggle.json"
      ],
      "execution_count": 5,
      "outputs": []
    },
    {
      "cell_type": "code",
      "metadata": {
        "id": "xgjzA6SrwF5V",
        "colab": {
          "base_uri": "https://localhost:8080/"
        },
        "outputId": "0b99e144-755f-4877-8e70-ea6ea5c135e3"
      },
      "source": [
        "!kaggle datasets download -d lakshmi25npathi/imdb-dataset-of-50k-movie-reviews"
      ],
      "execution_count": 6,
      "outputs": [
        {
          "output_type": "stream",
          "text": [
            "Downloading imdb-dataset-of-50k-movie-reviews.zip to /content\n",
            " 19% 5.00M/25.7M [00:00<00:00, 24.7MB/s]\n",
            "100% 25.7M/25.7M [00:00<00:00, 85.9MB/s]\n"
          ],
          "name": "stdout"
        }
      ]
    },
    {
      "cell_type": "code",
      "metadata": {
        "id": "GM3YrCTewQAS",
        "colab": {
          "base_uri": "https://localhost:8080/"
        },
        "outputId": "eb942abb-2f0a-420c-ceb7-57237a61e103"
      },
      "source": [
        "!ls\r\n"
      ],
      "execution_count": 7,
      "outputs": [
        {
          "output_type": "stream",
          "text": [
            "imdb-dataset-of-50k-movie-reviews.zip  kaggle.json  sample_data\n"
          ],
          "name": "stdout"
        }
      ]
    },
    {
      "cell_type": "code",
      "metadata": {
        "id": "lepKi1luwY0E",
        "colab": {
          "base_uri": "https://localhost:8080/"
        },
        "outputId": "763da803-82f5-463a-f517-29cee7880de8"
      },
      "source": [
        "! unzip imdb-dataset-of-50k-movie-reviews.zip  -d imdb-dataset-of-50k-movie-reviews "
      ],
      "execution_count": 10,
      "outputs": [
        {
          "output_type": "stream",
          "text": [
            "Archive:  imdb-dataset-of-50k-movie-reviews.zip\n",
            "  inflating: imdb-dataset-of-50k-movie-reviews/IMDB Dataset.csv  \n"
          ],
          "name": "stdout"
        }
      ]
    },
    {
      "cell_type": "code",
      "metadata": {
        "id": "yuGl9PNUxPwK",
        "colab": {
          "base_uri": "https://localhost:8080/"
        },
        "outputId": "56759696-a06e-4b0d-81ce-3ba9ea9ab12c"
      },
      "source": [
        "!pwd \r\n"
      ],
      "execution_count": 8,
      "outputs": [
        {
          "output_type": "stream",
          "text": [
            "/content\n"
          ],
          "name": "stdout"
        }
      ]
    },
    {
      "cell_type": "code",
      "metadata": {
        "id": "2MDaA0YExvLf"
      },
      "source": [
        "reviews=pd.read_csv('/content/imdb-dataset-of-50k-movie-reviews/IMDB Dataset.csv')"
      ],
      "execution_count": 11,
      "outputs": []
    },
    {
      "cell_type": "code",
      "metadata": {
        "id": "M6t9aoR9x8eg",
        "colab": {
          "base_uri": "https://localhost:8080/",
          "height": 392
        },
        "outputId": "8140ea6b-f0c2-429b-8653-6eb91f964c38"
      },
      "source": [
        "reviews"
      ],
      "execution_count": 249,
      "outputs": [
        {
          "output_type": "execute_result",
          "data": {
            "text/html": [
              "<div>\n",
              "<style scoped>\n",
              "    .dataframe tbody tr th:only-of-type {\n",
              "        vertical-align: middle;\n",
              "    }\n",
              "\n",
              "    .dataframe tbody tr th {\n",
              "        vertical-align: top;\n",
              "    }\n",
              "\n",
              "    .dataframe thead th {\n",
              "        text-align: right;\n",
              "    }\n",
              "</style>\n",
              "<table border=\"1\" class=\"dataframe\">\n",
              "  <thead>\n",
              "    <tr style=\"text-align: right;\">\n",
              "      <th></th>\n",
              "      <th>review</th>\n",
              "      <th>sentiment</th>\n",
              "    </tr>\n",
              "  </thead>\n",
              "  <tbody>\n",
              "    <tr>\n",
              "      <th>0</th>\n",
              "      <td>One of the other reviewers has mentioned that ...</td>\n",
              "      <td>positive</td>\n",
              "    </tr>\n",
              "    <tr>\n",
              "      <th>1</th>\n",
              "      <td>A wonderful little production. &lt;br /&gt;&lt;br /&gt;The...</td>\n",
              "      <td>positive</td>\n",
              "    </tr>\n",
              "    <tr>\n",
              "      <th>2</th>\n",
              "      <td>I thought this was a wonderful way to spend ti...</td>\n",
              "      <td>positive</td>\n",
              "    </tr>\n",
              "    <tr>\n",
              "      <th>3</th>\n",
              "      <td>Basically there's a family where a little boy ...</td>\n",
              "      <td>negative</td>\n",
              "    </tr>\n",
              "    <tr>\n",
              "      <th>4</th>\n",
              "      <td>Petter Mattei's \"Love in the Time of Money\" is...</td>\n",
              "      <td>positive</td>\n",
              "    </tr>\n",
              "    <tr>\n",
              "      <th>...</th>\n",
              "      <td>...</td>\n",
              "      <td>...</td>\n",
              "    </tr>\n",
              "    <tr>\n",
              "      <th>49995</th>\n",
              "      <td>I thought this movie did a down right good job...</td>\n",
              "      <td>positive</td>\n",
              "    </tr>\n",
              "    <tr>\n",
              "      <th>49996</th>\n",
              "      <td>Bad plot, bad dialogue, bad acting, idiotic di...</td>\n",
              "      <td>negative</td>\n",
              "    </tr>\n",
              "    <tr>\n",
              "      <th>49997</th>\n",
              "      <td>I am a Catholic taught in parochial elementary...</td>\n",
              "      <td>negative</td>\n",
              "    </tr>\n",
              "    <tr>\n",
              "      <th>49998</th>\n",
              "      <td>I'm going to have to disagree with the previou...</td>\n",
              "      <td>negative</td>\n",
              "    </tr>\n",
              "    <tr>\n",
              "      <th>49999</th>\n",
              "      <td>No one expects the Star Trek movies to be high...</td>\n",
              "      <td>negative</td>\n",
              "    </tr>\n",
              "  </tbody>\n",
              "</table>\n",
              "<p>50000 rows × 2 columns</p>\n",
              "</div>"
            ],
            "text/plain": [
              "                                                  review sentiment\n",
              "0      One of the other reviewers has mentioned that ...  positive\n",
              "1      A wonderful little production. <br /><br />The...  positive\n",
              "2      I thought this was a wonderful way to spend ti...  positive\n",
              "3      Basically there's a family where a little boy ...  negative\n",
              "4      Petter Mattei's \"Love in the Time of Money\" is...  positive\n",
              "...                                                  ...       ...\n",
              "49995  I thought this movie did a down right good job...  positive\n",
              "49996  Bad plot, bad dialogue, bad acting, idiotic di...  negative\n",
              "49997  I am a Catholic taught in parochial elementary...  negative\n",
              "49998  I'm going to have to disagree with the previou...  negative\n",
              "49999  No one expects the Star Trek movies to be high...  negative\n",
              "\n",
              "[50000 rows x 2 columns]"
            ]
          },
          "metadata": {
            "tags": []
          },
          "execution_count": 249
        }
      ]
    },
    {
      "cell_type": "markdown",
      "metadata": {
        "id": "dzvBrQXnxzKc"
      },
      "source": [
        "# Preprocessing"
      ]
    },
    {
      "cell_type": "code",
      "metadata": {
        "id": "ctrWNT3XST5D",
        "colab": {
          "base_uri": "https://localhost:8080/"
        },
        "outputId": "2d01f570-50c1-497b-d2be-d62c2c4fd814"
      },
      "source": [
        "ct2=cleaning(reviews.review) # clean text"
      ],
      "execution_count": 15,
      "outputs": [
        {
          "output_type": "stream",
          "text": [
            "['other reviewers mentioned that after watching just episode hooked they right this exactly what happened with first thing that struck about brutality unflinching scenes violence which right from word trust this show faint hearted timid this show pulls punches with regards drugs violence hardcore classic word called that nickname given oswald maximum security state penitentary focuses mainly emerald city experimental section prison where cells have glass fronts face inwards privacy high agenda city home many aryans muslims gangstas latinos christians italians irish more scuffles death stares dodgy dealings shady agreements never away would main appeal show fact that goes where other shows wouldn dare forget pretty pictures painted mainstream audiences forget charm forget romance doesn mess around first episode ever struck nasty surreal couldn ready watched more developed taste accustomed high levels graphic violence just violence injustice crooked guards sold nickel inmates kill order away with well mannered middle class inmates being turned into prison bitches their lack street skills prison experience watching become comfortable with what uncomfortable viewing thats touch with your darker side', 'wonderful little production filming technique very unassuming very time fashion gives comforting sometimes discomforting sense realism entire piece actors extremely well chosen michael sheen only polari voices down truly seamless editing guided references williams diary entries only well worth watching terrificly written performed piece masterful production about great master comedy life realism really comes home with little things fantasy guard which rather than traditional dream techniques remains solid then disappears plays knowledge senses particularly with scenes concerning orton halliwell sets particularly their flat with halliwell murals decorating every surface terribly well done', 'thought this wonderful spend time summer weekend sitting conditioned theater watching light hearted comedy plot simplistic dialogue witty characters likable even well bread suspected serial killer while some disappointed when they realize this match point risk addiction thought proof that woody allen still fully control style many have grown love this most laughed woody comedies years dare decade while never been impressed with scarlet johanson this managed tone down sexy image jumped right into average spirited young woman this crown jewel career wittier than devil wears prada more interesting than superman great comedy with friends', 'basically there family where little jake thinks there zombie closet parents fighting time this movie slower than soap opera suddenly jake decides become rambo kill zombie first when going make film must decide thriller drama drama movie watchable parents divorcing arguing like real life then have jake with closet which totally ruins film expected boogeyman similar movie instead watched drama with some meaningless thriller spots just well playing parents descent dialogs shots with jake just ignore them', 'petter mattei love time money visually stunning film watch mattei offers vivid portrait about human relations this movie that seems telling what money power success people different situations encounter this being variation arthur schnitzler play about same theme director transfers action present time york where these different characters meet connect each connected another next person seems know previous point contact stylishly film sophisticated luxurious look taken these people live world they live their habitat only thing gets these souls picture different stages loneliness each inhabits city exactly best place which human relations find sincere fulfillment discerns case with most people encounter acting good under mattei direction steve buscemi rosario dawson carol kane michael imperioli adrian grenier rest talented cast make these characters come alive wish mattei good luck await anxiously next work']\n"
          ],
          "name": "stdout"
        }
      ]
    },
    {
      "cell_type": "code",
      "metadata": {
        "id": "IjgM0km3SUnt"
      },
      "source": [
        "processed = []\r\n",
        "for t in ct2:\r\n",
        "    processed.append(preprocess(t, snowball)) # apply stemming, stopword removal, tokenization"
      ],
      "execution_count": 25,
      "outputs": []
    },
    {
      "cell_type": "code",
      "metadata": {
        "id": "NjIPDHS8SUnt",
        "colab": {
          "base_uri": "https://localhost:8080/"
        },
        "outputId": "a82eb3c9-a6a1-4bd7-f27f-ec3118a26b91"
      },
      "source": [
        "print(processed[:2]) "
      ],
      "execution_count": 29,
      "outputs": [
        {
          "output_type": "stream",
          "text": [
            "[['review', 'mention', 'watch', 'episod', 'hook', 'right', 'exact', 'happen', 'thing', 'strike', 'brutal', 'unflinch', 'scene', 'violenc', 'right', 'word', 'trust', 'faint', 'heart', 'timid', 'pull', 'punch', 'regard', 'drug', 'violenc', 'hardcor', 'classic', 'word', 'call', 'nicknam', 'give', 'oswald', 'maximum', 'secur', 'state', 'penitentari', 'focus', 'main', 'emerald', 'citi', 'experiment', 'section', 'prison', 'cell', 'glass', 'front', 'face', 'inward', 'privaci', 'high', 'agenda', 'citi', 'home', 'aryan', 'muslim', 'gangsta', 'latino', 'christian', 'italian', 'irish', 'scuffl', 'death', 'star', 'dodgi', 'deal', 'shadi', 'agreement', 'away', 'main', 'appeal', 'fact', 'go', 'show', 'wouldn', 'dare', 'forget', 'pretti', 'pictur', 'paint', 'mainstream', 'audienc', 'forget', 'charm', 'forget', 'romanc', 'mess', 'episod', 'strike', 'nasti', 'surreal', 'couldn', 'readi', 'watch', 'develop', 'tast', 'accustom', 'high', 'level', 'graphic', 'violenc', 'violenc', 'injustic', 'crook', 'guard', 'sell', 'nickel', 'inmat', 'kill', 'order', 'away', 'manner', 'middl', 'class', 'inmat', 'turn', 'prison', 'bitch', 'lack', 'street', 'skill', 'prison', 'experi', 'watch', 'comfort', 'uncomfort', 'view', 'that', 'touch', 'darker'], ['wonder', 'littl', 'product', 'film', 'techniqu', 'unassum', 'time', 'fashion', 'give', 'comfort', 'discomfort', 'sens', 'realism', 'entir', 'piec', 'actor', 'extrem', 'choos', 'michael', 'sheen', 'polari', 'voic', 'truli', 'seamless', 'edit', 'guid', 'refer', 'william', 'diari', 'entri', 'worth', 'watch', 'terrif', 'write', 'perform', 'piec', 'master', 'product', 'great', 'master', 'comedi', 'life', 'realism', 'come', 'home', 'littl', 'thing', 'fantasi', 'guard', 'tradit', 'dream', 'techniqu', 'remain', 'solid', 'disappear', 'play', 'knowledg', 'sens', 'particular', 'scene', 'concern', 'orton', 'halliwel', 'set', 'particular', 'flat', 'halliwel', 'mural', 'decor', 'surfac', 'terribl']]\n"
          ],
          "name": "stdout"
        }
      ]
    },
    {
      "cell_type": "code",
      "metadata": {
        "id": "R8LACO4jSUnu"
      },
      "source": [
        "dictionary = gensim.corpora.Dictionary(processed) # create a dictionary object"
      ],
      "execution_count": 30,
      "outputs": []
    },
    {
      "cell_type": "code",
      "metadata": {
        "id": "QuwvMJcSSUnu",
        "colab": {
          "base_uri": "https://localhost:8080/"
        },
        "outputId": "50755630-8a32-4fbf-df7c-1302dba9ac9f"
      },
      "source": [
        "count = 0\r\n",
        "for k, v in dictionary.iteritems():\r\n",
        "    print(k, v)\r\n",
        "    count += 1\r\n",
        "    if count > 10:\r\n",
        "        break"
      ],
      "execution_count": 31,
      "outputs": [
        {
          "output_type": "stream",
          "text": [
            "0 accustom\n",
            "1 agenda\n",
            "2 agreement\n",
            "3 appeal\n",
            "4 aryan\n",
            "5 audienc\n",
            "6 away\n",
            "7 bitch\n",
            "8 brutal\n",
            "9 call\n",
            "10 cell\n"
          ],
          "name": "stdout"
        }
      ]
    },
    {
      "cell_type": "code",
      "metadata": {
        "id": "zDRsfaYcSUnv"
      },
      "source": [
        "dictionary.filter_extremes(no_below=15, no_above=0.1, keep_n= 100000) # remove extremes\r\n",
        "bow_corpus = [dictionary.doc2bow(doc) for doc in processed] # bag of words collection (corpus) ##  contains each word’s token’s id along with its frequency count in the document.\r\n"
      ],
      "execution_count": 32,
      "outputs": []
    },
    {
      "cell_type": "markdown",
      "metadata": {
        "id": "gRrbQcBMxJ6D"
      },
      "source": [
        "[source](https://www.tutorialspoint.com/gensim/gensim_creating_a_dictionary.htm) # Gensim\r\n"
      ]
    },
    {
      "cell_type": "code",
      "metadata": {
        "id": "c1v9DtIPSUnv"
      },
      "source": [
        "bow_corpus = [dictionary.doc2bow(doc) for doc in processed]"
      ],
      "execution_count": 257,
      "outputs": []
    },
    {
      "cell_type": "code",
      "metadata": {
        "id": "P_RMp66KSUnv",
        "colab": {
          "base_uri": "https://localhost:8080/"
        },
        "outputId": "ebc0572a-55a0-4164-fd07-31b305d7a59a"
      },
      "source": [
        "document_num = 20\r\n",
        "bow_doc_x = bow_corpus[document_num]\r\n",
        "for i in range(len(bow_doc_x)):\r\n",
        "    print(\"Word {} (\\\"{}\\\") appears {} time.\".format(bow_doc_x[i][0], \r\n",
        "                                                     dictionary[bow_doc_x[i][0]], \r\n",
        "                                                     bow_doc_x[i][1]))"
      ],
      "execution_count": 33,
      "outputs": [
        {
          "output_type": "stream",
          "text": [
            "Word 22 (\"death\") appears 1 time.\n",
            "Word 33 (\"forget\") appears 2 time.\n",
            "Word 55 (\"mention\") appears 1 time.\n",
            "Word 79 (\"skill\") appears 1 time.\n",
            "Word 101 (\"dream\") appears 1 time.\n",
            "Word 112 (\"michael\") appears 1 time.\n",
            "Word 138 (\"career\") appears 1 time.\n",
            "Word 151 (\"jump\") appears 1 time.\n",
            "Word 152 (\"killer\") appears 1 time.\n",
            "Word 153 (\"laugh\") appears 1 time.\n",
            "Word 156 (\"manag\") appears 1 time.\n",
            "Word 162 (\"serial\") appears 1 time.\n",
            "Word 174 (\"wear\") appears 1 time.\n",
            "Word 188 (\"expect\") appears 1 time.\n",
            "Word 225 (\"human\") appears 1 time.\n",
            "Word 236 (\"portrait\") appears 1 time.\n",
            "Word 250 (\"success\") appears 1 time.\n",
            "Word 324 (\"band\") appears 1 time.\n",
            "Word 332 (\"entertain\") appears 1 time.\n",
            "Word 346 (\"pain\") appears 1 time.\n",
            "Word 380 (\"base\") appears 1 time.\n",
            "Word 403 (\"care\") appears 1 time.\n",
            "Word 435 (\"unintent\") appears 1 time.\n",
            "Word 447 (\"deliv\") appears 1 time.\n",
            "Word 451 (\"evil\") appears 1 time.\n",
            "Word 462 (\"kick\") appears 1 time.\n",
            "Word 485 (\"shoot\") appears 1 time.\n",
            "Word 514 (\"constant\") appears 1 time.\n",
            "Word 543 (\"nonsens\") appears 1 time.\n",
            "Word 584 (\"thrill\") appears 1 time.\n",
            "Word 622 (\"wait\") appears 1 time.\n",
            "Word 668 (\"agent\") appears 1 time.\n",
            "Word 669 (\"anybodi\") appears 1 time.\n",
            "Word 670 (\"aviat\") appears 1 time.\n",
            "Word 671 (\"baddi\") appears 1 time.\n",
            "Word 672 (\"brit\") appears 1 time.\n",
            "Word 673 (\"burn\") appears 1 time.\n",
            "Word 674 (\"captor\") appears 1 time.\n",
            "Word 675 (\"cash\") appears 1 time.\n",
            "Word 676 (\"cliffhang\") appears 2 time.\n",
            "Word 677 (\"climb\") appears 1 time.\n",
            "Word 678 (\"concept\") appears 1 time.\n",
            "Word 679 (\"craig\") appears 1 time.\n",
            "Word 680 (\"cring\") appears 1 time.\n",
            "Word 681 (\"disbelief\") appears 1 time.\n",
            "Word 682 (\"dismiss\") appears 1 time.\n",
            "Word 683 (\"especi\") appears 1 time.\n",
            "Word 684 (\"excus\") appears 1 time.\n",
            "Word 685 (\"expert\") appears 1 time.\n",
            "Word 686 (\"express\") appears 1 time.\n",
            "Word 687 (\"facial\") appears 1 time.\n",
            "Word 688 (\"footbal\") appears 1 time.\n",
            "Word 689 (\"frank\") appears 1 time.\n",
            "Word 690 (\"grin\") appears 1 time.\n",
            "Word 691 (\"hapless\") appears 1 time.\n",
            "Word 692 (\"harass\") appears 1 time.\n",
            "Word 693 (\"helicopt\") appears 1 time.\n",
            "Word 694 (\"help\") appears 1 time.\n",
            "Word 695 (\"henri\") appears 1 time.\n",
            "Word 696 (\"hors\") appears 1 time.\n",
            "Word 697 (\"hurt\") appears 1 time.\n",
            "Word 698 (\"insist\") appears 1 time.\n",
            "Word 699 (\"john\") appears 1 time.\n",
            "Word 700 (\"judgement\") appears 1 time.\n",
            "Word 701 (\"junk\") appears 1 time.\n",
            "Word 702 (\"lithgow\") appears 1 time.\n",
            "Word 703 (\"london\") appears 1 time.\n",
            "Word 704 (\"lovabl\") appears 1 time.\n",
            "Word 705 (\"lower\") appears 1 time.\n",
            "Word 706 (\"mountain\") appears 2 time.\n",
            "Word 707 (\"noteworthi\") appears 1 time.\n",
            "Word 708 (\"overblown\") appears 1 time.\n",
            "Word 709 (\"perman\") appears 1 time.\n",
            "Word 710 (\"pile\") appears 1 time.\n",
            "Word 711 (\"plenti\") appears 2 time.\n",
            "Word 712 (\"plummet\") appears 1 time.\n",
            "Word 713 (\"ralph\") appears 1 time.\n",
            "Word 714 (\"rescu\") appears 1 time.\n",
            "Word 715 (\"romp\") appears 1 time.\n",
            "Word 716 (\"rooker\") appears 1 time.\n",
            "Word 717 (\"sequel\") appears 1 time.\n",
            "Word 718 (\"shriek\") appears 1 time.\n",
            "Word 719 (\"stallon\") appears 2 time.\n",
            "Word 720 (\"stop\") appears 1 time.\n",
            "Word 721 (\"surpris\") appears 1 time.\n",
            "Word 722 (\"tick\") appears 1 time.\n",
            "Word 723 (\"undeni\") appears 1 time.\n",
            "Word 724 (\"volum\") appears 1 time.\n",
            "Word 725 (\"whilst\") appears 2 time.\n",
            "Word 726 (\"worthi\") appears 1 time.\n",
            "Word 727 (\"wrong\") appears 3 time.\n"
          ],
          "name": "stdout"
        }
      ]
    },
    {
      "cell_type": "markdown",
      "metadata": {
        "id": "GpSwr2qWyAiZ"
      },
      "source": [
        "# Topic Modeling"
      ]
    },
    {
      "cell_type": "code",
      "metadata": {
        "id": "UVGpgE2wy4OW"
      },
      "source": [
        "lda_model =  gensim.models.LdaMulticore(bow_corpus,num_topics = 8, id2word = dictionary, passes = 10, workers = 2)"
      ],
      "execution_count": 39,
      "outputs": []
    },
    {
      "cell_type": "code",
      "metadata": {
        "colab": {
          "base_uri": "https://localhost:8080/"
        },
        "id": "YG3zwLa00-bk",
        "outputId": "f72759bc-bf79-4075-ffaa-6d70ae05b935"
      },
      "source": [
        "topics = lda_model.print_topics(num_words=4) # 8 topics\r\n",
        "for topic in topics:\r\n",
        "    print(topic)"
      ],
      "execution_count": 42,
      "outputs": [
        {
          "output_type": "stream",
          "text": [
            "(0, '0.019*\"horror\" + 0.007*\"killer\" + 0.005*\"blood\" + 0.005*\"monster\"')\n",
            "(1, '0.018*\"book\" + 0.008*\"read\" + 0.007*\"novel\" + 0.005*\"match\"')\n",
            "(2, '0.006*\"american\" + 0.005*\"fight\" + 0.004*\"soldier\" + 0.004*\"alien\"')\n",
            "(3, '0.007*\"famili\" + 0.005*\"wife\" + 0.005*\"father\" + 0.004*\"home\"')\n",
            "(4, '0.004*\"beauti\" + 0.004*\"emot\" + 0.003*\"viewer\" + 0.003*\"famili\"')\n",
            "(5, '0.008*\"worst\" + 0.008*\"laugh\" + 0.007*\"wast\" + 0.006*\"bore\"')\n",
            "(6, '0.011*\"seri\" + 0.008*\"anim\" + 0.007*\"episod\" + 0.006*\"version\"')\n",
            "(7, '0.008*\"danc\" + 0.005*\"actress\" + 0.004*\"sing\" + 0.004*\"jane\"')\n"
          ],
          "name": "stdout"
        }
      ]
    },
    {
      "cell_type": "markdown",
      "metadata": {
        "id": "yZyTaY0Y4QqI"
      },
      "source": [
        "\r\n",
        "*   Topic 1 - horror movies\r\n",
        "*   Topic 2 - movies based on books \r\n",
        "*   Topic 3 - american military movies \r\n",
        "*   Topic 4 - family movies\r\n",
        "*   Topic 5 - probably good reviews \r\n",
        "*   Topic 6 - bad reviews \r\n",
        "*   Topic 7 - tv shows, anime \r\n",
        "*   Topic 8 - musicals "
      ]
    }
  ]
}